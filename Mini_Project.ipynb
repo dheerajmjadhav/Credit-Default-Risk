{
 "cells": [
  {
   "cell_type": "code",
   "execution_count": 0,
   "metadata": {
    "application/vnd.databricks.v1+cell": {
     "inputWidgets": {},
     "nuid": "3990a9cd-9707-4654-bc0f-781785728422",
     "showTitle": false,
     "title": ""
    }
   },
   "outputs": [
    {
     "data": {
      "text/html": [
       "<style scoped>\n",
       "  .ansiout {\n",
       "    display: block;\n",
       "    unicode-bidi: embed;\n",
       "    white-space: pre-wrap;\n",
       "    word-wrap: break-word;\n",
       "    word-break: break-all;\n",
       "    font-family: \"Source Code Pro\", \"Menlo\", monospace;;\n",
       "    font-size: 13px;\n",
       "    color: #555;\n",
       "    margin-left: 4px;\n",
       "    line-height: 19px;\n",
       "  }\n",
       "</style>\n",
       "<div class=\"ansiout\"></div>"
      ]
     },
     "metadata": {
      "application/vnd.databricks.v1+output": {
       "addedWidgets": {},
       "arguments": {},
       "data": "<div class=\"ansiout\"></div>",
       "datasetInfos": [
        {
         "name": "df1",
         "schema": {
          "fields": [
           {
            "metadata": {},
            "name": "_c0",
            "nullable": true,
            "type": "integer"
           },
           {
            "metadata": {},
            "name": "_c1",
            "nullable": true,
            "type": "string"
           },
           {
            "metadata": {},
            "name": "_c2",
            "nullable": true,
            "type": "string"
           },
           {
            "metadata": {},
            "name": "_c3",
            "nullable": true,
            "type": "string"
           },
           {
            "metadata": {},
            "name": "_c4",
            "nullable": true,
            "type": "string"
           },
           {
            "metadata": {},
            "name": "_c5",
            "nullable": true,
            "type": "integer"
           },
           {
            "metadata": {},
            "name": "_c6",
            "nullable": true,
            "type": "double"
           },
           {
            "metadata": {},
            "name": "_c7",
            "nullable": true,
            "type": "double"
           },
           {
            "metadata": {},
            "name": "_c8",
            "nullable": true,
            "type": "double"
           },
           {
            "metadata": {},
            "name": "_c9",
            "nullable": true,
            "type": "string"
           },
           {
            "metadata": {},
            "name": "_c10",
            "nullable": true,
            "type": "string"
           },
           {
            "metadata": {},
            "name": "_c11",
            "nullable": true,
            "type": "string"
           },
           {
            "metadata": {},
            "name": "_c12",
            "nullable": true,
            "type": "string"
           },
           {
            "metadata": {},
            "name": "_c13",
            "nullable": true,
            "type": "integer"
           },
           {
            "metadata": {},
            "name": "_c14",
            "nullable": true,
            "type": "integer"
           },
           {
            "metadata": {},
            "name": "_c15",
            "nullable": true,
            "type": "integer"
           },
           {
            "metadata": {},
            "name": "_c16",
            "nullable": true,
            "type": "integer"
           },
           {
            "metadata": {},
            "name": "_c17",
            "nullable": true,
            "type": "integer"
           },
           {
            "metadata": {},
            "name": "_c18",
            "nullable": true,
            "type": "integer"
           },
           {
            "metadata": {},
            "name": "_c19",
            "nullable": true,
            "type": "integer"
           },
           {
            "metadata": {},
            "name": "_c20",
            "nullable": true,
            "type": "integer"
           },
           {
            "metadata": {},
            "name": "_c21",
            "nullable": true,
            "type": "integer"
           },
           {
            "metadata": {},
            "name": "_c22",
            "nullable": true,
            "type": "integer"
           },
           {
            "metadata": {},
            "name": "_c23",
            "nullable": true,
            "type": "integer"
           },
           {
            "metadata": {},
            "name": "_c24",
            "nullable": true,
            "type": "integer"
           },
           {
            "metadata": {},
            "name": "_c25",
            "nullable": true,
            "type": "string"
           },
           {
            "metadata": {},
            "name": "_c26",
            "nullable": true,
            "type": "integer"
           },
           {
            "metadata": {},
            "name": "_c27",
            "nullable": true,
            "type": "integer"
           },
           {
            "metadata": {},
            "name": "_c28",
            "nullable": true,
            "type": "integer"
           },
           {
            "metadata": {},
            "name": "_c29",
            "nullable": true,
            "type": "integer"
           },
           {
            "metadata": {},
            "name": "_c30",
            "nullable": true,
            "type": "integer"
           },
           {
            "metadata": {},
            "name": "_c31",
            "nullable": true,
            "type": "integer"
           },
           {
            "metadata": {},
            "name": "_c32",
            "nullable": true,
            "type": "integer"
           },
           {
            "metadata": {},
            "name": "_c33",
            "nullable": true,
            "type": "integer"
           },
           {
            "metadata": {},
            "name": "_c34",
            "nullable": true,
            "type": "integer"
           },
           {
            "metadata": {},
            "name": "_c35",
            "nullable": true,
            "type": "integer"
           },
           {
            "metadata": {},
            "name": "_c36",
            "nullable": true,
            "type": "integer"
           }
          ],
          "type": "struct"
         },
         "tableIdentifier": null,
         "typeStr": "pyspark.sql.dataframe.DataFrame"
        }
       ],
       "metadata": {},
       "removedWidgets": [],
       "type": "html"
      }
     },
     "output_type": "display_data"
    }
   ],
   "source": [
    "df1 = spark.read.csv(\"/FileStore/tables/data.csv\",inferSchema= True) "
   ]
  },
  {
   "cell_type": "code",
   "execution_count": 0,
   "metadata": {
    "application/vnd.databricks.v1+cell": {
     "inputWidgets": {},
     "nuid": "79c4d3fa-7dd3-47b1-9069-80b69e3c2754",
     "showTitle": false,
     "title": ""
    }
   },
   "outputs": [
    {
     "data": {
      "text/html": [
       "<style scoped>\n",
       "  .ansiout {\n",
       "    display: block;\n",
       "    unicode-bidi: embed;\n",
       "    white-space: pre-wrap;\n",
       "    word-wrap: break-word;\n",
       "    word-break: break-all;\n",
       "    font-family: \"Source Code Pro\", \"Menlo\", monospace;;\n",
       "    font-size: 13px;\n",
       "    color: #555;\n",
       "    margin-left: 4px;\n",
       "    line-height: 19px;\n",
       "  }\n",
       "</style>\n",
       "<div class=\"ansiout\"></div>"
      ]
     },
     "metadata": {
      "application/vnd.databricks.v1+output": {
       "addedWidgets": {},
       "arguments": {},
       "data": "<div class=\"ansiout\"></div>",
       "datasetInfos": [],
       "metadata": {},
       "removedWidgets": [],
       "type": "html"
      }
     },
     "output_type": "display_data"
    }
   ],
   "source": [
    "df2=df1.toPandas()"
   ]
  },
  {
   "cell_type": "code",
   "execution_count": 0,
   "metadata": {
    "application/vnd.databricks.v1+cell": {
     "inputWidgets": {},
     "nuid": "2a29c1eb-a0be-48f2-be4c-d2fcf97a553c",
     "showTitle": false,
     "title": ""
    }
   },
   "outputs": [
    {
     "data": {
      "text/html": [
       "<style scoped>\n",
       "  .ansiout {\n",
       "    display: block;\n",
       "    unicode-bidi: embed;\n",
       "    white-space: pre-wrap;\n",
       "    word-wrap: break-word;\n",
       "    word-break: break-all;\n",
       "    font-family: \"Source Code Pro\", \"Menlo\", monospace;;\n",
       "    font-size: 13px;\n",
       "    color: #555;\n",
       "    margin-left: 4px;\n",
       "    line-height: 19px;\n",
       "  }\n",
       "</style>\n",
       "<div class=\"ansiout\"></div>"
      ]
     },
     "metadata": {
      "application/vnd.databricks.v1+output": {
       "addedWidgets": {},
       "arguments": {},
       "data": "<div class=\"ansiout\"></div>",
       "datasetInfos": [],
       "metadata": {},
       "removedWidgets": [],
       "type": "html"
      }
     },
     "output_type": "display_data"
    }
   ],
   "source": [
    "list1=[\"TARGET\",\"NAME_CONTRACT_TYPE\",\"CODE_GENDER\",\"FLAG_OWN_CAR\",\"FLAG_OWN_REALTY\",\"CNT_CHILDREN\",\"AMT_INCOME_TOTAL\",\"AMT_CREDIT\",\"AMT_ANNUITY\",\"NAME_INCOME_TYPE\",\"NAME_EDUCATION_TYPE\",\"NAME_FAMILY_STATUS\",\"NAME_HOUSING_TYPE\",\"DAYS_BIRTH\",\"DAYS_EMPLOYED\",\"OWN_CAR_AGE\",\"FLAG_MOBIL\",\"FLAG_EMP_PHONE\",\"FLAG_WORK_PHONE\",\"FLAG_CONT_MOBILE\",\"FLAG_PHONE\",\"OCCUPATION_TYPE\",\"CNT_FAM_MEMBERS\",\"REGION_RATING_CLIENT\",\"REGION_RATING_CLIENT_W_CITY\",\"REG_REGION_NOT_LIVE_REGION\",\"REG_REGION_NOT_WORK_REGION\",\"ORGANIZATION_TYPE\",\"FLAG_DOCUMENT_2\",\"FLAG_DOCUMENT_3\",\"FLAG_DOCUMENT_4\",\"FLAG_DOCUMENT_5\",\"FLAG_DOCUMENT_6\",\"FLAG_DOCUMENT_7\",\"FLAG_DOCUMENT_8\",\"FLAG_DOCUMENT_9\",\"FLAG_DOCUMENT_10\"]"
   ]
  },
  {
   "cell_type": "code",
   "execution_count": 0,
   "metadata": {
    "application/vnd.databricks.v1+cell": {
     "inputWidgets": {},
     "nuid": "deaf2c0d-fb7d-4cca-988d-858782614c67",
     "showTitle": false,
     "title": ""
    }
   },
   "outputs": [
    {
     "data": {
      "text/html": [
       "<style scoped>\n",
       "  .ansiout {\n",
       "    display: block;\n",
       "    unicode-bidi: embed;\n",
       "    white-space: pre-wrap;\n",
       "    word-wrap: break-word;\n",
       "    word-break: break-all;\n",
       "    font-family: \"Source Code Pro\", \"Menlo\", monospace;;\n",
       "    font-size: 13px;\n",
       "    color: #555;\n",
       "    margin-left: 4px;\n",
       "    line-height: 19px;\n",
       "  }\n",
       "</style>\n",
       "<div class=\"ansiout\"></div>"
      ]
     },
     "metadata": {
      "application/vnd.databricks.v1+output": {
       "addedWidgets": {},
       "arguments": {},
       "data": "<div class=\"ansiout\"></div>",
       "datasetInfos": [],
       "metadata": {},
       "removedWidgets": [],
       "type": "html"
      }
     },
     "output_type": "display_data"
    },
    {
     "data": {
      "text/html": [
       "<style scoped>\n",
       "  .ansiout {\n",
       "    display: block;\n",
       "    unicode-bidi: embed;\n",
       "    white-space: pre-wrap;\n",
       "    word-wrap: break-word;\n",
       "    word-break: break-all;\n",
       "    font-family: \"Source Code Pro\", \"Menlo\", monospace;;\n",
       "    font-size: 13px;\n",
       "    color: #555;\n",
       "    margin-left: 4px;\n",
       "    line-height: 19px;\n",
       "  }\n",
       "</style>\n",
       "<div class=\"ansiout\"><span class=\"ansi-red-fg\">---------------------------------------------------------------------------</span>\n",
       "<span class=\"ansi-red-fg\">AttributeError</span>                            Traceback (most recent call last)\n",
       "<span class=\"ansi-green-fg\">&lt;command-2222776008044408&gt;</span> in <span class=\"ansi-cyan-fg\">&lt;module&gt;</span>\n",
       "<span class=\"ansi-green-fg\">----&gt; 1</span><span class=\"ansi-red-fg\"> </span>df2<span class=\"ansi-blue-fg\">.</span>columns<span class=\"ansi-blue-fg\">=</span>list1\n",
       "<span class=\"ansi-green-intense-fg ansi-bold\">      2</span> df2<span class=\"ansi-blue-fg\">=</span>spark<span class=\"ansi-blue-fg\">.</span>createDataFrame<span class=\"ansi-blue-fg\">(</span>df2<span class=\"ansi-blue-fg\">)</span>\n",
       "\n",
       "<span class=\"ansi-red-fg\">AttributeError</span>: can&#39;t set attribute</div>"
      ]
     },
     "metadata": {
      "application/vnd.databricks.v1+output": {
       "arguments": {},
       "data": "<div class=\"ansiout\"><span class=\"ansi-red-fg\">---------------------------------------------------------------------------</span>\n<span class=\"ansi-red-fg\">AttributeError</span>                            Traceback (most recent call last)\n<span class=\"ansi-green-fg\">&lt;command-2222776008044408&gt;</span> in <span class=\"ansi-cyan-fg\">&lt;module&gt;</span>\n<span class=\"ansi-green-fg\">----&gt; 1</span><span class=\"ansi-red-fg\"> </span>df2<span class=\"ansi-blue-fg\">.</span>columns<span class=\"ansi-blue-fg\">=</span>list1\n<span class=\"ansi-green-intense-fg ansi-bold\">      2</span> df2<span class=\"ansi-blue-fg\">=</span>spark<span class=\"ansi-blue-fg\">.</span>createDataFrame<span class=\"ansi-blue-fg\">(</span>df2<span class=\"ansi-blue-fg\">)</span>\n\n<span class=\"ansi-red-fg\">AttributeError</span>: can&#39;t set attribute</div>",
       "errorSummary": "<span class=\"ansi-red-fg\">AttributeError</span>: can&#39;t set attribute",
       "errorTraceType": "html",
       "metadata": {},
       "type": "ipynbError"
      }
     },
     "output_type": "display_data"
    }
   ],
   "source": [
    "df2.columns=list1\n",
    "df2=spark.createDataFrame(df2)"
   ]
  },
  {
   "cell_type": "code",
   "execution_count": 0,
   "metadata": {
    "application/vnd.databricks.v1+cell": {
     "inputWidgets": {},
     "nuid": "a7f68f01-03f8-419b-a0ec-c06025435ef5",
     "showTitle": false,
     "title": ""
    }
   },
   "outputs": [
    {
     "data": {
      "text/html": [
       "<style scoped>\n",
       "  .ansiout {\n",
       "    display: block;\n",
       "    unicode-bidi: embed;\n",
       "    white-space: pre-wrap;\n",
       "    word-wrap: break-word;\n",
       "    word-break: break-all;\n",
       "    font-family: \"Source Code Pro\", \"Menlo\", monospace;;\n",
       "    font-size: 13px;\n",
       "    color: #555;\n",
       "    margin-left: 4px;\n",
       "    line-height: 19px;\n",
       "  }\n",
       "</style>\n",
       "<div class=\"ansiout\">+------+------------------+-----------+------------+---------------+------------+----------------+----------+-----------+--------------------+--------------------+--------------------+-----------------+----------+-------------+-----------+----------+--------------+---------------+----------------+----------+---------------+---------------+--------------------+---------------------------+--------------------------+--------------------------+-----------------+---------------+---------------+---------------+---------------+---------------+---------------+---------------+---------------+----------------+\n",
       "TARGET|NAME_CONTRACT_TYPE|CODE_GENDER|FLAG_OWN_CAR|FLAG_OWN_REALTY|CNT_CHILDREN|AMT_INCOME_TOTAL|AMT_CREDIT|AMT_ANNUITY|    NAME_INCOME_TYPE| NAME_EDUCATION_TYPE|  NAME_FAMILY_STATUS|NAME_HOUSING_TYPE|DAYS_BIRTH|DAYS_EMPLOYED|OWN_CAR_AGE|FLAG_MOBIL|FLAG_EMP_PHONE|FLAG_WORK_PHONE|FLAG_CONT_MOBILE|FLAG_PHONE|OCCUPATION_TYPE|CNT_FAM_MEMBERS|REGION_RATING_CLIENT|REGION_RATING_CLIENT_W_CITY|REG_REGION_NOT_LIVE_REGION|REG_REGION_NOT_WORK_REGION|ORGANIZATION_TYPE|FLAG_DOCUMENT_2|FLAG_DOCUMENT_3|FLAG_DOCUMENT_4|FLAG_DOCUMENT_5|FLAG_DOCUMENT_6|FLAG_DOCUMENT_7|FLAG_DOCUMENT_8|FLAG_DOCUMENT_9|FLAG_DOCUMENT_10|\n",
       "+------+------------------+-----------+------------+---------------+------------+----------------+----------+-----------+--------------------+--------------------+--------------------+-----------------+----------+-------------+-----------+----------+--------------+---------------+----------------+----------+---------------+---------------+--------------------+---------------------------+--------------------------+--------------------------+-----------------+---------------+---------------+---------------+---------------+---------------+---------------+---------------+---------------+----------------+\n",
       "     1|        Cash loans|          M|           N|              Y|           0|        202500.0|  406597.5|    24700.5|             Working|Secondary / secon...|Single / not married|House / apartment|     -9461|         -637|          1|         1|             0|              1|               1|         1|              2|              2|                   0|                          0|      Business Entity T...|                         0|                1|              0|              0|              0|              0|              0|              0|              0|              0|               0|\n",
       "     0|        Cash loans|          F|           N|              N|           0|        270000.0| 1293502.5|    35698.5|       State servant|    Higher education|             Married|House / apartment|    -16765|        -1188|          1|         1|             0|              1|               1|         2|              1|              1|                   0|                          0|                    School|                         0|                1|              0|              0|              0|              0|              0|              0|              0|              0|               0|\n",
       "     0|   Revolving loans|          M|           Y|              Y|           0|         67500.0|  135000.0|     6750.0|             Working|Secondary / secon...|Single / not married|House / apartment|    -19046|         -225|          1|         1|             1|              1|               1|         1|              2|              2|                   0|                          0|                Government|                         0|                0|              0|              0|              0|              0|              0|              0|              0|              0|               0|\n",
       "     0|        Cash loans|          F|           N|              Y|           0|        135000.0|  312682.5|    29686.5|             Working|Secondary / secon...|      Civil marriage|House / apartment|    -19005|        -3039|          1|         1|             0|              1|               0|         2|              2|              2|                   0|                          0|      Business Entity T...|                         0|                1|              0|              0|              0|              0|              0|              0|              0|              0|               0|\n",
       "     0|        Cash loans|          M|           N|              Y|           0|        121500.0|  513000.0|    21865.5|             Working|Secondary / secon...|Single / not married|House / apartment|    -19932|        -3038|          1|         1|             0|              1|               0|         1|              2|              2|                   0|                          0|                  Religion|                         0|                0|              0|              0|              0|              0|              1|              0|              0|              0|               0|\n",
       "     0|        Cash loans|          M|           N|              Y|           0|         99000.0|  490495.5|    27517.5|       State servant|Secondary / secon...|             Married|House / apartment|    -16941|        -1588|          1|         1|             1|              1|               1|         2|              2|              2|                   0|                          0|                     Other|                         0|                1|              0|              0|              0|              0|              0|              0|              0|              0|               0|\n",
       "     0|        Cash loans|          F|           Y|              Y|           1|        171000.0| 1560726.0|    41301.0|Commercial associate|    Higher education|             Married|House / apartment|    -13778|        -3130|          1|         1|             0|              1|               1|         3|              2|              2|                   0|                          0|      Business Entity T...|                         0|                0|              0|              0|              0|              0|              1|              0|              0|              0|               0|\n",
       "     0|        Cash loans|          M|           Y|              Y|           0|        360000.0| 1530000.0|    42075.0|       State servant|    Higher education|             Married|House / apartment|    -18850|         -449|          1|         1|             1|              1|               0|         2|              3|              3|                   0|                          0|                     Other|                         0|                1|              0|              0|              0|              0|              0|              0|              0|              0|               0|\n",
       "     0|        Cash loans|          F|           N|              Y|           0|        112500.0| 1019610.0|    33826.5|           Pensioner|Secondary / secon...|             Married|House / apartment|    -20099|       365243|          1|         0|             0|              1|               0|         2|              2|              2|                   0|                          0|                       XNA|                         0|                1|              0|              0|              0|              0|              0|              0|              0|              0|               0|\n",
       "     0|   Revolving loans|          M|           N|              Y|           0|        135000.0|  405000.0|    20250.0|             Working|Secondary / secon...|Single / not married|House / apartment|    -14469|        -2019|          1|         1|             0|              1|               0|         1|              2|              2|                   0|                          0|               Electricity|                         0|                0|              0|              0|              0|              0|              0|              0|              0|              0|               0|\n",
       "     0|        Cash loans|          F|           N|              Y|           1|        112500.0|  652500.0|    21177.0|             Working|    Higher education|             Married|House / apartment|    -10197|         -679|          1|         1|             0|              1|               0|         3|              2|              2|                   0|                          0|                  Medicine|                         0|                1|              0|              0|              0|              0|              0|              0|              0|              0|               0|\n",
       "     0|        Cash loans|          F|           N|              Y|           0|       38419.155|  148365.0|    10678.5|           Pensioner|Secondary / secon...|             Married|House / apartment|    -20417|       365243|          1|         0|             0|              1|               1|         2|              2|              2|                   0|                          0|                       XNA|                         0|                0|              0|              0|              1|              0|              0|              0|              0|              0|               0|\n",
       "     0|        Cash loans|          F|           N|              Y|           0|         67500.0|   80865.0|     5881.5|             Working|Secondary / secon...|             Married|House / apartment|    -13439|        -2717|          1|         1|             1|              1|               1|         2|              2|              2|                   0|                          0|      Business Entity T...|                         0|                1|              0|              0|              0|              0|              0|              0|              0|              0|               0|\n",
       "     0|        Cash loans|          M|           Y|              N|           1|        225000.0|  918468.0|    28966.5|             Working|Secondary / secon...|             Married|House / apartment|    -14086|        -3028|          1|         1|             0|              1|               0|         3|              2|              2|                   0|                          0|             Self-employed|                         0|                1|              0|              0|              0|              0|              0|              0|              0|              0|               0|\n",
       "     0|        Cash loans|          F|           N|              Y|           0|        189000.0|  773680.5|    32778.0|             Working|Secondary / secon...|             Married|House / apartment|    -14583|         -203|          1|         1|             0|              1|               0|         2|              2|              1|                   0|                          0|         Transport: type 2|                         0|                1|              0|              0|              0|              0|              0|              0|              0|              0|               0|\n",
       "     0|        Cash loans|          M|           Y|              Y|           0|        157500.0|  299772.0|    20160.0|             Working|Secondary / secon...|Single / not married| Rented apartment|     -8728|        -1157|          1|         1|             0|              1|               0|         1|              3|              3|                   0|                          0|      Business Entity T...|                         0|                0|              0|              0|              0|              0|              1|              0|              0|              0|               0|\n",
       "     0|        Cash loans|          M|           N|              N|           0|        108000.0|  509602.5|    26149.5|             Working|Secondary / secon...|             Married|House / apartment|    -12931|        -1317|          1|         1|             0|              1|               0|         2|              2|              2|                   0|                          0|                Government|                         0|                1|              0|              0|              0|              0|              0|              0|              0|              0|               0|\n",
       "     0|   Revolving loans|          F|           N|              Y|           1|         81000.0|  270000.0|    13500.0|             Working|Secondary / secon...|             Married|House / apartment|     -9776|         -191|          1|         1|             0|              1|               0|         3|              2|              2|                   0|                          0|              Construction|                         0|                0|              0|              0|              0|              0|              0|              0|              0|              0|               0|\n",
       "     0|   Revolving loans|          F|           N|              Y|           0|        112500.0|  157500.0|     7875.0|             Working|Secondary / secon...|               Widow|House / apartment|    -17718|        -7804|          1|         1|             0|              1|               1|         1|              1|              1|                   0|                          0|                   Housing|                         0|                1|              0|              0|              0|              0|              0|              0|              0|              0|               0|\n",
       "     0|        Cash loans|          F|           N|              Y|           1|         90000.0|  544491.0|    17563.5|       State servant|    Higher education|Single / not married|House / apartment|    -11348|        -2038|          1|         1|             1|              1|               1|         2|              2|              2|                   0|                          0|              Kindergarten|                         0|                1|              0|              0|              0|              0|              0|              0|              0|              0|               0|\n",
       "+------+------------------+-----------+------------+---------------+------------+----------------+----------+-----------+--------------------+--------------------+--------------------+-----------------+----------+-------------+-----------+----------+--------------+---------------+----------------+----------+---------------+---------------+--------------------+---------------------------+--------------------------+--------------------------+-----------------+---------------+---------------+---------------+---------------+---------------+---------------+---------------+---------------+----------------+\n",
       "only showing top 20 rows\n",
       "\n",
       "</div>"
      ]
     },
     "metadata": {
      "application/vnd.databricks.v1+output": {
       "addedWidgets": {},
       "arguments": {},
       "data": "<div class=\"ansiout\">+------+------------------+-----------+------------+---------------+------------+----------------+----------+-----------+--------------------+--------------------+--------------------+-----------------+----------+-------------+-----------+----------+--------------+---------------+----------------+----------+---------------+---------------+--------------------+---------------------------+--------------------------+--------------------------+-----------------+---------------+---------------+---------------+---------------+---------------+---------------+---------------+---------------+----------------+\n|TARGET|NAME_CONTRACT_TYPE|CODE_GENDER|FLAG_OWN_CAR|FLAG_OWN_REALTY|CNT_CHILDREN|AMT_INCOME_TOTAL|AMT_CREDIT|AMT_ANNUITY|    NAME_INCOME_TYPE| NAME_EDUCATION_TYPE|  NAME_FAMILY_STATUS|NAME_HOUSING_TYPE|DAYS_BIRTH|DAYS_EMPLOYED|OWN_CAR_AGE|FLAG_MOBIL|FLAG_EMP_PHONE|FLAG_WORK_PHONE|FLAG_CONT_MOBILE|FLAG_PHONE|OCCUPATION_TYPE|CNT_FAM_MEMBERS|REGION_RATING_CLIENT|REGION_RATING_CLIENT_W_CITY|REG_REGION_NOT_LIVE_REGION|REG_REGION_NOT_WORK_REGION|ORGANIZATION_TYPE|FLAG_DOCUMENT_2|FLAG_DOCUMENT_3|FLAG_DOCUMENT_4|FLAG_DOCUMENT_5|FLAG_DOCUMENT_6|FLAG_DOCUMENT_7|FLAG_DOCUMENT_8|FLAG_DOCUMENT_9|FLAG_DOCUMENT_10|\n+------+------------------+-----------+------------+---------------+------------+----------------+----------+-----------+--------------------+--------------------+--------------------+-----------------+----------+-------------+-----------+----------+--------------+---------------+----------------+----------+---------------+---------------+--------------------+---------------------------+--------------------------+--------------------------+-----------------+---------------+---------------+---------------+---------------+---------------+---------------+---------------+---------------+----------------+\n|     1|        Cash loans|          M|           N|              Y|           0|        202500.0|  406597.5|    24700.5|             Working|Secondary / secon...|Single / not married|House / apartment|     -9461|         -637|          1|         1|             0|              1|               1|         1|              2|              2|                   0|                          0|      Business Entity T...|                         0|                1|              0|              0|              0|              0|              0|              0|              0|              0|               0|\n|     0|        Cash loans|          F|           N|              N|           0|        270000.0| 1293502.5|    35698.5|       State servant|    Higher education|             Married|House / apartment|    -16765|        -1188|          1|         1|             0|              1|               1|         2|              1|              1|                   0|                          0|                    School|                         0|                1|              0|              0|              0|              0|              0|              0|              0|              0|               0|\n|     0|   Revolving loans|          M|           Y|              Y|           0|         67500.0|  135000.0|     6750.0|             Working|Secondary / secon...|Single / not married|House / apartment|    -19046|         -225|          1|         1|             1|              1|               1|         1|              2|              2|                   0|                          0|                Government|                         0|                0|              0|              0|              0|              0|              0|              0|              0|              0|               0|\n|     0|        Cash loans|          F|           N|              Y|           0|        135000.0|  312682.5|    29686.5|             Working|Secondary / secon...|      Civil marriage|House / apartment|    -19005|        -3039|          1|         1|             0|              1|               0|         2|              2|              2|                   0|                          0|      Business Entity T...|                         0|                1|              0|              0|              0|              0|              0|              0|              0|              0|               0|\n|     0|        Cash loans|          M|           N|              Y|           0|        121500.0|  513000.0|    21865.5|             Working|Secondary / secon...|Single / not married|House / apartment|    -19932|        -3038|          1|         1|             0|              1|               0|         1|              2|              2|                   0|                          0|                  Religion|                         0|                0|              0|              0|              0|              0|              1|              0|              0|              0|               0|\n|     0|        Cash loans|          M|           N|              Y|           0|         99000.0|  490495.5|    27517.5|       State servant|Secondary / secon...|             Married|House / apartment|    -16941|        -1588|          1|         1|             1|              1|               1|         2|              2|              2|                   0|                          0|                     Other|                         0|                1|              0|              0|              0|              0|              0|              0|              0|              0|               0|\n|     0|        Cash loans|          F|           Y|              Y|           1|        171000.0| 1560726.0|    41301.0|Commercial associate|    Higher education|             Married|House / apartment|    -13778|        -3130|          1|         1|             0|              1|               1|         3|              2|              2|                   0|                          0|      Business Entity T...|                         0|                0|              0|              0|              0|              0|              1|              0|              0|              0|               0|\n|     0|        Cash loans|          M|           Y|              Y|           0|        360000.0| 1530000.0|    42075.0|       State servant|    Higher education|             Married|House / apartment|    -18850|         -449|          1|         1|             1|              1|               0|         2|              3|              3|                   0|                          0|                     Other|                         0|                1|              0|              0|              0|              0|              0|              0|              0|              0|               0|\n|     0|        Cash loans|          F|           N|              Y|           0|        112500.0| 1019610.0|    33826.5|           Pensioner|Secondary / secon...|             Married|House / apartment|    -20099|       365243|          1|         0|             0|              1|               0|         2|              2|              2|                   0|                          0|                       XNA|                         0|                1|              0|              0|              0|              0|              0|              0|              0|              0|               0|\n|     0|   Revolving loans|          M|           N|              Y|           0|        135000.0|  405000.0|    20250.0|             Working|Secondary / secon...|Single / not married|House / apartment|    -14469|        -2019|          1|         1|             0|              1|               0|         1|              2|              2|                   0|                          0|               Electricity|                         0|                0|              0|              0|              0|              0|              0|              0|              0|              0|               0|\n|     0|        Cash loans|          F|           N|              Y|           1|        112500.0|  652500.0|    21177.0|             Working|    Higher education|             Married|House / apartment|    -10197|         -679|          1|         1|             0|              1|               0|         3|              2|              2|                   0|                          0|                  Medicine|                         0|                1|              0|              0|              0|              0|              0|              0|              0|              0|               0|\n|     0|        Cash loans|          F|           N|              Y|           0|       38419.155|  148365.0|    10678.5|           Pensioner|Secondary / secon...|             Married|House / apartment|    -20417|       365243|          1|         0|             0|              1|               1|         2|              2|              2|                   0|                          0|                       XNA|                         0|                0|              0|              0|              1|              0|              0|              0|              0|              0|               0|\n|     0|        Cash loans|          F|           N|              Y|           0|         67500.0|   80865.0|     5881.5|             Working|Secondary / secon...|             Married|House / apartment|    -13439|        -2717|          1|         1|             1|              1|               1|         2|              2|              2|                   0|                          0|      Business Entity T...|                         0|                1|              0|              0|              0|              0|              0|              0|              0|              0|               0|\n|     0|        Cash loans|          M|           Y|              N|           1|        225000.0|  918468.0|    28966.5|             Working|Secondary / secon...|             Married|House / apartment|    -14086|        -3028|          1|         1|             0|              1|               0|         3|              2|              2|                   0|                          0|             Self-employed|                         0|                1|              0|              0|              0|              0|              0|              0|              0|              0|               0|\n|     0|        Cash loans|          F|           N|              Y|           0|        189000.0|  773680.5|    32778.0|             Working|Secondary / secon...|             Married|House / apartment|    -14583|         -203|          1|         1|             0|              1|               0|         2|              2|              1|                   0|                          0|         Transport: type 2|                         0|                1|              0|              0|              0|              0|              0|              0|              0|              0|               0|\n|     0|        Cash loans|          M|           Y|              Y|           0|        157500.0|  299772.0|    20160.0|             Working|Secondary / secon...|Single / not married| Rented apartment|     -8728|        -1157|          1|         1|             0|              1|               0|         1|              3|              3|                   0|                          0|      Business Entity T...|                         0|                0|              0|              0|              0|              0|              1|              0|              0|              0|               0|\n|     0|        Cash loans|          M|           N|              N|           0|        108000.0|  509602.5|    26149.5|             Working|Secondary / secon...|             Married|House / apartment|    -12931|        -1317|          1|         1|             0|              1|               0|         2|              2|              2|                   0|                          0|                Government|                         0|                1|              0|              0|              0|              0|              0|              0|              0|              0|               0|\n|     0|   Revolving loans|          F|           N|              Y|           1|         81000.0|  270000.0|    13500.0|             Working|Secondary / secon...|             Married|House / apartment|     -9776|         -191|          1|         1|             0|              1|               0|         3|              2|              2|                   0|                          0|              Construction|                         0|                0|              0|              0|              0|              0|              0|              0|              0|              0|               0|\n|     0|   Revolving loans|          F|           N|              Y|           0|        112500.0|  157500.0|     7875.0|             Working|Secondary / secon...|               Widow|House / apartment|    -17718|        -7804|          1|         1|             0|              1|               1|         1|              1|              1|                   0|                          0|                   Housing|                         0|                1|              0|              0|              0|              0|              0|              0|              0|              0|               0|\n|     0|        Cash loans|          F|           N|              Y|           1|         90000.0|  544491.0|    17563.5|       State servant|    Higher education|Single / not married|House / apartment|    -11348|        -2038|          1|         1|             1|              1|               1|         2|              2|              2|                   0|                          0|              Kindergarten|                         0|                1|              0|              0|              0|              0|              0|              0|              0|              0|               0|\n+------+------------------+-----------+------------+---------------+------------+----------------+----------+-----------+--------------------+--------------------+--------------------+-----------------+----------+-------------+-----------+----------+--------------+---------------+----------------+----------+---------------+---------------+--------------------+---------------------------+--------------------------+--------------------------+-----------------+---------------+---------------+---------------+---------------+---------------+---------------+---------------+---------------+----------------+\nonly showing top 20 rows\n\n</div>",
       "datasetInfos": [],
       "metadata": {},
       "removedWidgets": [],
       "type": "html"
      }
     },
     "output_type": "display_data"
    }
   ],
   "source": [
    "df2.show()"
   ]
  },
  {
   "cell_type": "code",
   "execution_count": 0,
   "metadata": {
    "application/vnd.databricks.v1+cell": {
     "inputWidgets": {},
     "nuid": "da459af4-2bbd-46f5-bc4e-82cbd2bddcf8",
     "showTitle": false,
     "title": ""
    }
   },
   "outputs": [],
   "source": []
  },
  {
   "cell_type": "code",
   "execution_count": 0,
   "metadata": {
    "application/vnd.databricks.v1+cell": {
     "inputWidgets": {},
     "nuid": "c63f4a55-3815-40a9-ad18-1b3cd725fb36",
     "showTitle": false,
     "title": ""
    }
   },
   "outputs": [],
   "source": []
  },
  {
   "cell_type": "code",
   "execution_count": 0,
   "metadata": {
    "application/vnd.databricks.v1+cell": {
     "inputWidgets": {},
     "nuid": "1cd5142d-b818-40f3-a9ef-a46e7b8722f1",
     "showTitle": false,
     "title": ""
    }
   },
   "outputs": [
    {
     "data": {
      "text/html": [
       "<style scoped>\n",
       "  .ansiout {\n",
       "    display: block;\n",
       "    unicode-bidi: embed;\n",
       "    white-space: pre-wrap;\n",
       "    word-wrap: break-word;\n",
       "    word-break: break-all;\n",
       "    font-family: \"Source Code Pro\", \"Menlo\", monospace;;\n",
       "    font-size: 13px;\n",
       "    color: #555;\n",
       "    margin-left: 4px;\n",
       "    line-height: 19px;\n",
       "  }\n",
       "</style>\n",
       "<div class=\"ansiout\">root\n",
       "-- TARGET: integer (nullable = true)\n",
       "-- NAME_CONTRACT_TYPE: string (nullable = true)\n",
       "-- CODE_GENDER: string (nullable = true)\n",
       "-- FLAG_OWN_CAR: string (nullable = true)\n",
       "-- FLAG_OWN_REALTY: string (nullable = true)\n",
       "-- CNT_CHILDREN: integer (nullable = true)\n",
       "-- AMT_INCOME_TOTAL: double (nullable = true)\n",
       "-- AMT_CREDIT: double (nullable = true)\n",
       "-- AMT_ANNUITY: double (nullable = true)\n",
       "-- NAME_INCOME_TYPE: string (nullable = true)\n",
       "-- NAME_EDUCATION_TYPE: string (nullable = true)\n",
       "-- NAME_FAMILY_STATUS: string (nullable = true)\n",
       "-- NAME_HOUSING_TYPE: string (nullable = true)\n",
       "-- DAYS_BIRTH: integer (nullable = true)\n",
       "-- DAYS_EMPLOYED: integer (nullable = true)\n",
       "-- OWN_CAR_AGE: integer (nullable = true)\n",
       "-- FLAG_MOBIL: integer (nullable = true)\n",
       "-- FLAG_EMP_PHONE: integer (nullable = true)\n",
       "-- FLAG_WORK_PHONE: integer (nullable = true)\n",
       "-- FLAG_CONT_MOBILE: integer (nullable = true)\n",
       "-- FLAG_PHONE: integer (nullable = true)\n",
       "-- OCCUPATION_TYPE: integer (nullable = true)\n",
       "-- CNT_FAM_MEMBERS: integer (nullable = true)\n",
       "-- REGION_RATING_CLIENT: integer (nullable = true)\n",
       "-- REGION_RATING_CLIENT_W_CITY: integer (nullable = true)\n",
       "-- REG_REGION_NOT_LIVE_REGION: string (nullable = true)\n",
       "-- REG_REGION_NOT_WORK_REGION: integer (nullable = true)\n",
       "-- ORGANIZATION_TYPE: integer (nullable = true)\n",
       "-- FLAG_DOCUMENT_2: integer (nullable = true)\n",
       "-- FLAG_DOCUMENT_3: integer (nullable = true)\n",
       "-- FLAG_DOCUMENT_4: integer (nullable = true)\n",
       "-- FLAG_DOCUMENT_5: integer (nullable = true)\n",
       "-- FLAG_DOCUMENT_6: integer (nullable = true)\n",
       "-- FLAG_DOCUMENT_7: integer (nullable = true)\n",
       "-- FLAG_DOCUMENT_8: integer (nullable = true)\n",
       "-- FLAG_DOCUMENT_9: integer (nullable = true)\n",
       "-- FLAG_DOCUMENT_10: integer (nullable = true)\n",
       "\n",
       "</div>"
      ]
     },
     "metadata": {
      "application/vnd.databricks.v1+output": {
       "addedWidgets": {},
       "arguments": {},
       "data": "<div class=\"ansiout\">root\n |-- TARGET: integer (nullable = true)\n |-- NAME_CONTRACT_TYPE: string (nullable = true)\n |-- CODE_GENDER: string (nullable = true)\n |-- FLAG_OWN_CAR: string (nullable = true)\n |-- FLAG_OWN_REALTY: string (nullable = true)\n |-- CNT_CHILDREN: integer (nullable = true)\n |-- AMT_INCOME_TOTAL: double (nullable = true)\n |-- AMT_CREDIT: double (nullable = true)\n |-- AMT_ANNUITY: double (nullable = true)\n |-- NAME_INCOME_TYPE: string (nullable = true)\n |-- NAME_EDUCATION_TYPE: string (nullable = true)\n |-- NAME_FAMILY_STATUS: string (nullable = true)\n |-- NAME_HOUSING_TYPE: string (nullable = true)\n |-- DAYS_BIRTH: integer (nullable = true)\n |-- DAYS_EMPLOYED: integer (nullable = true)\n |-- OWN_CAR_AGE: integer (nullable = true)\n |-- FLAG_MOBIL: integer (nullable = true)\n |-- FLAG_EMP_PHONE: integer (nullable = true)\n |-- FLAG_WORK_PHONE: integer (nullable = true)\n |-- FLAG_CONT_MOBILE: integer (nullable = true)\n |-- FLAG_PHONE: integer (nullable = true)\n |-- OCCUPATION_TYPE: integer (nullable = true)\n |-- CNT_FAM_MEMBERS: integer (nullable = true)\n |-- REGION_RATING_CLIENT: integer (nullable = true)\n |-- REGION_RATING_CLIENT_W_CITY: integer (nullable = true)\n |-- REG_REGION_NOT_LIVE_REGION: string (nullable = true)\n |-- REG_REGION_NOT_WORK_REGION: integer (nullable = true)\n |-- ORGANIZATION_TYPE: integer (nullable = true)\n |-- FLAG_DOCUMENT_2: integer (nullable = true)\n |-- FLAG_DOCUMENT_3: integer (nullable = true)\n |-- FLAG_DOCUMENT_4: integer (nullable = true)\n |-- FLAG_DOCUMENT_5: integer (nullable = true)\n |-- FLAG_DOCUMENT_6: integer (nullable = true)\n |-- FLAG_DOCUMENT_7: integer (nullable = true)\n |-- FLAG_DOCUMENT_8: integer (nullable = true)\n |-- FLAG_DOCUMENT_9: integer (nullable = true)\n |-- FLAG_DOCUMENT_10: integer (nullable = true)\n\n</div>",
       "datasetInfos": [],
       "metadata": {},
       "removedWidgets": [],
       "type": "html"
      }
     },
     "output_type": "display_data"
    }
   ],
   "source": [
    "df2.printSchema()"
   ]
  },
  {
   "cell_type": "code",
   "execution_count": 0,
   "metadata": {
    "application/vnd.databricks.v1+cell": {
     "inputWidgets": {},
     "nuid": "496cdc6b-e4d7-4d21-8ac1-b6f4e7918ecc",
     "showTitle": false,
     "title": ""
    }
   },
   "outputs": [
    {
     "data": {
      "text/html": [
       "<style scoped>\n",
       "  .ansiout {\n",
       "    display: block;\n",
       "    unicode-bidi: embed;\n",
       "    white-space: pre-wrap;\n",
       "    word-wrap: break-word;\n",
       "    word-break: break-all;\n",
       "    font-family: \"Source Code Pro\", \"Menlo\", monospace;;\n",
       "    font-size: 13px;\n",
       "    color: #555;\n",
       "    margin-left: 4px;\n",
       "    line-height: 19px;\n",
       "  }\n",
       "</style>\n",
       "<div class=\"ansiout\">Out[157]: [&#39;NAME_CONTRACT_TYPE_NEW&#39;,\n",
       " &#39;CODE_GENDER_NEW&#39;,\n",
       " &#39;FLAG_OWN_CAR_NEW&#39;,\n",
       " &#39;FLAG_OWN_REALTY_NEW&#39;,\n",
       " &#39;NAME_INCOME_TYPE_NEW&#39;,\n",
       " &#39;NAME_EDUCATION_TYPE_NEW&#39;,\n",
       " &#39;NAME_FAMILY_STATUS_NEW&#39;,\n",
       " &#39;NAME_HOUSING_TYPE_NEW&#39;,\n",
       " &#39;REG_REGION_NOT_LIVE_REGION_NEW&#39;]</div>"
      ]
     },
     "metadata": {
      "application/vnd.databricks.v1+output": {
       "addedWidgets": {},
       "arguments": {},
       "data": "<div class=\"ansiout\">Out[157]: [&#39;NAME_CONTRACT_TYPE_NEW&#39;,\n &#39;CODE_GENDER_NEW&#39;,\n &#39;FLAG_OWN_CAR_NEW&#39;,\n &#39;FLAG_OWN_REALTY_NEW&#39;,\n &#39;NAME_INCOME_TYPE_NEW&#39;,\n &#39;NAME_EDUCATION_TYPE_NEW&#39;,\n &#39;NAME_FAMILY_STATUS_NEW&#39;,\n &#39;NAME_HOUSING_TYPE_NEW&#39;,\n &#39;REG_REGION_NOT_LIVE_REGION_NEW&#39;]</div>",
       "datasetInfos": [],
       "metadata": {},
       "removedWidgets": [],
       "type": "html"
      }
     },
     "output_type": "display_data"
    }
   ],
   "source": [
    "list1=[]\n",
    "list2=[]\n",
    "for i in df2.dtypes:\n",
    "    if i[1]=='string':\n",
    "        list1.append(i[0])\n",
    "for j in list1:\n",
    "    list2.append(j+\"_NEW\")\n",
    "list2"
   ]
  },
  {
   "cell_type": "code",
   "execution_count": 0,
   "metadata": {
    "application/vnd.databricks.v1+cell": {
     "inputWidgets": {},
     "nuid": "64f26dc0-7640-414c-830e-1647c8b8b05b",
     "showTitle": false,
     "title": ""
    }
   },
   "outputs": [
    {
     "data": {
      "text/html": [
       "<div>\n",
       "<style scoped>\n",
       "    .dataframe tbody tr th:only-of-type {\n",
       "        vertical-align: middle;\n",
       "    }\n",
       "\n",
       "    .dataframe tbody tr th {\n",
       "        vertical-align: top;\n",
       "    }\n",
       "\n",
       "    .dataframe thead th {\n",
       "        text-align: right;\n",
       "    }\n",
       "</style>\n",
       "<table border=\"1\" class=\"dataframe\">\n",
       "  <thead>\n",
       "    <tr style=\"text-align: right;\">\n",
       "      <th></th>\n",
       "      <th>TARGET</th>\n",
       "      <th>NAME_CONTRACT_TYPE</th>\n",
       "      <th>CODE_GENDER</th>\n",
       "      <th>FLAG_OWN_CAR</th>\n",
       "      <th>FLAG_OWN_REALTY</th>\n",
       "      <th>CNT_CHILDREN</th>\n",
       "      <th>AMT_INCOME_TOTAL</th>\n",
       "      <th>AMT_CREDIT</th>\n",
       "      <th>AMT_ANNUITY</th>\n",
       "      <th>NAME_INCOME_TYPE</th>\n",
       "      <th>NAME_EDUCATION_TYPE</th>\n",
       "      <th>NAME_FAMILY_STATUS</th>\n",
       "      <th>NAME_HOUSING_TYPE</th>\n",
       "      <th>DAYS_BIRTH</th>\n",
       "      <th>DAYS_EMPLOYED</th>\n",
       "      <th>OWN_CAR_AGE</th>\n",
       "      <th>FLAG_MOBIL</th>\n",
       "      <th>FLAG_EMP_PHONE</th>\n",
       "      <th>FLAG_WORK_PHONE</th>\n",
       "      <th>FLAG_CONT_MOBILE</th>\n",
       "      <th>FLAG_PHONE</th>\n",
       "      <th>OCCUPATION_TYPE</th>\n",
       "      <th>CNT_FAM_MEMBERS</th>\n",
       "      <th>REGION_RATING_CLIENT</th>\n",
       "      <th>REGION_RATING_CLIENT_W_CITY</th>\n",
       "      <th>REG_REGION_NOT_LIVE_REGION</th>\n",
       "      <th>REG_REGION_NOT_WORK_REGION</th>\n",
       "      <th>ORGANIZATION_TYPE</th>\n",
       "      <th>FLAG_DOCUMENT_2</th>\n",
       "      <th>FLAG_DOCUMENT_3</th>\n",
       "      <th>FLAG_DOCUMENT_4</th>\n",
       "      <th>FLAG_DOCUMENT_5</th>\n",
       "      <th>FLAG_DOCUMENT_6</th>\n",
       "      <th>FLAG_DOCUMENT_7</th>\n",
       "      <th>FLAG_DOCUMENT_8</th>\n",
       "      <th>FLAG_DOCUMENT_9</th>\n",
       "      <th>FLAG_DOCUMENT_10</th>\n",
       "      <th>FLAG_OWN_REALTY_NEW</th>\n",
       "      <th>FLAG_OWN_CAR_NEW</th>\n",
       "      <th>REG_REGION_NOT_LIVE_REGION_NEW</th>\n",
       "      <th>NAME_FAMILY_STATUS_NEW</th>\n",
       "      <th>NAME_CONTRACT_TYPE_NEW</th>\n",
       "      <th>NAME_EDUCATION_TYPE_NEW</th>\n",
       "      <th>NAME_HOUSING_TYPE_NEW</th>\n",
       "      <th>NAME_INCOME_TYPE_NEW</th>\n",
       "      <th>CODE_GENDER_NEW</th>\n",
       "    </tr>\n",
       "  </thead>\n",
       "  <tbody>\n",
       "    <tr>\n",
       "      <th>0</th>\n",
       "      <td>1</td>\n",
       "      <td>Cash loans</td>\n",
       "      <td>M</td>\n",
       "      <td>N</td>\n",
       "      <td>Y</td>\n",
       "      <td>0</td>\n",
       "      <td>202500.0</td>\n",
       "      <td>406597.5</td>\n",
       "      <td>24700.5</td>\n",
       "      <td>Working</td>\n",
       "      <td>Secondary / secondary special</td>\n",
       "      <td>Single / not married</td>\n",
       "      <td>House / apartment</td>\n",
       "      <td>-9461</td>\n",
       "      <td>-637</td>\n",
       "      <td>1</td>\n",
       "      <td>1</td>\n",
       "      <td>0</td>\n",
       "      <td>1</td>\n",
       "      <td>1</td>\n",
       "      <td>1</td>\n",
       "      <td>2</td>\n",
       "      <td>2</td>\n",
       "      <td>0</td>\n",
       "      <td>0</td>\n",
       "      <td>Business Entity Type 3</td>\n",
       "      <td>0</td>\n",
       "      <td>1</td>\n",
       "      <td>0</td>\n",
       "      <td>0</td>\n",
       "      <td>0</td>\n",
       "      <td>0</td>\n",
       "      <td>0</td>\n",
       "      <td>0</td>\n",
       "      <td>0</td>\n",
       "      <td>0</td>\n",
       "      <td>0</td>\n",
       "      <td>0.0</td>\n",
       "      <td>0.0</td>\n",
       "      <td>0.0</td>\n",
       "      <td>1.0</td>\n",
       "      <td>0.0</td>\n",
       "      <td>0.0</td>\n",
       "      <td>0.0</td>\n",
       "      <td>0.0</td>\n",
       "      <td>1.0</td>\n",
       "    </tr>\n",
       "    <tr>\n",
       "      <th>1</th>\n",
       "      <td>0</td>\n",
       "      <td>Cash loans</td>\n",
       "      <td>F</td>\n",
       "      <td>N</td>\n",
       "      <td>N</td>\n",
       "      <td>0</td>\n",
       "      <td>270000.0</td>\n",
       "      <td>1293502.5</td>\n",
       "      <td>35698.5</td>\n",
       "      <td>State servant</td>\n",
       "      <td>Higher education</td>\n",
       "      <td>Married</td>\n",
       "      <td>House / apartment</td>\n",
       "      <td>-16765</td>\n",
       "      <td>-1188</td>\n",
       "      <td>1</td>\n",
       "      <td>1</td>\n",
       "      <td>0</td>\n",
       "      <td>1</td>\n",
       "      <td>1</td>\n",
       "      <td>2</td>\n",
       "      <td>1</td>\n",
       "      <td>1</td>\n",
       "      <td>0</td>\n",
       "      <td>0</td>\n",
       "      <td>School</td>\n",
       "      <td>0</td>\n",
       "      <td>1</td>\n",
       "      <td>0</td>\n",
       "      <td>0</td>\n",
       "      <td>0</td>\n",
       "      <td>0</td>\n",
       "      <td>0</td>\n",
       "      <td>0</td>\n",
       "      <td>0</td>\n",
       "      <td>0</td>\n",
       "      <td>0</td>\n",
       "      <td>1.0</td>\n",
       "      <td>0.0</td>\n",
       "      <td>7.0</td>\n",
       "      <td>0.0</td>\n",
       "      <td>0.0</td>\n",
       "      <td>1.0</td>\n",
       "      <td>0.0</td>\n",
       "      <td>3.0</td>\n",
       "      <td>0.0</td>\n",
       "    </tr>\n",
       "    <tr>\n",
       "      <th>2</th>\n",
       "      <td>0</td>\n",
       "      <td>Revolving loans</td>\n",
       "      <td>M</td>\n",
       "      <td>Y</td>\n",
       "      <td>Y</td>\n",
       "      <td>0</td>\n",
       "      <td>67500.0</td>\n",
       "      <td>135000.0</td>\n",
       "      <td>6750.0</td>\n",
       "      <td>Working</td>\n",
       "      <td>Secondary / secondary special</td>\n",
       "      <td>Single / not married</td>\n",
       "      <td>House / apartment</td>\n",
       "      <td>-19046</td>\n",
       "      <td>-225</td>\n",
       "      <td>1</td>\n",
       "      <td>1</td>\n",
       "      <td>1</td>\n",
       "      <td>1</td>\n",
       "      <td>1</td>\n",
       "      <td>1</td>\n",
       "      <td>2</td>\n",
       "      <td>2</td>\n",
       "      <td>0</td>\n",
       "      <td>0</td>\n",
       "      <td>Government</td>\n",
       "      <td>0</td>\n",
       "      <td>0</td>\n",
       "      <td>0</td>\n",
       "      <td>0</td>\n",
       "      <td>0</td>\n",
       "      <td>0</td>\n",
       "      <td>0</td>\n",
       "      <td>0</td>\n",
       "      <td>0</td>\n",
       "      <td>0</td>\n",
       "      <td>0</td>\n",
       "      <td>0.0</td>\n",
       "      <td>1.0</td>\n",
       "      <td>6.0</td>\n",
       "      <td>1.0</td>\n",
       "      <td>1.0</td>\n",
       "      <td>0.0</td>\n",
       "      <td>0.0</td>\n",
       "      <td>0.0</td>\n",
       "      <td>1.0</td>\n",
       "    </tr>\n",
       "    <tr>\n",
       "      <th>3</th>\n",
       "      <td>0</td>\n",
       "      <td>Cash loans</td>\n",
       "      <td>F</td>\n",
       "      <td>N</td>\n",
       "      <td>Y</td>\n",
       "      <td>0</td>\n",
       "      <td>135000.0</td>\n",
       "      <td>312682.5</td>\n",
       "      <td>29686.5</td>\n",
       "      <td>Working</td>\n",
       "      <td>Secondary / secondary special</td>\n",
       "      <td>Civil marriage</td>\n",
       "      <td>House / apartment</td>\n",
       "      <td>-19005</td>\n",
       "      <td>-3039</td>\n",
       "      <td>1</td>\n",
       "      <td>1</td>\n",
       "      <td>0</td>\n",
       "      <td>1</td>\n",
       "      <td>0</td>\n",
       "      <td>2</td>\n",
       "      <td>2</td>\n",
       "      <td>2</td>\n",
       "      <td>0</td>\n",
       "      <td>0</td>\n",
       "      <td>Business Entity Type 3</td>\n",
       "      <td>0</td>\n",
       "      <td>1</td>\n",
       "      <td>0</td>\n",
       "      <td>0</td>\n",
       "      <td>0</td>\n",
       "      <td>0</td>\n",
       "      <td>0</td>\n",
       "      <td>0</td>\n",
       "      <td>0</td>\n",
       "      <td>0</td>\n",
       "      <td>0</td>\n",
       "      <td>0.0</td>\n",
       "      <td>0.0</td>\n",
       "      <td>0.0</td>\n",
       "      <td>2.0</td>\n",
       "      <td>0.0</td>\n",
       "      <td>0.0</td>\n",
       "      <td>0.0</td>\n",
       "      <td>0.0</td>\n",
       "      <td>0.0</td>\n",
       "    </tr>\n",
       "    <tr>\n",
       "      <th>4</th>\n",
       "      <td>0</td>\n",
       "      <td>Cash loans</td>\n",
       "      <td>M</td>\n",
       "      <td>N</td>\n",
       "      <td>Y</td>\n",
       "      <td>0</td>\n",
       "      <td>121500.0</td>\n",
       "      <td>513000.0</td>\n",
       "      <td>21865.5</td>\n",
       "      <td>Working</td>\n",
       "      <td>Secondary / secondary special</td>\n",
       "      <td>Single / not married</td>\n",
       "      <td>House / apartment</td>\n",
       "      <td>-19932</td>\n",
       "      <td>-3038</td>\n",
       "      <td>1</td>\n",
       "      <td>1</td>\n",
       "      <td>0</td>\n",
       "      <td>1</td>\n",
       "      <td>0</td>\n",
       "      <td>1</td>\n",
       "      <td>2</td>\n",
       "      <td>2</td>\n",
       "      <td>0</td>\n",
       "      <td>0</td>\n",
       "      <td>Religion</td>\n",
       "      <td>0</td>\n",
       "      <td>0</td>\n",
       "      <td>0</td>\n",
       "      <td>0</td>\n",
       "      <td>0</td>\n",
       "      <td>0</td>\n",
       "      <td>1</td>\n",
       "      <td>0</td>\n",
       "      <td>0</td>\n",
       "      <td>0</td>\n",
       "      <td>0</td>\n",
       "      <td>0.0</td>\n",
       "      <td>0.0</td>\n",
       "      <td>53.0</td>\n",
       "      <td>1.0</td>\n",
       "      <td>0.0</td>\n",
       "      <td>0.0</td>\n",
       "      <td>0.0</td>\n",
       "      <td>0.0</td>\n",
       "      <td>1.0</td>\n",
       "    </tr>\n",
       "    <tr>\n",
       "      <th>...</th>\n",
       "      <td>...</td>\n",
       "      <td>...</td>\n",
       "      <td>...</td>\n",
       "      <td>...</td>\n",
       "      <td>...</td>\n",
       "      <td>...</td>\n",
       "      <td>...</td>\n",
       "      <td>...</td>\n",
       "      <td>...</td>\n",
       "      <td>...</td>\n",
       "      <td>...</td>\n",
       "      <td>...</td>\n",
       "      <td>...</td>\n",
       "      <td>...</td>\n",
       "      <td>...</td>\n",
       "      <td>...</td>\n",
       "      <td>...</td>\n",
       "      <td>...</td>\n",
       "      <td>...</td>\n",
       "      <td>...</td>\n",
       "      <td>...</td>\n",
       "      <td>...</td>\n",
       "      <td>...</td>\n",
       "      <td>...</td>\n",
       "      <td>...</td>\n",
       "      <td>...</td>\n",
       "      <td>...</td>\n",
       "      <td>...</td>\n",
       "      <td>...</td>\n",
       "      <td>...</td>\n",
       "      <td>...</td>\n",
       "      <td>...</td>\n",
       "      <td>...</td>\n",
       "      <td>...</td>\n",
       "      <td>...</td>\n",
       "      <td>...</td>\n",
       "      <td>...</td>\n",
       "      <td>...</td>\n",
       "      <td>...</td>\n",
       "      <td>...</td>\n",
       "      <td>...</td>\n",
       "      <td>...</td>\n",
       "      <td>...</td>\n",
       "      <td>...</td>\n",
       "      <td>...</td>\n",
       "      <td>...</td>\n",
       "    </tr>\n",
       "    <tr>\n",
       "      <th>307492</th>\n",
       "      <td>0</td>\n",
       "      <td>Cash loans</td>\n",
       "      <td>M</td>\n",
       "      <td>N</td>\n",
       "      <td>N</td>\n",
       "      <td>0</td>\n",
       "      <td>157500.0</td>\n",
       "      <td>254700.0</td>\n",
       "      <td>27558.0</td>\n",
       "      <td>Working</td>\n",
       "      <td>Secondary / secondary special</td>\n",
       "      <td>Separated</td>\n",
       "      <td>With parents</td>\n",
       "      <td>-9327</td>\n",
       "      <td>-236</td>\n",
       "      <td>1</td>\n",
       "      <td>1</td>\n",
       "      <td>0</td>\n",
       "      <td>1</td>\n",
       "      <td>0</td>\n",
       "      <td>1</td>\n",
       "      <td>1</td>\n",
       "      <td>1</td>\n",
       "      <td>0</td>\n",
       "      <td>0</td>\n",
       "      <td>Services</td>\n",
       "      <td>0</td>\n",
       "      <td>0</td>\n",
       "      <td>0</td>\n",
       "      <td>0</td>\n",
       "      <td>0</td>\n",
       "      <td>0</td>\n",
       "      <td>1</td>\n",
       "      <td>0</td>\n",
       "      <td>0</td>\n",
       "      <td>0</td>\n",
       "      <td>0</td>\n",
       "      <td>1.0</td>\n",
       "      <td>0.0</td>\n",
       "      <td>28.0</td>\n",
       "      <td>3.0</td>\n",
       "      <td>0.0</td>\n",
       "      <td>0.0</td>\n",
       "      <td>1.0</td>\n",
       "      <td>0.0</td>\n",
       "      <td>1.0</td>\n",
       "    </tr>\n",
       "    <tr>\n",
       "      <th>307493</th>\n",
       "      <td>0</td>\n",
       "      <td>Cash loans</td>\n",
       "      <td>F</td>\n",
       "      <td>N</td>\n",
       "      <td>Y</td>\n",
       "      <td>0</td>\n",
       "      <td>72000.0</td>\n",
       "      <td>269550.0</td>\n",
       "      <td>12001.5</td>\n",
       "      <td>Pensioner</td>\n",
       "      <td>Secondary / secondary special</td>\n",
       "      <td>Widow</td>\n",
       "      <td>House / apartment</td>\n",
       "      <td>-20775</td>\n",
       "      <td>365243</td>\n",
       "      <td>1</td>\n",
       "      <td>0</td>\n",
       "      <td>0</td>\n",
       "      <td>1</td>\n",
       "      <td>1</td>\n",
       "      <td>1</td>\n",
       "      <td>2</td>\n",
       "      <td>2</td>\n",
       "      <td>0</td>\n",
       "      <td>0</td>\n",
       "      <td>XNA</td>\n",
       "      <td>0</td>\n",
       "      <td>1</td>\n",
       "      <td>0</td>\n",
       "      <td>0</td>\n",
       "      <td>0</td>\n",
       "      <td>0</td>\n",
       "      <td>0</td>\n",
       "      <td>0</td>\n",
       "      <td>0</td>\n",
       "      <td>0</td>\n",
       "      <td>0</td>\n",
       "      <td>0.0</td>\n",
       "      <td>0.0</td>\n",
       "      <td>1.0</td>\n",
       "      <td>4.0</td>\n",
       "      <td>0.0</td>\n",
       "      <td>0.0</td>\n",
       "      <td>0.0</td>\n",
       "      <td>2.0</td>\n",
       "      <td>0.0</td>\n",
       "    </tr>\n",
       "    <tr>\n",
       "      <th>307494</th>\n",
       "      <td>0</td>\n",
       "      <td>Cash loans</td>\n",
       "      <td>F</td>\n",
       "      <td>N</td>\n",
       "      <td>Y</td>\n",
       "      <td>0</td>\n",
       "      <td>153000.0</td>\n",
       "      <td>677664.0</td>\n",
       "      <td>29979.0</td>\n",
       "      <td>Working</td>\n",
       "      <td>Higher education</td>\n",
       "      <td>Separated</td>\n",
       "      <td>House / apartment</td>\n",
       "      <td>-14966</td>\n",
       "      <td>-7921</td>\n",
       "      <td>1</td>\n",
       "      <td>1</td>\n",
       "      <td>0</td>\n",
       "      <td>1</td>\n",
       "      <td>0</td>\n",
       "      <td>1</td>\n",
       "      <td>3</td>\n",
       "      <td>3</td>\n",
       "      <td>0</td>\n",
       "      <td>0</td>\n",
       "      <td>School</td>\n",
       "      <td>0</td>\n",
       "      <td>1</td>\n",
       "      <td>0</td>\n",
       "      <td>0</td>\n",
       "      <td>0</td>\n",
       "      <td>0</td>\n",
       "      <td>0</td>\n",
       "      <td>0</td>\n",
       "      <td>0</td>\n",
       "      <td>0</td>\n",
       "      <td>0</td>\n",
       "      <td>0.0</td>\n",
       "      <td>0.0</td>\n",
       "      <td>7.0</td>\n",
       "      <td>3.0</td>\n",
       "      <td>0.0</td>\n",
       "      <td>1.0</td>\n",
       "      <td>0.0</td>\n",
       "      <td>0.0</td>\n",
       "      <td>0.0</td>\n",
       "    </tr>\n",
       "    <tr>\n",
       "      <th>307495</th>\n",
       "      <td>1</td>\n",
       "      <td>Cash loans</td>\n",
       "      <td>F</td>\n",
       "      <td>N</td>\n",
       "      <td>Y</td>\n",
       "      <td>0</td>\n",
       "      <td>171000.0</td>\n",
       "      <td>370107.0</td>\n",
       "      <td>20205.0</td>\n",
       "      <td>Commercial associate</td>\n",
       "      <td>Secondary / secondary special</td>\n",
       "      <td>Married</td>\n",
       "      <td>House / apartment</td>\n",
       "      <td>-11961</td>\n",
       "      <td>-4786</td>\n",
       "      <td>1</td>\n",
       "      <td>1</td>\n",
       "      <td>0</td>\n",
       "      <td>1</td>\n",
       "      <td>0</td>\n",
       "      <td>2</td>\n",
       "      <td>2</td>\n",
       "      <td>2</td>\n",
       "      <td>0</td>\n",
       "      <td>0</td>\n",
       "      <td>Business Entity Type 1</td>\n",
       "      <td>0</td>\n",
       "      <td>1</td>\n",
       "      <td>0</td>\n",
       "      <td>0</td>\n",
       "      <td>0</td>\n",
       "      <td>0</td>\n",
       "      <td>0</td>\n",
       "      <td>0</td>\n",
       "      <td>0</td>\n",
       "      <td>0</td>\n",
       "      <td>0</td>\n",
       "      <td>0.0</td>\n",
       "      <td>0.0</td>\n",
       "      <td>11.0</td>\n",
       "      <td>0.0</td>\n",
       "      <td>0.0</td>\n",
       "      <td>0.0</td>\n",
       "      <td>0.0</td>\n",
       "      <td>1.0</td>\n",
       "      <td>0.0</td>\n",
       "    </tr>\n",
       "    <tr>\n",
       "      <th>307496</th>\n",
       "      <td>0</td>\n",
       "      <td>Cash loans</td>\n",
       "      <td>F</td>\n",
       "      <td>N</td>\n",
       "      <td>N</td>\n",
       "      <td>0</td>\n",
       "      <td>157500.0</td>\n",
       "      <td>675000.0</td>\n",
       "      <td>49117.5</td>\n",
       "      <td>Commercial associate</td>\n",
       "      <td>Higher education</td>\n",
       "      <td>Married</td>\n",
       "      <td>House / apartment</td>\n",
       "      <td>-16856</td>\n",
       "      <td>-1262</td>\n",
       "      <td>1</td>\n",
       "      <td>1</td>\n",
       "      <td>1</td>\n",
       "      <td>1</td>\n",
       "      <td>1</td>\n",
       "      <td>2</td>\n",
       "      <td>1</td>\n",
       "      <td>1</td>\n",
       "      <td>0</td>\n",
       "      <td>0</td>\n",
       "      <td>Business Entity Type 3</td>\n",
       "      <td>0</td>\n",
       "      <td>1</td>\n",
       "      <td>0</td>\n",
       "      <td>0</td>\n",
       "      <td>0</td>\n",
       "      <td>0</td>\n",
       "      <td>0</td>\n",
       "      <td>0</td>\n",
       "      <td>0</td>\n",
       "      <td>0</td>\n",
       "      <td>0</td>\n",
       "      <td>1.0</td>\n",
       "      <td>0.0</td>\n",
       "      <td>0.0</td>\n",
       "      <td>0.0</td>\n",
       "      <td>0.0</td>\n",
       "      <td>1.0</td>\n",
       "      <td>0.0</td>\n",
       "      <td>1.0</td>\n",
       "      <td>0.0</td>\n",
       "    </tr>\n",
       "  </tbody>\n",
       "</table>\n",
       "<p>307497 rows × 46 columns</p>\n",
       "</div>"
      ]
     },
     "metadata": {
      "application/vnd.databricks.v1+output": {
       "addedWidgets": {},
       "arguments": {},
       "data": "<div>\n<style scoped>\n    .dataframe tbody tr th:only-of-type {\n        vertical-align: middle;\n    }\n\n    .dataframe tbody tr th {\n        vertical-align: top;\n    }\n\n    .dataframe thead th {\n        text-align: right;\n    }\n</style>\n<table border=\"1\" class=\"dataframe\">\n  <thead>\n    <tr style=\"text-align: right;\">\n      <th></th>\n      <th>TARGET</th>\n      <th>NAME_CONTRACT_TYPE</th>\n      <th>CODE_GENDER</th>\n      <th>FLAG_OWN_CAR</th>\n      <th>FLAG_OWN_REALTY</th>\n      <th>CNT_CHILDREN</th>\n      <th>AMT_INCOME_TOTAL</th>\n      <th>AMT_CREDIT</th>\n      <th>AMT_ANNUITY</th>\n      <th>NAME_INCOME_TYPE</th>\n      <th>NAME_EDUCATION_TYPE</th>\n      <th>NAME_FAMILY_STATUS</th>\n      <th>NAME_HOUSING_TYPE</th>\n      <th>DAYS_BIRTH</th>\n      <th>DAYS_EMPLOYED</th>\n      <th>OWN_CAR_AGE</th>\n      <th>FLAG_MOBIL</th>\n      <th>FLAG_EMP_PHONE</th>\n      <th>FLAG_WORK_PHONE</th>\n      <th>FLAG_CONT_MOBILE</th>\n      <th>FLAG_PHONE</th>\n      <th>OCCUPATION_TYPE</th>\n      <th>CNT_FAM_MEMBERS</th>\n      <th>REGION_RATING_CLIENT</th>\n      <th>REGION_RATING_CLIENT_W_CITY</th>\n      <th>REG_REGION_NOT_LIVE_REGION</th>\n      <th>REG_REGION_NOT_WORK_REGION</th>\n      <th>ORGANIZATION_TYPE</th>\n      <th>FLAG_DOCUMENT_2</th>\n      <th>FLAG_DOCUMENT_3</th>\n      <th>FLAG_DOCUMENT_4</th>\n      <th>FLAG_DOCUMENT_5</th>\n      <th>FLAG_DOCUMENT_6</th>\n      <th>FLAG_DOCUMENT_7</th>\n      <th>FLAG_DOCUMENT_8</th>\n      <th>FLAG_DOCUMENT_9</th>\n      <th>FLAG_DOCUMENT_10</th>\n      <th>FLAG_OWN_REALTY_NEW</th>\n      <th>FLAG_OWN_CAR_NEW</th>\n      <th>REG_REGION_NOT_LIVE_REGION_NEW</th>\n      <th>NAME_FAMILY_STATUS_NEW</th>\n      <th>NAME_CONTRACT_TYPE_NEW</th>\n      <th>NAME_EDUCATION_TYPE_NEW</th>\n      <th>NAME_HOUSING_TYPE_NEW</th>\n      <th>NAME_INCOME_TYPE_NEW</th>\n      <th>CODE_GENDER_NEW</th>\n    </tr>\n  </thead>\n  <tbody>\n    <tr>\n      <th>0</th>\n      <td>1</td>\n      <td>Cash loans</td>\n      <td>M</td>\n      <td>N</td>\n      <td>Y</td>\n      <td>0</td>\n      <td>202500.0</td>\n      <td>406597.5</td>\n      <td>24700.5</td>\n      <td>Working</td>\n      <td>Secondary / secondary special</td>\n      <td>Single / not married</td>\n      <td>House / apartment</td>\n      <td>-9461</td>\n      <td>-637</td>\n      <td>1</td>\n      <td>1</td>\n      <td>0</td>\n      <td>1</td>\n      <td>1</td>\n      <td>1</td>\n      <td>2</td>\n      <td>2</td>\n      <td>0</td>\n      <td>0</td>\n      <td>Business Entity Type 3</td>\n      <td>0</td>\n      <td>1</td>\n      <td>0</td>\n      <td>0</td>\n      <td>0</td>\n      <td>0</td>\n      <td>0</td>\n      <td>0</td>\n      <td>0</td>\n      <td>0</td>\n      <td>0</td>\n      <td>0.0</td>\n      <td>0.0</td>\n      <td>0.0</td>\n      <td>1.0</td>\n      <td>0.0</td>\n      <td>0.0</td>\n      <td>0.0</td>\n      <td>0.0</td>\n      <td>1.0</td>\n    </tr>\n    <tr>\n      <th>1</th>\n      <td>0</td>\n      <td>Cash loans</td>\n      <td>F</td>\n      <td>N</td>\n      <td>N</td>\n      <td>0</td>\n      <td>270000.0</td>\n      <td>1293502.5</td>\n      <td>35698.5</td>\n      <td>State servant</td>\n      <td>Higher education</td>\n      <td>Married</td>\n      <td>House / apartment</td>\n      <td>-16765</td>\n      <td>-1188</td>\n      <td>1</td>\n      <td>1</td>\n      <td>0</td>\n      <td>1</td>\n      <td>1</td>\n      <td>2</td>\n      <td>1</td>\n      <td>1</td>\n      <td>0</td>\n      <td>0</td>\n      <td>School</td>\n      <td>0</td>\n      <td>1</td>\n      <td>0</td>\n      <td>0</td>\n      <td>0</td>\n      <td>0</td>\n      <td>0</td>\n      <td>0</td>\n      <td>0</td>\n      <td>0</td>\n      <td>0</td>\n      <td>1.0</td>\n      <td>0.0</td>\n      <td>7.0</td>\n      <td>0.0</td>\n      <td>0.0</td>\n      <td>1.0</td>\n      <td>0.0</td>\n      <td>3.0</td>\n      <td>0.0</td>\n    </tr>\n    <tr>\n      <th>2</th>\n      <td>0</td>\n      <td>Revolving loans</td>\n      <td>M</td>\n      <td>Y</td>\n      <td>Y</td>\n      <td>0</td>\n      <td>67500.0</td>\n      <td>135000.0</td>\n      <td>6750.0</td>\n      <td>Working</td>\n      <td>Secondary / secondary special</td>\n      <td>Single / not married</td>\n      <td>House / apartment</td>\n      <td>-19046</td>\n      <td>-225</td>\n      <td>1</td>\n      <td>1</td>\n      <td>1</td>\n      <td>1</td>\n      <td>1</td>\n      <td>1</td>\n      <td>2</td>\n      <td>2</td>\n      <td>0</td>\n      <td>0</td>\n      <td>Government</td>\n      <td>0</td>\n      <td>0</td>\n      <td>0</td>\n      <td>0</td>\n      <td>0</td>\n      <td>0</td>\n      <td>0</td>\n      <td>0</td>\n      <td>0</td>\n      <td>0</td>\n      <td>0</td>\n      <td>0.0</td>\n      <td>1.0</td>\n      <td>6.0</td>\n      <td>1.0</td>\n      <td>1.0</td>\n      <td>0.0</td>\n      <td>0.0</td>\n      <td>0.0</td>\n      <td>1.0</td>\n    </tr>\n    <tr>\n      <th>3</th>\n      <td>0</td>\n      <td>Cash loans</td>\n      <td>F</td>\n      <td>N</td>\n      <td>Y</td>\n      <td>0</td>\n      <td>135000.0</td>\n      <td>312682.5</td>\n      <td>29686.5</td>\n      <td>Working</td>\n      <td>Secondary / secondary special</td>\n      <td>Civil marriage</td>\n      <td>House / apartment</td>\n      <td>-19005</td>\n      <td>-3039</td>\n      <td>1</td>\n      <td>1</td>\n      <td>0</td>\n      <td>1</td>\n      <td>0</td>\n      <td>2</td>\n      <td>2</td>\n      <td>2</td>\n      <td>0</td>\n      <td>0</td>\n      <td>Business Entity Type 3</td>\n      <td>0</td>\n      <td>1</td>\n      <td>0</td>\n      <td>0</td>\n      <td>0</td>\n      <td>0</td>\n      <td>0</td>\n      <td>0</td>\n      <td>0</td>\n      <td>0</td>\n      <td>0</td>\n      <td>0.0</td>\n      <td>0.0</td>\n      <td>0.0</td>\n      <td>2.0</td>\n      <td>0.0</td>\n      <td>0.0</td>\n      <td>0.0</td>\n      <td>0.0</td>\n      <td>0.0</td>\n    </tr>\n    <tr>\n      <th>4</th>\n      <td>0</td>\n      <td>Cash loans</td>\n      <td>M</td>\n      <td>N</td>\n      <td>Y</td>\n      <td>0</td>\n      <td>121500.0</td>\n      <td>513000.0</td>\n      <td>21865.5</td>\n      <td>Working</td>\n      <td>Secondary / secondary special</td>\n      <td>Single / not married</td>\n      <td>House / apartment</td>\n      <td>-19932</td>\n      <td>-3038</td>\n      <td>1</td>\n      <td>1</td>\n      <td>0</td>\n      <td>1</td>\n      <td>0</td>\n      <td>1</td>\n      <td>2</td>\n      <td>2</td>\n      <td>0</td>\n      <td>0</td>\n      <td>Religion</td>\n      <td>0</td>\n      <td>0</td>\n      <td>0</td>\n      <td>0</td>\n      <td>0</td>\n      <td>0</td>\n      <td>1</td>\n      <td>0</td>\n      <td>0</td>\n      <td>0</td>\n      <td>0</td>\n      <td>0.0</td>\n      <td>0.0</td>\n      <td>53.0</td>\n      <td>1.0</td>\n      <td>0.0</td>\n      <td>0.0</td>\n      <td>0.0</td>\n      <td>0.0</td>\n      <td>1.0</td>\n    </tr>\n    <tr>\n      <th>...</th>\n      <td>...</td>\n      <td>...</td>\n      <td>...</td>\n      <td>...</td>\n      <td>...</td>\n      <td>...</td>\n      <td>...</td>\n      <td>...</td>\n      <td>...</td>\n      <td>...</td>\n      <td>...</td>\n      <td>...</td>\n      <td>...</td>\n      <td>...</td>\n      <td>...</td>\n      <td>...</td>\n      <td>...</td>\n      <td>...</td>\n      <td>...</td>\n      <td>...</td>\n      <td>...</td>\n      <td>...</td>\n      <td>...</td>\n      <td>...</td>\n      <td>...</td>\n      <td>...</td>\n      <td>...</td>\n      <td>...</td>\n      <td>...</td>\n      <td>...</td>\n      <td>...</td>\n      <td>...</td>\n      <td>...</td>\n      <td>...</td>\n      <td>...</td>\n      <td>...</td>\n      <td>...</td>\n      <td>...</td>\n      <td>...</td>\n      <td>...</td>\n      <td>...</td>\n      <td>...</td>\n      <td>...</td>\n      <td>...</td>\n      <td>...</td>\n      <td>...</td>\n    </tr>\n    <tr>\n      <th>307492</th>\n      <td>0</td>\n      <td>Cash loans</td>\n      <td>M</td>\n      <td>N</td>\n      <td>N</td>\n      <td>0</td>\n      <td>157500.0</td>\n      <td>254700.0</td>\n      <td>27558.0</td>\n      <td>Working</td>\n      <td>Secondary / secondary special</td>\n      <td>Separated</td>\n      <td>With parents</td>\n      <td>-9327</td>\n      <td>-236</td>\n      <td>1</td>\n      <td>1</td>\n      <td>0</td>\n      <td>1</td>\n      <td>0</td>\n      <td>1</td>\n      <td>1</td>\n      <td>1</td>\n      <td>0</td>\n      <td>0</td>\n      <td>Services</td>\n      <td>0</td>\n      <td>0</td>\n      <td>0</td>\n      <td>0</td>\n      <td>0</td>\n      <td>0</td>\n      <td>1</td>\n      <td>0</td>\n      <td>0</td>\n      <td>0</td>\n      <td>0</td>\n      <td>1.0</td>\n      <td>0.0</td>\n      <td>28.0</td>\n      <td>3.0</td>\n      <td>0.0</td>\n      <td>0.0</td>\n      <td>1.0</td>\n      <td>0.0</td>\n      <td>1.0</td>\n    </tr>\n    <tr>\n      <th>307493</th>\n      <td>0</td>\n      <td>Cash loans</td>\n      <td>F</td>\n      <td>N</td>\n      <td>Y</td>\n      <td>0</td>\n      <td>72000.0</td>\n      <td>269550.0</td>\n      <td>12001.5</td>\n      <td>Pensioner</td>\n      <td>Secondary / secondary special</td>\n      <td>Widow</td>\n      <td>House / apartment</td>\n      <td>-20775</td>\n      <td>365243</td>\n      <td>1</td>\n      <td>0</td>\n      <td>0</td>\n      <td>1</td>\n      <td>1</td>\n      <td>1</td>\n      <td>2</td>\n      <td>2</td>\n      <td>0</td>\n      <td>0</td>\n      <td>XNA</td>\n      <td>0</td>\n      <td>1</td>\n      <td>0</td>\n      <td>0</td>\n      <td>0</td>\n      <td>0</td>\n      <td>0</td>\n      <td>0</td>\n      <td>0</td>\n      <td>0</td>\n      <td>0</td>\n      <td>0.0</td>\n      <td>0.0</td>\n      <td>1.0</td>\n      <td>4.0</td>\n      <td>0.0</td>\n      <td>0.0</td>\n      <td>0.0</td>\n      <td>2.0</td>\n      <td>0.0</td>\n    </tr>\n    <tr>\n      <th>307494</th>\n      <td>0</td>\n      <td>Cash loans</td>\n      <td>F</td>\n      <td>N</td>\n      <td>Y</td>\n      <td>0</td>\n      <td>153000.0</td>\n      <td>677664.0</td>\n      <td>29979.0</td>\n      <td>Working</td>\n      <td>Higher education</td>\n      <td>Separated</td>\n      <td>House / apartment</td>\n      <td>-14966</td>\n      <td>-7921</td>\n      <td>1</td>\n      <td>1</td>\n      <td>0</td>\n      <td>1</td>\n      <td>0</td>\n      <td>1</td>\n      <td>3</td>\n      <td>3</td>\n      <td>0</td>\n      <td>0</td>\n      <td>School</td>\n      <td>0</td>\n      <td>1</td>\n      <td>0</td>\n      <td>0</td>\n      <td>0</td>\n      <td>0</td>\n      <td>0</td>\n      <td>0</td>\n      <td>0</td>\n      <td>0</td>\n      <td>0</td>\n      <td>0.0</td>\n      <td>0.0</td>\n      <td>7.0</td>\n      <td>3.0</td>\n      <td>0.0</td>\n      <td>1.0</td>\n      <td>0.0</td>\n      <td>0.0</td>\n      <td>0.0</td>\n    </tr>\n    <tr>\n      <th>307495</th>\n      <td>1</td>\n      <td>Cash loans</td>\n      <td>F</td>\n      <td>N</td>\n      <td>Y</td>\n      <td>0</td>\n      <td>171000.0</td>\n      <td>370107.0</td>\n      <td>20205.0</td>\n      <td>Commercial associate</td>\n      <td>Secondary / secondary special</td>\n      <td>Married</td>\n      <td>House / apartment</td>\n      <td>-11961</td>\n      <td>-4786</td>\n      <td>1</td>\n      <td>1</td>\n      <td>0</td>\n      <td>1</td>\n      <td>0</td>\n      <td>2</td>\n      <td>2</td>\n      <td>2</td>\n      <td>0</td>\n      <td>0</td>\n      <td>Business Entity Type 1</td>\n      <td>0</td>\n      <td>1</td>\n      <td>0</td>\n      <td>0</td>\n      <td>0</td>\n      <td>0</td>\n      <td>0</td>\n      <td>0</td>\n      <td>0</td>\n      <td>0</td>\n      <td>0</td>\n      <td>0.0</td>\n      <td>0.0</td>\n      <td>11.0</td>\n      <td>0.0</td>\n      <td>0.0</td>\n      <td>0.0</td>\n      <td>0.0</td>\n      <td>1.0</td>\n      <td>0.0</td>\n    </tr>\n    <tr>\n      <th>307496</th>\n      <td>0</td>\n      <td>Cash loans</td>\n      <td>F</td>\n      <td>N</td>\n      <td>N</td>\n      <td>0</td>\n      <td>157500.0</td>\n      <td>675000.0</td>\n      <td>49117.5</td>\n      <td>Commercial associate</td>\n      <td>Higher education</td>\n      <td>Married</td>\n      <td>House / apartment</td>\n      <td>-16856</td>\n      <td>-1262</td>\n      <td>1</td>\n      <td>1</td>\n      <td>1</td>\n      <td>1</td>\n      <td>1</td>\n      <td>2</td>\n      <td>1</td>\n      <td>1</td>\n      <td>0</td>\n      <td>0</td>\n      <td>Business Entity Type 3</td>\n      <td>0</td>\n      <td>1</td>\n      <td>0</td>\n      <td>0</td>\n      <td>0</td>\n      <td>0</td>\n      <td>0</td>\n      <td>0</td>\n      <td>0</td>\n      <td>0</td>\n      <td>0</td>\n      <td>1.0</td>\n      <td>0.0</td>\n      <td>0.0</td>\n      <td>0.0</td>\n      <td>0.0</td>\n      <td>1.0</td>\n      <td>0.0</td>\n      <td>1.0</td>\n      <td>0.0</td>\n    </tr>\n  </tbody>\n</table>\n<p>307497 rows × 46 columns</p>\n</div>",
       "datasetInfos": [
        {
         "name": "df_r",
         "schema": {
          "fields": [
           {
            "metadata": {},
            "name": "TARGET",
            "nullable": true,
            "type": "integer"
           },
           {
            "metadata": {},
            "name": "NAME_CONTRACT_TYPE",
            "nullable": true,
            "type": "string"
           },
           {
            "metadata": {},
            "name": "CODE_GENDER",
            "nullable": true,
            "type": "string"
           },
           {
            "metadata": {},
            "name": "FLAG_OWN_CAR",
            "nullable": true,
            "type": "string"
           },
           {
            "metadata": {},
            "name": "FLAG_OWN_REALTY",
            "nullable": true,
            "type": "string"
           },
           {
            "metadata": {},
            "name": "CNT_CHILDREN",
            "nullable": true,
            "type": "integer"
           },
           {
            "metadata": {},
            "name": "AMT_INCOME_TOTAL",
            "nullable": true,
            "type": "double"
           },
           {
            "metadata": {},
            "name": "AMT_CREDIT",
            "nullable": true,
            "type": "double"
           },
           {
            "metadata": {},
            "name": "AMT_ANNUITY",
            "nullable": true,
            "type": "double"
           },
           {
            "metadata": {},
            "name": "NAME_INCOME_TYPE",
            "nullable": true,
            "type": "string"
           },
           {
            "metadata": {},
            "name": "NAME_EDUCATION_TYPE",
            "nullable": true,
            "type": "string"
           },
           {
            "metadata": {},
            "name": "NAME_FAMILY_STATUS",
            "nullable": true,
            "type": "string"
           },
           {
            "metadata": {},
            "name": "NAME_HOUSING_TYPE",
            "nullable": true,
            "type": "string"
           },
           {
            "metadata": {},
            "name": "DAYS_BIRTH",
            "nullable": true,
            "type": "integer"
           },
           {
            "metadata": {},
            "name": "DAYS_EMPLOYED",
            "nullable": true,
            "type": "integer"
           },
           {
            "metadata": {},
            "name": "OWN_CAR_AGE",
            "nullable": true,
            "type": "integer"
           },
           {
            "metadata": {},
            "name": "FLAG_MOBIL",
            "nullable": true,
            "type": "integer"
           },
           {
            "metadata": {},
            "name": "FLAG_EMP_PHONE",
            "nullable": true,
            "type": "integer"
           },
           {
            "metadata": {},
            "name": "FLAG_WORK_PHONE",
            "nullable": true,
            "type": "integer"
           },
           {
            "metadata": {},
            "name": "FLAG_CONT_MOBILE",
            "nullable": true,
            "type": "integer"
           },
           {
            "metadata": {},
            "name": "FLAG_PHONE",
            "nullable": true,
            "type": "integer"
           },
           {
            "metadata": {},
            "name": "OCCUPATION_TYPE",
            "nullable": true,
            "type": "integer"
           },
           {
            "metadata": {},
            "name": "CNT_FAM_MEMBERS",
            "nullable": true,
            "type": "integer"
           },
           {
            "metadata": {},
            "name": "REGION_RATING_CLIENT",
            "nullable": true,
            "type": "integer"
           },
           {
            "metadata": {},
            "name": "REGION_RATING_CLIENT_W_CITY",
            "nullable": true,
            "type": "integer"
           },
           {
            "metadata": {},
            "name": "REG_REGION_NOT_LIVE_REGION",
            "nullable": true,
            "type": "string"
           },
           {
            "metadata": {},
            "name": "REG_REGION_NOT_WORK_REGION",
            "nullable": true,
            "type": "integer"
           },
           {
            "metadata": {},
            "name": "ORGANIZATION_TYPE",
            "nullable": true,
            "type": "integer"
           },
           {
            "metadata": {},
            "name": "FLAG_DOCUMENT_2",
            "nullable": true,
            "type": "integer"
           },
           {
            "metadata": {},
            "name": "FLAG_DOCUMENT_3",
            "nullable": true,
            "type": "integer"
           },
           {
            "metadata": {},
            "name": "FLAG_DOCUMENT_4",
            "nullable": true,
            "type": "integer"
           },
           {
            "metadata": {},
            "name": "FLAG_DOCUMENT_5",
            "nullable": true,
            "type": "integer"
           },
           {
            "metadata": {},
            "name": "FLAG_DOCUMENT_6",
            "nullable": true,
            "type": "integer"
           },
           {
            "metadata": {},
            "name": "FLAG_DOCUMENT_7",
            "nullable": true,
            "type": "integer"
           },
           {
            "metadata": {},
            "name": "FLAG_DOCUMENT_8",
            "nullable": true,
            "type": "integer"
           },
           {
            "metadata": {},
            "name": "FLAG_DOCUMENT_9",
            "nullable": true,
            "type": "integer"
           },
           {
            "metadata": {},
            "name": "FLAG_DOCUMENT_10",
            "nullable": true,
            "type": "integer"
           },
           {
            "metadata": {
             "ml_attr": {
              "name": "FLAG_OWN_REALTY_NEW",
              "type": "nominal",
              "vals": [
               "Y",
               "N"
              ]
             }
            },
            "name": "FLAG_OWN_REALTY_NEW",
            "nullable": false,
            "type": "double"
           },
           {
            "metadata": {
             "ml_attr": {
              "name": "FLAG_OWN_CAR_NEW",
              "type": "nominal",
              "vals": [
               "N",
               "Y"
              ]
             }
            },
            "name": "FLAG_OWN_CAR_NEW",
            "nullable": false,
            "type": "double"
           },
           {
            "metadata": {
             "ml_attr": {
              "name": "REG_REGION_NOT_LIVE_REGION_NEW",
              "type": "nominal",
              "vals": [
               "Business Entity Type 3",
               "XNA",
               "Self-employed",
               "Other",
               "Medicine",
               "Business Entity Type 2",
               "Government",
               "School",
               "Trade: type 7",
               "Kindergarten",
               "Construction",
               "Business Entity Type 1",
               "Transport: type 4",
               "Trade: type 3",
               "Industry: type 9",
               "Industry: type 3",
               "Security",
               "Housing",
               "Industry: type 11",
               "Military",
               "Bank",
               "Agriculture",
               "Police",
               "Transport: type 2",
               "Postal",
               "Security Ministries",
               "Trade: type 2",
               "Restaurant",
               "Services",
               "University",
               "Industry: type 7",
               "Transport: type 3",
               "Industry: type 1",
               "Hotel",
               "Electricity",
               "Industry: type 4",
               "Trade: type 6",
               "Industry: type 5",
               "Insurance",
               "Telecom",
               "Emergency",
               "Industry: type 2",
               "Advertising",
               "Realtor",
               "Culture",
               "Industry: type 12",
               "Trade: type 1",
               "Mobile",
               "Legal Services",
               "Cleaning",
               "Transport: type 1",
               "Industry: type 6",
               "Industry: type 10",
               "Religion",
               "Industry: type 13",
               "Trade: type 4",
               "Trade: type 5",
               "Industry: type 8"
              ]
             }
            },
            "name": "REG_REGION_NOT_LIVE_REGION_NEW",
            "nullable": false,
            "type": "double"
           },
           {
            "metadata": {
             "ml_attr": {
              "name": "NAME_FAMILY_STATUS_NEW",
              "type": "nominal",
              "vals": [
               "Married",
               "Single / not married",
               "Civil marriage",
               "Separated",
               "Widow"
              ]
             }
            },
            "name": "NAME_FAMILY_STATUS_NEW",
            "nullable": false,
            "type": "double"
           },
           {
            "metadata": {
             "ml_attr": {
              "name": "NAME_CONTRACT_TYPE_NEW",
              "type": "nominal",
              "vals": [
               "Cash loans",
               "Revolving loans"
              ]
             }
            },
            "name": "NAME_CONTRACT_TYPE_NEW",
            "nullable": false,
            "type": "double"
           },
           {
            "metadata": {
             "ml_attr": {
              "name": "NAME_EDUCATION_TYPE_NEW",
              "type": "nominal",
              "vals": [
               "Secondary / secondary special",
               "Higher education",
               "Incomplete higher",
               "Lower secondary",
               "Academic degree"
              ]
             }
            },
            "name": "NAME_EDUCATION_TYPE_NEW",
            "nullable": false,
            "type": "double"
           },
           {
            "metadata": {
             "ml_attr": {
              "name": "NAME_HOUSING_TYPE_NEW",
              "type": "nominal",
              "vals": [
               "House / apartment",
               "With parents",
               "Municipal apartment",
               "Rented apartment",
               "Office apartment",
               "Co-op apartment"
              ]
             }
            },
            "name": "NAME_HOUSING_TYPE_NEW",
            "nullable": false,
            "type": "double"
           },
           {
            "metadata": {
             "ml_attr": {
              "name": "NAME_INCOME_TYPE_NEW",
              "type": "nominal",
              "vals": [
               "Working",
               "Commercial associate",
               "Pensioner",
               "State servant",
               "Unemployed",
               "Student",
               "Businessman",
               "Maternity leave"
              ]
             }
            },
            "name": "NAME_INCOME_TYPE_NEW",
            "nullable": false,
            "type": "double"
           },
           {
            "metadata": {
             "ml_attr": {
              "name": "CODE_GENDER_NEW",
              "type": "nominal",
              "vals": [
               "F",
               "M",
               "XNA"
              ]
             }
            },
            "name": "CODE_GENDER_NEW",
            "nullable": false,
            "type": "double"
           }
          ],
          "type": "struct"
         },
         "tableIdentifier": null,
         "typeStr": "pyspark.sql.dataframe.DataFrame"
        }
       ],
       "metadata": {},
       "removedWidgets": [],
       "textData": "<div class=\"ansiout\">Out[158]: </div>",
       "type": "htmlSandbox"
      }
     },
     "output_type": "display_data"
    }
   ],
   "source": [
    "from pyspark.ml.feature import StringIndexer\n",
    "indexer=StringIndexer(inputCols=list1,outputCols=list2)\n",
    "df_r=indexer.fit(df2).transform(df2)\n",
    "df_r.toPandas()"
   ]
  },
  {
   "cell_type": "code",
   "execution_count": 0,
   "metadata": {
    "application/vnd.databricks.v1+cell": {
     "inputWidgets": {},
     "nuid": "b71e1a55-887f-4418-81b3-7377f6fa72d0",
     "showTitle": false,
     "title": ""
    }
   },
   "outputs": [
    {
     "data": {
      "text/html": [
       "<style scoped>\n",
       "  .ansiout {\n",
       "    display: block;\n",
       "    unicode-bidi: embed;\n",
       "    white-space: pre-wrap;\n",
       "    word-wrap: break-word;\n",
       "    word-break: break-all;\n",
       "    font-family: \"Source Code Pro\", \"Menlo\", monospace;;\n",
       "    font-size: 13px;\n",
       "    color: #555;\n",
       "    margin-left: 4px;\n",
       "    line-height: 19px;\n",
       "  }\n",
       "</style>\n",
       "<div class=\"ansiout\">Out[159]: [&#39;TARGET&#39;,\n",
       " &#39;NAME_CONTRACT_TYPE&#39;,\n",
       " &#39;CODE_GENDER&#39;,\n",
       " &#39;FLAG_OWN_CAR&#39;,\n",
       " &#39;FLAG_OWN_REALTY&#39;,\n",
       " &#39;CNT_CHILDREN&#39;,\n",
       " &#39;AMT_INCOME_TOTAL&#39;,\n",
       " &#39;AMT_CREDIT&#39;,\n",
       " &#39;AMT_ANNUITY&#39;,\n",
       " &#39;NAME_INCOME_TYPE&#39;,\n",
       " &#39;NAME_EDUCATION_TYPE&#39;,\n",
       " &#39;NAME_FAMILY_STATUS&#39;,\n",
       " &#39;NAME_HOUSING_TYPE&#39;,\n",
       " &#39;DAYS_BIRTH&#39;,\n",
       " &#39;DAYS_EMPLOYED&#39;,\n",
       " &#39;OWN_CAR_AGE&#39;,\n",
       " &#39;FLAG_MOBIL&#39;,\n",
       " &#39;FLAG_EMP_PHONE&#39;,\n",
       " &#39;FLAG_WORK_PHONE&#39;,\n",
       " &#39;FLAG_CONT_MOBILE&#39;,\n",
       " &#39;FLAG_PHONE&#39;,\n",
       " &#39;OCCUPATION_TYPE&#39;,\n",
       " &#39;CNT_FAM_MEMBERS&#39;,\n",
       " &#39;REGION_RATING_CLIENT&#39;,\n",
       " &#39;REGION_RATING_CLIENT_W_CITY&#39;,\n",
       " &#39;REG_REGION_NOT_LIVE_REGION&#39;,\n",
       " &#39;REG_REGION_NOT_WORK_REGION&#39;,\n",
       " &#39;ORGANIZATION_TYPE&#39;,\n",
       " &#39;FLAG_DOCUMENT_2&#39;,\n",
       " &#39;FLAG_DOCUMENT_3&#39;,\n",
       " &#39;FLAG_DOCUMENT_4&#39;,\n",
       " &#39;FLAG_DOCUMENT_5&#39;,\n",
       " &#39;FLAG_DOCUMENT_6&#39;,\n",
       " &#39;FLAG_DOCUMENT_7&#39;,\n",
       " &#39;FLAG_DOCUMENT_8&#39;,\n",
       " &#39;FLAG_DOCUMENT_9&#39;,\n",
       " &#39;FLAG_DOCUMENT_10&#39;,\n",
       " &#39;FLAG_OWN_REALTY_NEW&#39;,\n",
       " &#39;FLAG_OWN_CAR_NEW&#39;,\n",
       " &#39;REG_REGION_NOT_LIVE_REGION_NEW&#39;,\n",
       " &#39;NAME_FAMILY_STATUS_NEW&#39;,\n",
       " &#39;NAME_CONTRACT_TYPE_NEW&#39;,\n",
       " &#39;NAME_EDUCATION_TYPE_NEW&#39;,\n",
       " &#39;NAME_HOUSING_TYPE_NEW&#39;,\n",
       " &#39;NAME_INCOME_TYPE_NEW&#39;,\n",
       " &#39;CODE_GENDER_NEW&#39;]</div>"
      ]
     },
     "metadata": {
      "application/vnd.databricks.v1+output": {
       "addedWidgets": {},
       "arguments": {},
       "data": "<div class=\"ansiout\">Out[159]: [&#39;TARGET&#39;,\n &#39;NAME_CONTRACT_TYPE&#39;,\n &#39;CODE_GENDER&#39;,\n &#39;FLAG_OWN_CAR&#39;,\n &#39;FLAG_OWN_REALTY&#39;,\n &#39;CNT_CHILDREN&#39;,\n &#39;AMT_INCOME_TOTAL&#39;,\n &#39;AMT_CREDIT&#39;,\n &#39;AMT_ANNUITY&#39;,\n &#39;NAME_INCOME_TYPE&#39;,\n &#39;NAME_EDUCATION_TYPE&#39;,\n &#39;NAME_FAMILY_STATUS&#39;,\n &#39;NAME_HOUSING_TYPE&#39;,\n &#39;DAYS_BIRTH&#39;,\n &#39;DAYS_EMPLOYED&#39;,\n &#39;OWN_CAR_AGE&#39;,\n &#39;FLAG_MOBIL&#39;,\n &#39;FLAG_EMP_PHONE&#39;,\n &#39;FLAG_WORK_PHONE&#39;,\n &#39;FLAG_CONT_MOBILE&#39;,\n &#39;FLAG_PHONE&#39;,\n &#39;OCCUPATION_TYPE&#39;,\n &#39;CNT_FAM_MEMBERS&#39;,\n &#39;REGION_RATING_CLIENT&#39;,\n &#39;REGION_RATING_CLIENT_W_CITY&#39;,\n &#39;REG_REGION_NOT_LIVE_REGION&#39;,\n &#39;REG_REGION_NOT_WORK_REGION&#39;,\n &#39;ORGANIZATION_TYPE&#39;,\n &#39;FLAG_DOCUMENT_2&#39;,\n &#39;FLAG_DOCUMENT_3&#39;,\n &#39;FLAG_DOCUMENT_4&#39;,\n &#39;FLAG_DOCUMENT_5&#39;,\n &#39;FLAG_DOCUMENT_6&#39;,\n &#39;FLAG_DOCUMENT_7&#39;,\n &#39;FLAG_DOCUMENT_8&#39;,\n &#39;FLAG_DOCUMENT_9&#39;,\n &#39;FLAG_DOCUMENT_10&#39;,\n &#39;FLAG_OWN_REALTY_NEW&#39;,\n &#39;FLAG_OWN_CAR_NEW&#39;,\n &#39;REG_REGION_NOT_LIVE_REGION_NEW&#39;,\n &#39;NAME_FAMILY_STATUS_NEW&#39;,\n &#39;NAME_CONTRACT_TYPE_NEW&#39;,\n &#39;NAME_EDUCATION_TYPE_NEW&#39;,\n &#39;NAME_HOUSING_TYPE_NEW&#39;,\n &#39;NAME_INCOME_TYPE_NEW&#39;,\n &#39;CODE_GENDER_NEW&#39;]</div>",
       "datasetInfos": [],
       "metadata": {},
       "removedWidgets": [],
       "type": "html"
      }
     },
     "output_type": "display_data"
    }
   ],
   "source": [
    "df_r.columns"
   ]
  },
  {
   "cell_type": "code",
   "execution_count": 0,
   "metadata": {
    "application/vnd.databricks.v1+cell": {
     "inputWidgets": {},
     "nuid": "0a32e836-1d13-4b87-97a5-3dcc145a9b8e",
     "showTitle": false,
     "title": ""
    }
   },
   "outputs": [
    {
     "data": {
      "text/html": [
       "<style scoped>\n",
       "  .ansiout {\n",
       "    display: block;\n",
       "    unicode-bidi: embed;\n",
       "    white-space: pre-wrap;\n",
       "    word-wrap: break-word;\n",
       "    word-break: break-all;\n",
       "    font-family: \"Source Code Pro\", \"Menlo\", monospace;;\n",
       "    font-size: 13px;\n",
       "    color: #555;\n",
       "    margin-left: 4px;\n",
       "    line-height: 19px;\n",
       "  }\n",
       "</style>\n",
       "<div class=\"ansiout\"></div>"
      ]
     },
     "metadata": {
      "application/vnd.databricks.v1+output": {
       "addedWidgets": {},
       "arguments": {},
       "data": "<div class=\"ansiout\"></div>",
       "datasetInfos": [
        {
         "name": "output",
         "schema": {
          "fields": [
           {
            "metadata": {},
            "name": "TARGET",
            "nullable": true,
            "type": "integer"
           },
           {
            "metadata": {},
            "name": "NAME_CONTRACT_TYPE",
            "nullable": true,
            "type": "string"
           },
           {
            "metadata": {},
            "name": "CODE_GENDER",
            "nullable": true,
            "type": "string"
           },
           {
            "metadata": {},
            "name": "FLAG_OWN_CAR",
            "nullable": true,
            "type": "string"
           },
           {
            "metadata": {},
            "name": "FLAG_OWN_REALTY",
            "nullable": true,
            "type": "string"
           },
           {
            "metadata": {},
            "name": "CNT_CHILDREN",
            "nullable": true,
            "type": "integer"
           },
           {
            "metadata": {},
            "name": "AMT_INCOME_TOTAL",
            "nullable": true,
            "type": "double"
           },
           {
            "metadata": {},
            "name": "AMT_CREDIT",
            "nullable": true,
            "type": "double"
           },
           {
            "metadata": {},
            "name": "AMT_ANNUITY",
            "nullable": true,
            "type": "double"
           },
           {
            "metadata": {},
            "name": "NAME_INCOME_TYPE",
            "nullable": true,
            "type": "string"
           },
           {
            "metadata": {},
            "name": "NAME_EDUCATION_TYPE",
            "nullable": true,
            "type": "string"
           },
           {
            "metadata": {},
            "name": "NAME_FAMILY_STATUS",
            "nullable": true,
            "type": "string"
           },
           {
            "metadata": {},
            "name": "NAME_HOUSING_TYPE",
            "nullable": true,
            "type": "string"
           },
           {
            "metadata": {},
            "name": "DAYS_BIRTH",
            "nullable": true,
            "type": "integer"
           },
           {
            "metadata": {},
            "name": "DAYS_EMPLOYED",
            "nullable": true,
            "type": "integer"
           },
           {
            "metadata": {},
            "name": "OWN_CAR_AGE",
            "nullable": true,
            "type": "integer"
           },
           {
            "metadata": {},
            "name": "FLAG_MOBIL",
            "nullable": true,
            "type": "integer"
           },
           {
            "metadata": {},
            "name": "FLAG_EMP_PHONE",
            "nullable": true,
            "type": "integer"
           },
           {
            "metadata": {},
            "name": "FLAG_WORK_PHONE",
            "nullable": true,
            "type": "integer"
           },
           {
            "metadata": {},
            "name": "FLAG_CONT_MOBILE",
            "nullable": true,
            "type": "integer"
           },
           {
            "metadata": {},
            "name": "FLAG_PHONE",
            "nullable": true,
            "type": "integer"
           },
           {
            "metadata": {},
            "name": "OCCUPATION_TYPE",
            "nullable": true,
            "type": "integer"
           },
           {
            "metadata": {},
            "name": "CNT_FAM_MEMBERS",
            "nullable": true,
            "type": "integer"
           },
           {
            "metadata": {},
            "name": "REGION_RATING_CLIENT",
            "nullable": true,
            "type": "integer"
           },
           {
            "metadata": {},
            "name": "REGION_RATING_CLIENT_W_CITY",
            "nullable": true,
            "type": "integer"
           },
           {
            "metadata": {},
            "name": "REG_REGION_NOT_LIVE_REGION",
            "nullable": true,
            "type": "string"
           },
           {
            "metadata": {},
            "name": "REG_REGION_NOT_WORK_REGION",
            "nullable": true,
            "type": "integer"
           },
           {
            "metadata": {},
            "name": "ORGANIZATION_TYPE",
            "nullable": true,
            "type": "integer"
           },
           {
            "metadata": {},
            "name": "FLAG_DOCUMENT_2",
            "nullable": true,
            "type": "integer"
           },
           {
            "metadata": {},
            "name": "FLAG_DOCUMENT_3",
            "nullable": true,
            "type": "integer"
           },
           {
            "metadata": {},
            "name": "FLAG_DOCUMENT_4",
            "nullable": true,
            "type": "integer"
           },
           {
            "metadata": {},
            "name": "FLAG_DOCUMENT_5",
            "nullable": true,
            "type": "integer"
           },
           {
            "metadata": {},
            "name": "FLAG_DOCUMENT_6",
            "nullable": true,
            "type": "integer"
           },
           {
            "metadata": {},
            "name": "FLAG_DOCUMENT_7",
            "nullable": true,
            "type": "integer"
           },
           {
            "metadata": {},
            "name": "FLAG_DOCUMENT_8",
            "nullable": true,
            "type": "integer"
           },
           {
            "metadata": {},
            "name": "FLAG_DOCUMENT_9",
            "nullable": true,
            "type": "integer"
           },
           {
            "metadata": {},
            "name": "FLAG_DOCUMENT_10",
            "nullable": true,
            "type": "integer"
           },
           {
            "metadata": {
             "ml_attr": {
              "name": "FLAG_OWN_REALTY_NEW",
              "type": "nominal",
              "vals": [
               "Y",
               "N"
              ]
             }
            },
            "name": "FLAG_OWN_REALTY_NEW",
            "nullable": false,
            "type": "double"
           },
           {
            "metadata": {
             "ml_attr": {
              "name": "FLAG_OWN_CAR_NEW",
              "type": "nominal",
              "vals": [
               "N",
               "Y"
              ]
             }
            },
            "name": "FLAG_OWN_CAR_NEW",
            "nullable": false,
            "type": "double"
           },
           {
            "metadata": {
             "ml_attr": {
              "name": "REG_REGION_NOT_LIVE_REGION_NEW",
              "type": "nominal",
              "vals": [
               "Business Entity Type 3",
               "XNA",
               "Self-employed",
               "Other",
               "Medicine",
               "Business Entity Type 2",
               "Government",
               "School",
               "Trade: type 7",
               "Kindergarten",
               "Construction",
               "Business Entity Type 1",
               "Transport: type 4",
               "Trade: type 3",
               "Industry: type 9",
               "Industry: type 3",
               "Security",
               "Housing",
               "Industry: type 11",
               "Military",
               "Bank",
               "Agriculture",
               "Police",
               "Transport: type 2",
               "Postal",
               "Security Ministries",
               "Trade: type 2",
               "Restaurant",
               "Services",
               "University",
               "Industry: type 7",
               "Transport: type 3",
               "Industry: type 1",
               "Hotel",
               "Electricity",
               "Industry: type 4",
               "Trade: type 6",
               "Industry: type 5",
               "Insurance",
               "Telecom",
               "Emergency",
               "Industry: type 2",
               "Advertising",
               "Realtor",
               "Culture",
               "Industry: type 12",
               "Trade: type 1",
               "Mobile",
               "Legal Services",
               "Cleaning",
               "Transport: type 1",
               "Industry: type 6",
               "Industry: type 10",
               "Religion",
               "Industry: type 13",
               "Trade: type 4",
               "Trade: type 5",
               "Industry: type 8"
              ]
             }
            },
            "name": "REG_REGION_NOT_LIVE_REGION_NEW",
            "nullable": false,
            "type": "double"
           },
           {
            "metadata": {
             "ml_attr": {
              "name": "NAME_FAMILY_STATUS_NEW",
              "type": "nominal",
              "vals": [
               "Married",
               "Single / not married",
               "Civil marriage",
               "Separated",
               "Widow"
              ]
             }
            },
            "name": "NAME_FAMILY_STATUS_NEW",
            "nullable": false,
            "type": "double"
           },
           {
            "metadata": {
             "ml_attr": {
              "name": "NAME_CONTRACT_TYPE_NEW",
              "type": "nominal",
              "vals": [
               "Cash loans",
               "Revolving loans"
              ]
             }
            },
            "name": "NAME_CONTRACT_TYPE_NEW",
            "nullable": false,
            "type": "double"
           },
           {
            "metadata": {
             "ml_attr": {
              "name": "NAME_EDUCATION_TYPE_NEW",
              "type": "nominal",
              "vals": [
               "Secondary / secondary special",
               "Higher education",
               "Incomplete higher",
               "Lower secondary",
               "Academic degree"
              ]
             }
            },
            "name": "NAME_EDUCATION_TYPE_NEW",
            "nullable": false,
            "type": "double"
           },
           {
            "metadata": {
             "ml_attr": {
              "name": "NAME_HOUSING_TYPE_NEW",
              "type": "nominal",
              "vals": [
               "House / apartment",
               "With parents",
               "Municipal apartment",
               "Rented apartment",
               "Office apartment",
               "Co-op apartment"
              ]
             }
            },
            "name": "NAME_HOUSING_TYPE_NEW",
            "nullable": false,
            "type": "double"
           },
           {
            "metadata": {
             "ml_attr": {
              "name": "NAME_INCOME_TYPE_NEW",
              "type": "nominal",
              "vals": [
               "Working",
               "Commercial associate",
               "Pensioner",
               "State servant",
               "Unemployed",
               "Student",
               "Businessman",
               "Maternity leave"
              ]
             }
            },
            "name": "NAME_INCOME_TYPE_NEW",
            "nullable": false,
            "type": "double"
           },
           {
            "metadata": {
             "ml_attr": {
              "name": "CODE_GENDER_NEW",
              "type": "nominal",
              "vals": [
               "F",
               "M",
               "XNA"
              ]
             }
            },
            "name": "CODE_GENDER_NEW",
            "nullable": false,
            "type": "double"
           },
           {
            "metadata": {
             "ml_attr": {
              "attrs": {
               "nominal": [
                {
                 "idx": 0,
                 "name": "NAME_CONTRACT_TYPE_NEW",
                 "vals": [
                  "Cash loans",
                  "Revolving loans"
                 ]
                },
                {
                 "idx": 1,
                 "name": "FLAG_OWN_CAR_NEW",
                 "vals": [
                  "N",
                  "Y"
                 ]
                },
                {
                 "idx": 2,
                 "name": "FLAG_OWN_REALTY_NEW",
                 "vals": [
                  "Y",
                  "N"
                 ]
                },
                {
                 "idx": 6,
                 "name": "NAME_CONTRACT_TYPE_NEW",
                 "vals": [
                  "Cash loans",
                  "Revolving loans"
                 ]
                },
                {
                 "idx": 7,
                 "name": "NAME_EDUCATION_TYPE_NEW",
                 "vals": [
                  "Secondary / secondary special",
                  "Higher education",
                  "Incomplete higher",
                  "Lower secondary",
                  "Academic degree"
                 ]
                },
                {
                 "idx": 8,
                 "name": "NAME_HOUSING_TYPE_NEW",
                 "vals": [
                  "House / apartment",
                  "With parents",
                  "Municipal apartment",
                  "Rented apartment",
                  "Office apartment",
                  "Co-op apartment"
                 ]
                },
                {
                 "idx": 15,
                 "name": "REG_REGION_NOT_LIVE_REGION_NEW",
                 "vals": [
                  "Business Entity Type 3",
                  "XNA",
                  "Self-employed",
                  "Other",
                  "Medicine",
                  "Business Entity Type 2",
                  "Government",
                  "School",
                  "Trade: type 7",
                  "Kindergarten",
                  "Construction",
                  "Business Entity Type 1",
                  "Transport: type 4",
                  "Trade: type 3",
                  "Industry: type 9",
                  "Industry: type 3",
                  "Security",
                  "Housing",
                  "Industry: type 11",
                  "Military",
                  "Bank",
                  "Agriculture",
                  "Police",
                  "Transport: type 2",
                  "Postal",
                  "Security Ministries",
                  "Trade: type 2",
                  "Restaurant",
                  "Services",
                  "University",
                  "Industry: type 7",
                  "Transport: type 3",
                  "Industry: type 1",
                  "Hotel",
                  "Electricity",
                  "Industry: type 4",
                  "Trade: type 6",
                  "Industry: type 5",
                  "Insurance",
                  "Telecom",
                  "Emergency",
                  "Industry: type 2",
                  "Advertising",
                  "Realtor",
                  "Culture",
                  "Industry: type 12",
                  "Trade: type 1",
                  "Mobile",
                  "Legal Services",
                  "Cleaning",
                  "Transport: type 1",
                  "Industry: type 6",
                  "Industry: type 10",
                  "Religion",
                  "Industry: type 13",
                  "Trade: type 4",
                  "Trade: type 5",
                  "Industry: type 8"
                 ]
                }
               ],
               "numeric": [
                {
                 "idx": 3,
                 "name": "AMT_INCOME_TOTAL"
                },
                {
                 "idx": 4,
                 "name": "AMT_CREDIT"
                },
                {
                 "idx": 5,
                 "name": "AMT_ANNUITY"
                },
                {
                 "idx": 9,
                 "name": "DAYS_EMPLOYED"
                },
                {
                 "idx": 10,
                 "name": "FLAG_WORK_PHONE"
                },
                {
                 "idx": 11,
                 "name": "FLAG_CONT_MOBILE"
                },
                {
                 "idx": 12,
                 "name": "OCCUPATION_TYPE"
                },
                {
                 "idx": 13,
                 "name": "REGION_RATING_CLIENT"
                },
                {
                 "idx": 14,
                 "name": "REGION_RATING_CLIENT_W_CITY"
                },
                {
                 "idx": 16,
                 "name": "REG_REGION_NOT_WORK_REGION"
                }
               ]
              },
              "num_attrs": 17
             }
            },
            "name": "Independent Features",
            "nullable": true,
            "type": {
             "class": "org.apache.spark.ml.linalg.VectorUDT",
             "pyClass": "pyspark.ml.linalg.VectorUDT",
             "sqlType": {
              "fields": [
               {
                "metadata": {},
                "name": "type",
                "nullable": false,
                "type": "byte"
               },
               {
                "metadata": {},
                "name": "size",
                "nullable": true,
                "type": "integer"
               },
               {
                "metadata": {},
                "name": "indices",
                "nullable": true,
                "type": {
                 "containsNull": false,
                 "elementType": "integer",
                 "type": "array"
                }
               },
               {
                "metadata": {},
                "name": "values",
                "nullable": true,
                "type": {
                 "containsNull": false,
                 "elementType": "double",
                 "type": "array"
                }
               }
              ],
              "type": "struct"
             },
             "type": "udt"
            }
           }
          ],
          "type": "struct"
         },
         "tableIdentifier": null,
         "typeStr": "pyspark.sql.dataframe.DataFrame"
        }
       ],
       "metadata": {},
       "removedWidgets": [],
       "type": "html"
      }
     },
     "output_type": "display_data"
    }
   ],
   "source": [
    "list3=['NAME_CONTRACT_TYPE_NEW','FLAG_OWN_CAR_NEW','FLAG_OWN_REALTY_NEW','AMT_INCOME_TOTAL','AMT_CREDIT','AMT_ANNUITY','NAME_CONTRACT_TYPE_NEW','NAME_EDUCATION_TYPE_NEW','NAME_HOUSING_TYPE_NEW','DAYS_EMPLOYED','FLAG_WORK_PHONE','FLAG_CONT_MOBILE','OCCUPATION_TYPE',\"REGION_RATING_CLIENT\",'REGION_RATING_CLIENT_W_CITY','REG_REGION_NOT_LIVE_REGION_NEW','REG_REGION_NOT_WORK_REGION']\n",
    "\n",
    "from  pyspark.ml.feature import VectorAssembler\n",
    "featureassembler=VectorAssembler(inputCols=list3,outputCol=\"Independent Features\")\n",
    "output=featureassembler.transform(df_r)"
   ]
  },
  {
   "cell_type": "code",
   "execution_count": 0,
   "metadata": {
    "application/vnd.databricks.v1+cell": {
     "inputWidgets": {},
     "nuid": "215ccd7b-e8cb-4762-8e3a-007afc732de1",
     "showTitle": false,
     "title": ""
    }
   },
   "outputs": [
    {
     "data": {
      "text/html": [
       "<style scoped>\n",
       "  .ansiout {\n",
       "    display: block;\n",
       "    unicode-bidi: embed;\n",
       "    white-space: pre-wrap;\n",
       "    word-wrap: break-word;\n",
       "    word-break: break-all;\n",
       "    font-family: \"Source Code Pro\", \"Menlo\", monospace;;\n",
       "    font-size: 13px;\n",
       "    color: #555;\n",
       "    margin-left: 4px;\n",
       "    line-height: 19px;\n",
       "  }\n",
       "</style>\n",
       "<div class=\"ansiout\">+--------------------+\n",
       "Independent Features|\n",
       "+--------------------+\n",
       "(17,[3,4,5,9,10,1...|\n",
       "(17,[2,3,4,5,7,9,...|\n",
       "[1.0,1.0,0.0,6750...|\n",
       "(17,[3,4,5,9,10,1...|\n",
       "(17,[3,4,5,9,10,1...|\n",
       "(17,[3,4,5,9,10,1...|\n",
       "(17,[1,3,4,5,7,9,...|\n",
       "(17,[1,3,4,5,7,9,...|\n",
       "(17,[3,4,5,9,10,1...|\n",
       "(17,[0,3,4,5,6,9,...|\n",
       "(17,[3,4,5,7,9,10...|\n",
       "(17,[3,4,5,9,10,1...|\n",
       "(17,[3,4,5,9,10,1...|\n",
       "(17,[1,2,3,4,5,9,...|\n",
       "(17,[3,4,5,9,10,1...|\n",
       "(17,[1,3,4,5,8,9,...|\n",
       "(17,[2,3,4,5,9,10...|\n",
       "(17,[0,3,4,5,6,9,...|\n",
       "(17,[0,3,4,5,6,9,...|\n",
       "(17,[3,4,5,7,9,10...|\n",
       "+--------------------+\n",
       "only showing top 20 rows\n",
       "\n",
       "</div>"
      ]
     },
     "metadata": {
      "application/vnd.databricks.v1+output": {
       "addedWidgets": {},
       "arguments": {},
       "data": "<div class=\"ansiout\">+--------------------+\n|Independent Features|\n+--------------------+\n|(17,[3,4,5,9,10,1...|\n|(17,[2,3,4,5,7,9,...|\n|[1.0,1.0,0.0,6750...|\n|(17,[3,4,5,9,10,1...|\n|(17,[3,4,5,9,10,1...|\n|(17,[3,4,5,9,10,1...|\n|(17,[1,3,4,5,7,9,...|\n|(17,[1,3,4,5,7,9,...|\n|(17,[3,4,5,9,10,1...|\n|(17,[0,3,4,5,6,9,...|\n|(17,[3,4,5,7,9,10...|\n|(17,[3,4,5,9,10,1...|\n|(17,[3,4,5,9,10,1...|\n|(17,[1,2,3,4,5,9,...|\n|(17,[3,4,5,9,10,1...|\n|(17,[1,3,4,5,8,9,...|\n|(17,[2,3,4,5,9,10...|\n|(17,[0,3,4,5,6,9,...|\n|(17,[0,3,4,5,6,9,...|\n|(17,[3,4,5,7,9,10...|\n+--------------------+\nonly showing top 20 rows\n\n</div>",
       "datasetInfos": [],
       "metadata": {},
       "removedWidgets": [],
       "type": "html"
      }
     },
     "output_type": "display_data"
    }
   ],
   "source": [
    "output.select('Independent Features').show()"
   ]
  },
  {
   "cell_type": "code",
   "execution_count": 0,
   "metadata": {
    "application/vnd.databricks.v1+cell": {
     "inputWidgets": {},
     "nuid": "8a1e8063-fd84-4e9d-8983-31ba5c389487",
     "showTitle": false,
     "title": ""
    }
   },
   "outputs": [
    {
     "data": {
      "text/html": [
       "<style scoped>\n",
       "  .ansiout {\n",
       "    display: block;\n",
       "    unicode-bidi: embed;\n",
       "    white-space: pre-wrap;\n",
       "    word-wrap: break-word;\n",
       "    word-break: break-all;\n",
       "    font-family: \"Source Code Pro\", \"Menlo\", monospace;;\n",
       "    font-size: 13px;\n",
       "    color: #555;\n",
       "    margin-left: 4px;\n",
       "    line-height: 19px;\n",
       "  }\n",
       "</style>\n",
       "<div class=\"ansiout\">+------+------------------+-----------+------------+---------------+------------+----------------+----------+-----------+--------------------+--------------------+--------------------+-----------------+----------+-------------+-----------+----------+--------------+---------------+----------------+----------+---------------+---------------+--------------------+---------------------------+--------------------------+--------------------------+-----------------+---------------+---------------+---------------+---------------+---------------+---------------+---------------+---------------+----------------+-------------------+----------------+------------------------------+----------------------+----------------------+-----------------------+---------------------+--------------------+---------------+--------------------+\n",
       "TARGET|NAME_CONTRACT_TYPE|CODE_GENDER|FLAG_OWN_CAR|FLAG_OWN_REALTY|CNT_CHILDREN|AMT_INCOME_TOTAL|AMT_CREDIT|AMT_ANNUITY|    NAME_INCOME_TYPE| NAME_EDUCATION_TYPE|  NAME_FAMILY_STATUS|NAME_HOUSING_TYPE|DAYS_BIRTH|DAYS_EMPLOYED|OWN_CAR_AGE|FLAG_MOBIL|FLAG_EMP_PHONE|FLAG_WORK_PHONE|FLAG_CONT_MOBILE|FLAG_PHONE|OCCUPATION_TYPE|CNT_FAM_MEMBERS|REGION_RATING_CLIENT|REGION_RATING_CLIENT_W_CITY|REG_REGION_NOT_LIVE_REGION|REG_REGION_NOT_WORK_REGION|ORGANIZATION_TYPE|FLAG_DOCUMENT_2|FLAG_DOCUMENT_3|FLAG_DOCUMENT_4|FLAG_DOCUMENT_5|FLAG_DOCUMENT_6|FLAG_DOCUMENT_7|FLAG_DOCUMENT_8|FLAG_DOCUMENT_9|FLAG_DOCUMENT_10|FLAG_OWN_REALTY_NEW|FLAG_OWN_CAR_NEW|REG_REGION_NOT_LIVE_REGION_NEW|NAME_FAMILY_STATUS_NEW|NAME_CONTRACT_TYPE_NEW|NAME_EDUCATION_TYPE_NEW|NAME_HOUSING_TYPE_NEW|NAME_INCOME_TYPE_NEW|CODE_GENDER_NEW|Independent Features|\n",
       "+------+------------------+-----------+------------+---------------+------------+----------------+----------+-----------+--------------------+--------------------+--------------------+-----------------+----------+-------------+-----------+----------+--------------+---------------+----------------+----------+---------------+---------------+--------------------+---------------------------+--------------------------+--------------------------+-----------------+---------------+---------------+---------------+---------------+---------------+---------------+---------------+---------------+----------------+-------------------+----------------+------------------------------+----------------------+----------------------+-----------------------+---------------------+--------------------+---------------+--------------------+\n",
       "     1|        Cash loans|          M|           N|              Y|           0|        202500.0|  406597.5|    24700.5|             Working|Secondary / secon...|Single / not married|House / apartment|     -9461|         -637|          1|         1|             0|              1|               1|         1|              2|              2|                   0|                          0|      Business Entity T...|                         0|                1|              0|              0|              0|              0|              0|              0|              0|              0|               0|                0.0|             0.0|                           0.0|                   1.0|                   0.0|                    0.0|                  0.0|                 0.0|            1.0|(17,[3,4,5,9,10,1...|\n",
       "     0|        Cash loans|          F|           N|              N|           0|        270000.0| 1293502.5|    35698.5|       State servant|    Higher education|             Married|House / apartment|    -16765|        -1188|          1|         1|             0|              1|               1|         2|              1|              1|                   0|                          0|                    School|                         0|                1|              0|              0|              0|              0|              0|              0|              0|              0|               0|                1.0|             0.0|                           7.0|                   0.0|                   0.0|                    1.0|                  0.0|                 3.0|            0.0|(17,[2,3,4,5,7,9,...|\n",
       "     0|   Revolving loans|          M|           Y|              Y|           0|         67500.0|  135000.0|     6750.0|             Working|Secondary / secon...|Single / not married|House / apartment|    -19046|         -225|          1|         1|             1|              1|               1|         1|              2|              2|                   0|                          0|                Government|                         0|                0|              0|              0|              0|              0|              0|              0|              0|              0|               0|                0.0|             1.0|                           6.0|                   1.0|                   1.0|                    0.0|                  0.0|                 0.0|            1.0|[1.0,1.0,0.0,6750...|\n",
       "     0|        Cash loans|          F|           N|              Y|           0|        135000.0|  312682.5|    29686.5|             Working|Secondary / secon...|      Civil marriage|House / apartment|    -19005|        -3039|          1|         1|             0|              1|               0|         2|              2|              2|                   0|                          0|      Business Entity T...|                         0|                1|              0|              0|              0|              0|              0|              0|              0|              0|               0|                0.0|             0.0|                           0.0|                   2.0|                   0.0|                    0.0|                  0.0|                 0.0|            0.0|(17,[3,4,5,9,10,1...|\n",
       "     0|        Cash loans|          M|           N|              Y|           0|        121500.0|  513000.0|    21865.5|             Working|Secondary / secon...|Single / not married|House / apartment|    -19932|        -3038|          1|         1|             0|              1|               0|         1|              2|              2|                   0|                          0|                  Religion|                         0|                0|              0|              0|              0|              0|              1|              0|              0|              0|               0|                0.0|             0.0|                          53.0|                   1.0|                   0.0|                    0.0|                  0.0|                 0.0|            1.0|(17,[3,4,5,9,10,1...|\n",
       "     0|        Cash loans|          M|           N|              Y|           0|         99000.0|  490495.5|    27517.5|       State servant|Secondary / secon...|             Married|House / apartment|    -16941|        -1588|          1|         1|             1|              1|               1|         2|              2|              2|                   0|                          0|                     Other|                         0|                1|              0|              0|              0|              0|              0|              0|              0|              0|               0|                0.0|             0.0|                           3.0|                   0.0|                   0.0|                    0.0|                  0.0|                 3.0|            1.0|(17,[3,4,5,9,10,1...|\n",
       "     0|        Cash loans|          F|           Y|              Y|           1|        171000.0| 1560726.0|    41301.0|Commercial associate|    Higher education|             Married|House / apartment|    -13778|        -3130|          1|         1|             0|              1|               1|         3|              2|              2|                   0|                          0|      Business Entity T...|                         0|                0|              0|              0|              0|              0|              1|              0|              0|              0|               0|                0.0|             1.0|                           0.0|                   0.0|                   0.0|                    1.0|                  0.0|                 1.0|            0.0|(17,[1,3,4,5,7,9,...|\n",
       "     0|        Cash loans|          M|           Y|              Y|           0|        360000.0| 1530000.0|    42075.0|       State servant|    Higher education|             Married|House / apartment|    -18850|         -449|          1|         1|             1|              1|               0|         2|              3|              3|                   0|                          0|                     Other|                         0|                1|              0|              0|              0|              0|              0|              0|              0|              0|               0|                0.0|             1.0|                           3.0|                   0.0|                   0.0|                    1.0|                  0.0|                 3.0|            1.0|(17,[1,3,4,5,7,9,...|\n",
       "     0|        Cash loans|          F|           N|              Y|           0|        112500.0| 1019610.0|    33826.5|           Pensioner|Secondary / secon...|             Married|House / apartment|    -20099|       365243|          1|         0|             0|              1|               0|         2|              2|              2|                   0|                          0|                       XNA|                         0|                1|              0|              0|              0|              0|              0|              0|              0|              0|               0|                0.0|             0.0|                           1.0|                   0.0|                   0.0|                    0.0|                  0.0|                 2.0|            0.0|(17,[3,4,5,9,10,1...|\n",
       "     0|   Revolving loans|          M|           N|              Y|           0|        135000.0|  405000.0|    20250.0|             Working|Secondary / secon...|Single / not married|House / apartment|    -14469|        -2019|          1|         1|             0|              1|               0|         1|              2|              2|                   0|                          0|               Electricity|                         0|                0|              0|              0|              0|              0|              0|              0|              0|              0|               0|                0.0|             0.0|                          34.0|                   1.0|                   1.0|                    0.0|                  0.0|                 0.0|            1.0|(17,[0,3,4,5,6,9,...|\n",
       "     0|        Cash loans|          F|           N|              Y|           1|        112500.0|  652500.0|    21177.0|             Working|    Higher education|             Married|House / apartment|    -10197|         -679|          1|         1|             0|              1|               0|         3|              2|              2|                   0|                          0|                  Medicine|                         0|                1|              0|              0|              0|              0|              0|              0|              0|              0|               0|                0.0|             0.0|                           4.0|                   0.0|                   0.0|                    1.0|                  0.0|                 0.0|            0.0|(17,[3,4,5,7,9,10...|\n",
       "     0|        Cash loans|          F|           N|              Y|           0|       38419.155|  148365.0|    10678.5|           Pensioner|Secondary / secon...|             Married|House / apartment|    -20417|       365243|          1|         0|             0|              1|               1|         2|              2|              2|                   0|                          0|                       XNA|                         0|                0|              0|              0|              1|              0|              0|              0|              0|              0|               0|                0.0|             0.0|                           1.0|                   0.0|                   0.0|                    0.0|                  0.0|                 2.0|            0.0|(17,[3,4,5,9,10,1...|\n",
       "     0|        Cash loans|          F|           N|              Y|           0|         67500.0|   80865.0|     5881.5|             Working|Secondary / secon...|             Married|House / apartment|    -13439|        -2717|          1|         1|             1|              1|               1|         2|              2|              2|                   0|                          0|      Business Entity T...|                         0|                1|              0|              0|              0|              0|              0|              0|              0|              0|               0|                0.0|             0.0|                           5.0|                   0.0|                   0.0|                    0.0|                  0.0|                 0.0|            0.0|(17,[3,4,5,9,10,1...|\n",
       "     0|        Cash loans|          M|           Y|              N|           1|        225000.0|  918468.0|    28966.5|             Working|Secondary / secon...|             Married|House / apartment|    -14086|        -3028|          1|         1|             0|              1|               0|         3|              2|              2|                   0|                          0|             Self-employed|                         0|                1|              0|              0|              0|              0|              0|              0|              0|              0|               0|                1.0|             1.0|                           2.0|                   0.0|                   0.0|                    0.0|                  0.0|                 0.0|            1.0|(17,[1,2,3,4,5,9,...|\n",
       "     0|        Cash loans|          F|           N|              Y|           0|        189000.0|  773680.5|    32778.0|             Working|Secondary / secon...|             Married|House / apartment|    -14583|         -203|          1|         1|             0|              1|               0|         2|              2|              1|                   0|                          0|         Transport: type 2|                         0|                1|              0|              0|              0|              0|              0|              0|              0|              0|               0|                0.0|             0.0|                          23.0|                   0.0|                   0.0|                    0.0|                  0.0|                 0.0|            0.0|(17,[3,4,5,9,10,1...|\n",
       "     0|        Cash loans|          M|           Y|              Y|           0|        157500.0|  299772.0|    20160.0|             Working|Secondary / secon...|Single / not married| Rented apartment|     -8728|        -1157|          1|         1|             0|              1|               0|         1|              3|              3|                   0|                          0|      Business Entity T...|                         0|                0|              0|              0|              0|              0|              1|              0|              0|              0|               0|                0.0|             1.0|                           5.0|                   1.0|                   0.0|                    0.0|                  3.0|                 0.0|            1.0|(17,[1,3,4,5,8,9,...|\n",
       "     0|        Cash loans|          M|           N|              N|           0|        108000.0|  509602.5|    26149.5|             Working|Secondary / secon...|             Married|House / apartment|    -12931|        -1317|          1|         1|             0|              1|               0|         2|              2|              2|                   0|                          0|                Government|                         0|                1|              0|              0|              0|              0|              0|              0|              0|              0|               0|                1.0|             0.0|                           6.0|                   0.0|                   0.0|                    0.0|                  0.0|                 0.0|            1.0|(17,[2,3,4,5,9,10...|\n",
       "     0|   Revolving loans|          F|           N|              Y|           1|         81000.0|  270000.0|    13500.0|             Working|Secondary / secon...|             Married|House / apartment|     -9776|         -191|          1|         1|             0|              1|               0|         3|              2|              2|                   0|                          0|              Construction|                         0|                0|              0|              0|              0|              0|              0|              0|              0|              0|               0|                0.0|             0.0|                          10.0|                   0.0|                   1.0|                    0.0|                  0.0|                 0.0|            0.0|(17,[0,3,4,5,6,9,...|\n",
       "     0|   Revolving loans|          F|           N|              Y|           0|        112500.0|  157500.0|     7875.0|             Working|Secondary / secon...|               Widow|House / apartment|    -17718|        -7804|          1|         1|             0|              1|               1|         1|              1|              1|                   0|                          0|                   Housing|                         0|                1|              0|              0|              0|              0|              0|              0|              0|              0|               0|                0.0|             0.0|                          17.0|                   4.0|                   1.0|                    0.0|                  0.0|                 0.0|            0.0|(17,[0,3,4,5,6,9,...|\n",
       "     0|        Cash loans|          F|           N|              Y|           1|         90000.0|  544491.0|    17563.5|       State servant|    Higher education|Single / not married|House / apartment|    -11348|        -2038|          1|         1|             1|              1|               1|         2|              2|              2|                   0|                          0|              Kindergarten|                         0|                1|              0|              0|              0|              0|              0|              0|              0|              0|               0|                0.0|             0.0|                           9.0|                   1.0|                   0.0|                    1.0|                  0.0|                 3.0|            0.0|(17,[3,4,5,7,9,10...|\n",
       "+------+------------------+-----------+------------+---------------+------------+----------------+----------+-----------+--------------------+--------------------+--------------------+-----------------+----------+-------------+-----------+----------+--------------+---------------+----------------+----------+---------------+---------------+--------------------+---------------------------+--------------------------+--------------------------+-----------------+---------------+---------------+---------------+---------------+---------------+---------------+---------------+---------------+----------------+-------------------+----------------+------------------------------+----------------------+----------------------+-----------------------+---------------------+--------------------+---------------+--------------------+\n",
       "only showing top 20 rows\n",
       "\n",
       "</div>"
      ]
     },
     "metadata": {
      "application/vnd.databricks.v1+output": {
       "addedWidgets": {},
       "arguments": {},
       "data": "<div class=\"ansiout\">+------+------------------+-----------+------------+---------------+------------+----------------+----------+-----------+--------------------+--------------------+--------------------+-----------------+----------+-------------+-----------+----------+--------------+---------------+----------------+----------+---------------+---------------+--------------------+---------------------------+--------------------------+--------------------------+-----------------+---------------+---------------+---------------+---------------+---------------+---------------+---------------+---------------+----------------+-------------------+----------------+------------------------------+----------------------+----------------------+-----------------------+---------------------+--------------------+---------------+--------------------+\n|TARGET|NAME_CONTRACT_TYPE|CODE_GENDER|FLAG_OWN_CAR|FLAG_OWN_REALTY|CNT_CHILDREN|AMT_INCOME_TOTAL|AMT_CREDIT|AMT_ANNUITY|    NAME_INCOME_TYPE| NAME_EDUCATION_TYPE|  NAME_FAMILY_STATUS|NAME_HOUSING_TYPE|DAYS_BIRTH|DAYS_EMPLOYED|OWN_CAR_AGE|FLAG_MOBIL|FLAG_EMP_PHONE|FLAG_WORK_PHONE|FLAG_CONT_MOBILE|FLAG_PHONE|OCCUPATION_TYPE|CNT_FAM_MEMBERS|REGION_RATING_CLIENT|REGION_RATING_CLIENT_W_CITY|REG_REGION_NOT_LIVE_REGION|REG_REGION_NOT_WORK_REGION|ORGANIZATION_TYPE|FLAG_DOCUMENT_2|FLAG_DOCUMENT_3|FLAG_DOCUMENT_4|FLAG_DOCUMENT_5|FLAG_DOCUMENT_6|FLAG_DOCUMENT_7|FLAG_DOCUMENT_8|FLAG_DOCUMENT_9|FLAG_DOCUMENT_10|FLAG_OWN_REALTY_NEW|FLAG_OWN_CAR_NEW|REG_REGION_NOT_LIVE_REGION_NEW|NAME_FAMILY_STATUS_NEW|NAME_CONTRACT_TYPE_NEW|NAME_EDUCATION_TYPE_NEW|NAME_HOUSING_TYPE_NEW|NAME_INCOME_TYPE_NEW|CODE_GENDER_NEW|Independent Features|\n+------+------------------+-----------+------------+---------------+------------+----------------+----------+-----------+--------------------+--------------------+--------------------+-----------------+----------+-------------+-----------+----------+--------------+---------------+----------------+----------+---------------+---------------+--------------------+---------------------------+--------------------------+--------------------------+-----------------+---------------+---------------+---------------+---------------+---------------+---------------+---------------+---------------+----------------+-------------------+----------------+------------------------------+----------------------+----------------------+-----------------------+---------------------+--------------------+---------------+--------------------+\n|     1|        Cash loans|          M|           N|              Y|           0|        202500.0|  406597.5|    24700.5|             Working|Secondary / secon...|Single / not married|House / apartment|     -9461|         -637|          1|         1|             0|              1|               1|         1|              2|              2|                   0|                          0|      Business Entity T...|                         0|                1|              0|              0|              0|              0|              0|              0|              0|              0|               0|                0.0|             0.0|                           0.0|                   1.0|                   0.0|                    0.0|                  0.0|                 0.0|            1.0|(17,[3,4,5,9,10,1...|\n|     0|        Cash loans|          F|           N|              N|           0|        270000.0| 1293502.5|    35698.5|       State servant|    Higher education|             Married|House / apartment|    -16765|        -1188|          1|         1|             0|              1|               1|         2|              1|              1|                   0|                          0|                    School|                         0|                1|              0|              0|              0|              0|              0|              0|              0|              0|               0|                1.0|             0.0|                           7.0|                   0.0|                   0.0|                    1.0|                  0.0|                 3.0|            0.0|(17,[2,3,4,5,7,9,...|\n|     0|   Revolving loans|          M|           Y|              Y|           0|         67500.0|  135000.0|     6750.0|             Working|Secondary / secon...|Single / not married|House / apartment|    -19046|         -225|          1|         1|             1|              1|               1|         1|              2|              2|                   0|                          0|                Government|                         0|                0|              0|              0|              0|              0|              0|              0|              0|              0|               0|                0.0|             1.0|                           6.0|                   1.0|                   1.0|                    0.0|                  0.0|                 0.0|            1.0|[1.0,1.0,0.0,6750...|\n|     0|        Cash loans|          F|           N|              Y|           0|        135000.0|  312682.5|    29686.5|             Working|Secondary / secon...|      Civil marriage|House / apartment|    -19005|        -3039|          1|         1|             0|              1|               0|         2|              2|              2|                   0|                          0|      Business Entity T...|                         0|                1|              0|              0|              0|              0|              0|              0|              0|              0|               0|                0.0|             0.0|                           0.0|                   2.0|                   0.0|                    0.0|                  0.0|                 0.0|            0.0|(17,[3,4,5,9,10,1...|\n|     0|        Cash loans|          M|           N|              Y|           0|        121500.0|  513000.0|    21865.5|             Working|Secondary / secon...|Single / not married|House / apartment|    -19932|        -3038|          1|         1|             0|              1|               0|         1|              2|              2|                   0|                          0|                  Religion|                         0|                0|              0|              0|              0|              0|              1|              0|              0|              0|               0|                0.0|             0.0|                          53.0|                   1.0|                   0.0|                    0.0|                  0.0|                 0.0|            1.0|(17,[3,4,5,9,10,1...|\n|     0|        Cash loans|          M|           N|              Y|           0|         99000.0|  490495.5|    27517.5|       State servant|Secondary / secon...|             Married|House / apartment|    -16941|        -1588|          1|         1|             1|              1|               1|         2|              2|              2|                   0|                          0|                     Other|                         0|                1|              0|              0|              0|              0|              0|              0|              0|              0|               0|                0.0|             0.0|                           3.0|                   0.0|                   0.0|                    0.0|                  0.0|                 3.0|            1.0|(17,[3,4,5,9,10,1...|\n|     0|        Cash loans|          F|           Y|              Y|           1|        171000.0| 1560726.0|    41301.0|Commercial associate|    Higher education|             Married|House / apartment|    -13778|        -3130|          1|         1|             0|              1|               1|         3|              2|              2|                   0|                          0|      Business Entity T...|                         0|                0|              0|              0|              0|              0|              1|              0|              0|              0|               0|                0.0|             1.0|                           0.0|                   0.0|                   0.0|                    1.0|                  0.0|                 1.0|            0.0|(17,[1,3,4,5,7,9,...|\n|     0|        Cash loans|          M|           Y|              Y|           0|        360000.0| 1530000.0|    42075.0|       State servant|    Higher education|             Married|House / apartment|    -18850|         -449|          1|         1|             1|              1|               0|         2|              3|              3|                   0|                          0|                     Other|                         0|                1|              0|              0|              0|              0|              0|              0|              0|              0|               0|                0.0|             1.0|                           3.0|                   0.0|                   0.0|                    1.0|                  0.0|                 3.0|            1.0|(17,[1,3,4,5,7,9,...|\n|     0|        Cash loans|          F|           N|              Y|           0|        112500.0| 1019610.0|    33826.5|           Pensioner|Secondary / secon...|             Married|House / apartment|    -20099|       365243|          1|         0|             0|              1|               0|         2|              2|              2|                   0|                          0|                       XNA|                         0|                1|              0|              0|              0|              0|              0|              0|              0|              0|               0|                0.0|             0.0|                           1.0|                   0.0|                   0.0|                    0.0|                  0.0|                 2.0|            0.0|(17,[3,4,5,9,10,1...|\n|     0|   Revolving loans|          M|           N|              Y|           0|        135000.0|  405000.0|    20250.0|             Working|Secondary / secon...|Single / not married|House / apartment|    -14469|        -2019|          1|         1|             0|              1|               0|         1|              2|              2|                   0|                          0|               Electricity|                         0|                0|              0|              0|              0|              0|              0|              0|              0|              0|               0|                0.0|             0.0|                          34.0|                   1.0|                   1.0|                    0.0|                  0.0|                 0.0|            1.0|(17,[0,3,4,5,6,9,...|\n|     0|        Cash loans|          F|           N|              Y|           1|        112500.0|  652500.0|    21177.0|             Working|    Higher education|             Married|House / apartment|    -10197|         -679|          1|         1|             0|              1|               0|         3|              2|              2|                   0|                          0|                  Medicine|                         0|                1|              0|              0|              0|              0|              0|              0|              0|              0|               0|                0.0|             0.0|                           4.0|                   0.0|                   0.0|                    1.0|                  0.0|                 0.0|            0.0|(17,[3,4,5,7,9,10...|\n|     0|        Cash loans|          F|           N|              Y|           0|       38419.155|  148365.0|    10678.5|           Pensioner|Secondary / secon...|             Married|House / apartment|    -20417|       365243|          1|         0|             0|              1|               1|         2|              2|              2|                   0|                          0|                       XNA|                         0|                0|              0|              0|              1|              0|              0|              0|              0|              0|               0|                0.0|             0.0|                           1.0|                   0.0|                   0.0|                    0.0|                  0.0|                 2.0|            0.0|(17,[3,4,5,9,10,1...|\n|     0|        Cash loans|          F|           N|              Y|           0|         67500.0|   80865.0|     5881.5|             Working|Secondary / secon...|             Married|House / apartment|    -13439|        -2717|          1|         1|             1|              1|               1|         2|              2|              2|                   0|                          0|      Business Entity T...|                         0|                1|              0|              0|              0|              0|              0|              0|              0|              0|               0|                0.0|             0.0|                           5.0|                   0.0|                   0.0|                    0.0|                  0.0|                 0.0|            0.0|(17,[3,4,5,9,10,1...|\n|     0|        Cash loans|          M|           Y|              N|           1|        225000.0|  918468.0|    28966.5|             Working|Secondary / secon...|             Married|House / apartment|    -14086|        -3028|          1|         1|             0|              1|               0|         3|              2|              2|                   0|                          0|             Self-employed|                         0|                1|              0|              0|              0|              0|              0|              0|              0|              0|               0|                1.0|             1.0|                           2.0|                   0.0|                   0.0|                    0.0|                  0.0|                 0.0|            1.0|(17,[1,2,3,4,5,9,...|\n|     0|        Cash loans|          F|           N|              Y|           0|        189000.0|  773680.5|    32778.0|             Working|Secondary / secon...|             Married|House / apartment|    -14583|         -203|          1|         1|             0|              1|               0|         2|              2|              1|                   0|                          0|         Transport: type 2|                         0|                1|              0|              0|              0|              0|              0|              0|              0|              0|               0|                0.0|             0.0|                          23.0|                   0.0|                   0.0|                    0.0|                  0.0|                 0.0|            0.0|(17,[3,4,5,9,10,1...|\n|     0|        Cash loans|          M|           Y|              Y|           0|        157500.0|  299772.0|    20160.0|             Working|Secondary / secon...|Single / not married| Rented apartment|     -8728|        -1157|          1|         1|             0|              1|               0|         1|              3|              3|                   0|                          0|      Business Entity T...|                         0|                0|              0|              0|              0|              0|              1|              0|              0|              0|               0|                0.0|             1.0|                           5.0|                   1.0|                   0.0|                    0.0|                  3.0|                 0.0|            1.0|(17,[1,3,4,5,8,9,...|\n|     0|        Cash loans|          M|           N|              N|           0|        108000.0|  509602.5|    26149.5|             Working|Secondary / secon...|             Married|House / apartment|    -12931|        -1317|          1|         1|             0|              1|               0|         2|              2|              2|                   0|                          0|                Government|                         0|                1|              0|              0|              0|              0|              0|              0|              0|              0|               0|                1.0|             0.0|                           6.0|                   0.0|                   0.0|                    0.0|                  0.0|                 0.0|            1.0|(17,[2,3,4,5,9,10...|\n|     0|   Revolving loans|          F|           N|              Y|           1|         81000.0|  270000.0|    13500.0|             Working|Secondary / secon...|             Married|House / apartment|     -9776|         -191|          1|         1|             0|              1|               0|         3|              2|              2|                   0|                          0|              Construction|                         0|                0|              0|              0|              0|              0|              0|              0|              0|              0|               0|                0.0|             0.0|                          10.0|                   0.0|                   1.0|                    0.0|                  0.0|                 0.0|            0.0|(17,[0,3,4,5,6,9,...|\n|     0|   Revolving loans|          F|           N|              Y|           0|        112500.0|  157500.0|     7875.0|             Working|Secondary / secon...|               Widow|House / apartment|    -17718|        -7804|          1|         1|             0|              1|               1|         1|              1|              1|                   0|                          0|                   Housing|                         0|                1|              0|              0|              0|              0|              0|              0|              0|              0|               0|                0.0|             0.0|                          17.0|                   4.0|                   1.0|                    0.0|                  0.0|                 0.0|            0.0|(17,[0,3,4,5,6,9,...|\n|     0|        Cash loans|          F|           N|              Y|           1|         90000.0|  544491.0|    17563.5|       State servant|    Higher education|Single / not married|House / apartment|    -11348|        -2038|          1|         1|             1|              1|               1|         2|              2|              2|                   0|                          0|              Kindergarten|                         0|                1|              0|              0|              0|              0|              0|              0|              0|              0|               0|                0.0|             0.0|                           9.0|                   1.0|                   0.0|                    1.0|                  0.0|                 3.0|            0.0|(17,[3,4,5,7,9,10...|\n+------+------------------+-----------+------------+---------------+------------+----------------+----------+-----------+--------------------+--------------------+--------------------+-----------------+----------+-------------+-----------+----------+--------------+---------------+----------------+----------+---------------+---------------+--------------------+---------------------------+--------------------------+--------------------------+-----------------+---------------+---------------+---------------+---------------+---------------+---------------+---------------+---------------+----------------+-------------------+----------------+------------------------------+----------------------+----------------------+-----------------------+---------------------+--------------------+---------------+--------------------+\nonly showing top 20 rows\n\n</div>",
       "datasetInfos": [],
       "metadata": {},
       "removedWidgets": [],
       "type": "html"
      }
     },
     "output_type": "display_data"
    }
   ],
   "source": [
    "output.show()"
   ]
  },
  {
   "cell_type": "code",
   "execution_count": 0,
   "metadata": {
    "application/vnd.databricks.v1+cell": {
     "inputWidgets": {},
     "nuid": "2ab518a0-1445-4d5a-adc8-1cb0a278fce4",
     "showTitle": false,
     "title": ""
    }
   },
   "outputs": [
    {
     "data": {
      "text/html": [
       "<style scoped>\n",
       "  .ansiout {\n",
       "    display: block;\n",
       "    unicode-bidi: embed;\n",
       "    white-space: pre-wrap;\n",
       "    word-wrap: break-word;\n",
       "    word-break: break-all;\n",
       "    font-family: \"Source Code Pro\", \"Menlo\", monospace;;\n",
       "    font-size: 13px;\n",
       "    color: #555;\n",
       "    margin-left: 4px;\n",
       "    line-height: 19px;\n",
       "  }\n",
       "</style>\n",
       "<div class=\"ansiout\"></div>"
      ]
     },
     "metadata": {
      "application/vnd.databricks.v1+output": {
       "addedWidgets": {},
       "arguments": {},
       "data": "<div class=\"ansiout\"></div>",
       "datasetInfos": [
        {
         "name": "final_data",
         "schema": {
          "fields": [
           {
            "metadata": {
             "ml_attr": {
              "attrs": {
               "nominal": [
                {
                 "idx": 0,
                 "name": "NAME_CONTRACT_TYPE_NEW",
                 "vals": [
                  "Cash loans",
                  "Revolving loans"
                 ]
                },
                {
                 "idx": 1,
                 "name": "FLAG_OWN_CAR_NEW",
                 "vals": [
                  "N",
                  "Y"
                 ]
                },
                {
                 "idx": 2,
                 "name": "FLAG_OWN_REALTY_NEW",
                 "vals": [
                  "Y",
                  "N"
                 ]
                },
                {
                 "idx": 6,
                 "name": "NAME_CONTRACT_TYPE_NEW",
                 "vals": [
                  "Cash loans",
                  "Revolving loans"
                 ]
                },
                {
                 "idx": 7,
                 "name": "NAME_EDUCATION_TYPE_NEW",
                 "vals": [
                  "Secondary / secondary special",
                  "Higher education",
                  "Incomplete higher",
                  "Lower secondary",
                  "Academic degree"
                 ]
                },
                {
                 "idx": 8,
                 "name": "NAME_HOUSING_TYPE_NEW",
                 "vals": [
                  "House / apartment",
                  "With parents",
                  "Municipal apartment",
                  "Rented apartment",
                  "Office apartment",
                  "Co-op apartment"
                 ]
                },
                {
                 "idx": 15,
                 "name": "REG_REGION_NOT_LIVE_REGION_NEW",
                 "vals": [
                  "Business Entity Type 3",
                  "XNA",
                  "Self-employed",
                  "Other",
                  "Medicine",
                  "Business Entity Type 2",
                  "Government",
                  "School",
                  "Trade: type 7",
                  "Kindergarten",
                  "Construction",
                  "Business Entity Type 1",
                  "Transport: type 4",
                  "Trade: type 3",
                  "Industry: type 9",
                  "Industry: type 3",
                  "Security",
                  "Housing",
                  "Industry: type 11",
                  "Military",
                  "Bank",
                  "Agriculture",
                  "Police",
                  "Transport: type 2",
                  "Postal",
                  "Security Ministries",
                  "Trade: type 2",
                  "Restaurant",
                  "Services",
                  "University",
                  "Industry: type 7",
                  "Transport: type 3",
                  "Industry: type 1",
                  "Hotel",
                  "Electricity",
                  "Industry: type 4",
                  "Trade: type 6",
                  "Industry: type 5",
                  "Insurance",
                  "Telecom",
                  "Emergency",
                  "Industry: type 2",
                  "Advertising",
                  "Realtor",
                  "Culture",
                  "Industry: type 12",
                  "Trade: type 1",
                  "Mobile",
                  "Legal Services",
                  "Cleaning",
                  "Transport: type 1",
                  "Industry: type 6",
                  "Industry: type 10",
                  "Religion",
                  "Industry: type 13",
                  "Trade: type 4",
                  "Trade: type 5",
                  "Industry: type 8"
                 ]
                }
               ],
               "numeric": [
                {
                 "idx": 3,
                 "name": "AMT_INCOME_TOTAL"
                },
                {
                 "idx": 4,
                 "name": "AMT_CREDIT"
                },
                {
                 "idx": 5,
                 "name": "AMT_ANNUITY"
                },
                {
                 "idx": 9,
                 "name": "DAYS_EMPLOYED"
                },
                {
                 "idx": 10,
                 "name": "FLAG_WORK_PHONE"
                },
                {
                 "idx": 11,
                 "name": "FLAG_CONT_MOBILE"
                },
                {
                 "idx": 12,
                 "name": "OCCUPATION_TYPE"
                },
                {
                 "idx": 13,
                 "name": "REGION_RATING_CLIENT"
                },
                {
                 "idx": 14,
                 "name": "REGION_RATING_CLIENT_W_CITY"
                },
                {
                 "idx": 16,
                 "name": "REG_REGION_NOT_WORK_REGION"
                }
               ]
              },
              "num_attrs": 17
             }
            },
            "name": "Independent Features",
            "nullable": true,
            "type": {
             "class": "org.apache.spark.ml.linalg.VectorUDT",
             "pyClass": "pyspark.ml.linalg.VectorUDT",
             "sqlType": {
              "fields": [
               {
                "metadata": {},
                "name": "type",
                "nullable": false,
                "type": "byte"
               },
               {
                "metadata": {},
                "name": "size",
                "nullable": true,
                "type": "integer"
               },
               {
                "metadata": {},
                "name": "indices",
                "nullable": true,
                "type": {
                 "containsNull": false,
                 "elementType": "integer",
                 "type": "array"
                }
               },
               {
                "metadata": {},
                "name": "values",
                "nullable": true,
                "type": {
                 "containsNull": false,
                 "elementType": "double",
                 "type": "array"
                }
               }
              ],
              "type": "struct"
             },
             "type": "udt"
            }
           },
           {
            "metadata": {},
            "name": "TARGET",
            "nullable": true,
            "type": "integer"
           }
          ],
          "type": "struct"
         },
         "tableIdentifier": null,
         "typeStr": "pyspark.sql.dataframe.DataFrame"
        }
       ],
       "metadata": {},
       "removedWidgets": [],
       "type": "html"
      }
     },
     "output_type": "display_data"
    }
   ],
   "source": [
    "final_data=output.select(\"Independent Features\",\"TARGET\")"
   ]
  },
  {
   "cell_type": "code",
   "execution_count": 0,
   "metadata": {
    "application/vnd.databricks.v1+cell": {
     "inputWidgets": {},
     "nuid": "a381a2ca-328e-417b-8c93-fa86930135f0",
     "showTitle": false,
     "title": ""
    }
   },
   "outputs": [
    {
     "data": {
      "text/html": [
       "<style scoped>\n",
       "  .ansiout {\n",
       "    display: block;\n",
       "    unicode-bidi: embed;\n",
       "    white-space: pre-wrap;\n",
       "    word-wrap: break-word;\n",
       "    word-break: break-all;\n",
       "    font-family: \"Source Code Pro\", \"Menlo\", monospace;;\n",
       "    font-size: 13px;\n",
       "    color: #555;\n",
       "    margin-left: 4px;\n",
       "    line-height: 19px;\n",
       "  }\n",
       "</style>\n",
       "<div class=\"ansiout\">+--------------------+------+\n",
       "Independent Features|TARGET|\n",
       "+--------------------+------+\n",
       "(17,[3,4,5,9,10,1...|     1|\n",
       "(17,[2,3,4,5,7,9,...|     0|\n",
       "[1.0,1.0,0.0,6750...|     0|\n",
       "(17,[3,4,5,9,10,1...|     0|\n",
       "(17,[3,4,5,9,10,1...|     0|\n",
       "(17,[3,4,5,9,10,1...|     0|\n",
       "(17,[1,3,4,5,7,9,...|     0|\n",
       "(17,[1,3,4,5,7,9,...|     0|\n",
       "(17,[3,4,5,9,10,1...|     0|\n",
       "(17,[0,3,4,5,6,9,...|     0|\n",
       "(17,[3,4,5,7,9,10...|     0|\n",
       "(17,[3,4,5,9,10,1...|     0|\n",
       "(17,[3,4,5,9,10,1...|     0|\n",
       "(17,[1,2,3,4,5,9,...|     0|\n",
       "(17,[3,4,5,9,10,1...|     0|\n",
       "(17,[1,3,4,5,8,9,...|     0|\n",
       "(17,[2,3,4,5,9,10...|     0|\n",
       "(17,[0,3,4,5,6,9,...|     0|\n",
       "(17,[0,3,4,5,6,9,...|     0|\n",
       "(17,[3,4,5,7,9,10...|     0|\n",
       "+--------------------+------+\n",
       "only showing top 20 rows\n",
       "\n",
       "</div>"
      ]
     },
     "metadata": {
      "application/vnd.databricks.v1+output": {
       "addedWidgets": {},
       "arguments": {},
       "data": "<div class=\"ansiout\">+--------------------+------+\n|Independent Features|TARGET|\n+--------------------+------+\n|(17,[3,4,5,9,10,1...|     1|\n|(17,[2,3,4,5,7,9,...|     0|\n|[1.0,1.0,0.0,6750...|     0|\n|(17,[3,4,5,9,10,1...|     0|\n|(17,[3,4,5,9,10,1...|     0|\n|(17,[3,4,5,9,10,1...|     0|\n|(17,[1,3,4,5,7,9,...|     0|\n|(17,[1,3,4,5,7,9,...|     0|\n|(17,[3,4,5,9,10,1...|     0|\n|(17,[0,3,4,5,6,9,...|     0|\n|(17,[3,4,5,7,9,10...|     0|\n|(17,[3,4,5,9,10,1...|     0|\n|(17,[3,4,5,9,10,1...|     0|\n|(17,[1,2,3,4,5,9,...|     0|\n|(17,[3,4,5,9,10,1...|     0|\n|(17,[1,3,4,5,8,9,...|     0|\n|(17,[2,3,4,5,9,10...|     0|\n|(17,[0,3,4,5,6,9,...|     0|\n|(17,[0,3,4,5,6,9,...|     0|\n|(17,[3,4,5,7,9,10...|     0|\n+--------------------+------+\nonly showing top 20 rows\n\n</div>",
       "datasetInfos": [],
       "metadata": {},
       "removedWidgets": [],
       "type": "html"
      }
     },
     "output_type": "display_data"
    }
   ],
   "source": [
    "final_data.show()"
   ]
  },
  {
   "cell_type": "code",
   "execution_count": 0,
   "metadata": {
    "application/vnd.databricks.v1+cell": {
     "inputWidgets": {},
     "nuid": "c00a6d10-55d5-4d06-acc9-278dc97ed82f",
     "showTitle": false,
     "title": ""
    }
   },
   "outputs": [
    {
     "data": {
      "text/html": [
       "<style scoped>\n",
       "  .ansiout {\n",
       "    display: block;\n",
       "    unicode-bidi: embed;\n",
       "    white-space: pre-wrap;\n",
       "    word-wrap: break-word;\n",
       "    word-break: break-all;\n",
       "    font-family: \"Source Code Pro\", \"Menlo\", monospace;;\n",
       "    font-size: 13px;\n",
       "    color: #555;\n",
       "    margin-left: 4px;\n",
       "    line-height: 19px;\n",
       "  }\n",
       "</style>\n",
       "<div class=\"ansiout\"></div>"
      ]
     },
     "metadata": {
      "application/vnd.databricks.v1+output": {
       "addedWidgets": {},
       "arguments": {},
       "data": "<div class=\"ansiout\"></div>",
       "datasetInfos": [],
       "metadata": {},
       "removedWidgets": [],
       "type": "html"
      }
     },
     "output_type": "display_data"
    }
   ],
   "source": [
    "from pyspark.ml.classification import LogisticRegression\n",
    "from pyspark.ml import pipeline\n"
   ]
  },
  {
   "cell_type": "code",
   "execution_count": 0,
   "metadata": {
    "application/vnd.databricks.v1+cell": {
     "inputWidgets": {},
     "nuid": "2b613929-faf4-416a-b1ba-7f8cb21da77a",
     "showTitle": false,
     "title": ""
    }
   },
   "outputs": [
    {
     "data": {
      "text/html": [
       "<style scoped>\n",
       "  .ansiout {\n",
       "    display: block;\n",
       "    unicode-bidi: embed;\n",
       "    white-space: pre-wrap;\n",
       "    word-wrap: break-word;\n",
       "    word-break: break-all;\n",
       "    font-family: \"Source Code Pro\", \"Menlo\", monospace;;\n",
       "    font-size: 13px;\n",
       "    color: #555;\n",
       "    margin-left: 4px;\n",
       "    line-height: 19px;\n",
       "  }\n",
       "</style>\n",
       "<div class=\"ansiout\"></div>"
      ]
     },
     "metadata": {
      "application/vnd.databricks.v1+output": {
       "addedWidgets": {},
       "arguments": {},
       "data": "<div class=\"ansiout\"></div>",
       "datasetInfos": [],
       "metadata": {},
       "removedWidgets": [],
       "type": "html"
      }
     },
     "output_type": "display_data"
    }
   ],
   "source": [
    "#from pyspark.ml.regression import LinearRegression\n",
    "#train_data,test_data=final_data.randomSplit([0.75,0.25])\n",
    "#regressor=LinearRegression(featuresCol='Independent Features',labelCol='TARGET')\n",
    "#regressor=regressor.fit(train_data)\n"
   ]
  },
  {
   "cell_type": "code",
   "execution_count": 0,
   "metadata": {
    "application/vnd.databricks.v1+cell": {
     "inputWidgets": {},
     "nuid": "829f9269-6802-4a81-a493-4a6fd9b23197",
     "showTitle": false,
     "title": ""
    }
   },
   "outputs": [
    {
     "data": {
      "text/html": [
       "<style scoped>\n",
       "  .ansiout {\n",
       "    display: block;\n",
       "    unicode-bidi: embed;\n",
       "    white-space: pre-wrap;\n",
       "    word-wrap: break-word;\n",
       "    word-break: break-all;\n",
       "    font-family: \"Source Code Pro\", \"Menlo\", monospace;;\n",
       "    font-size: 13px;\n",
       "    color: #555;\n",
       "    margin-left: 4px;\n",
       "    line-height: 19px;\n",
       "  }\n",
       "</style>\n",
       "<div class=\"ansiout\"></div>"
      ]
     },
     "metadata": {
      "application/vnd.databricks.v1+output": {
       "addedWidgets": {},
       "arguments": {},
       "data": "<div class=\"ansiout\"></div>",
       "datasetInfos": [],
       "metadata": {},
       "removedWidgets": [],
       "type": "html"
      }
     },
     "output_type": "display_data"
    }
   ],
   "source": [
    "#regressor.coefficients"
   ]
  },
  {
   "cell_type": "code",
   "execution_count": 0,
   "metadata": {
    "application/vnd.databricks.v1+cell": {
     "inputWidgets": {},
     "nuid": "00a3b3ab-75ef-417c-b328-d8a23c9dfb46",
     "showTitle": false,
     "title": ""
    }
   },
   "outputs": [
    {
     "data": {
      "text/html": [
       "<style scoped>\n",
       "  .ansiout {\n",
       "    display: block;\n",
       "    unicode-bidi: embed;\n",
       "    white-space: pre-wrap;\n",
       "    word-wrap: break-word;\n",
       "    word-break: break-all;\n",
       "    font-family: \"Source Code Pro\", \"Menlo\", monospace;;\n",
       "    font-size: 13px;\n",
       "    color: #555;\n",
       "    margin-left: 4px;\n",
       "    line-height: 19px;\n",
       "  }\n",
       "</style>\n",
       "<div class=\"ansiout\"></div>"
      ]
     },
     "metadata": {
      "application/vnd.databricks.v1+output": {
       "addedWidgets": {},
       "arguments": {},
       "data": "<div class=\"ansiout\"></div>",
       "datasetInfos": [],
       "metadata": {},
       "removedWidgets": [],
       "type": "html"
      }
     },
     "output_type": "display_data"
    }
   ],
   "source": [
    "#regressor.intercept"
   ]
  },
  {
   "cell_type": "code",
   "execution_count": 0,
   "metadata": {
    "application/vnd.databricks.v1+cell": {
     "inputWidgets": {},
     "nuid": "e4596568-58e8-4ded-b41d-bfb57c76a07e",
     "showTitle": false,
     "title": ""
    }
   },
   "outputs": [
    {
     "data": {
      "text/html": [
       "<style scoped>\n",
       "  .ansiout {\n",
       "    display: block;\n",
       "    unicode-bidi: embed;\n",
       "    white-space: pre-wrap;\n",
       "    word-wrap: break-word;\n",
       "    word-break: break-all;\n",
       "    font-family: \"Source Code Pro\", \"Menlo\", monospace;;\n",
       "    font-size: 13px;\n",
       "    color: #555;\n",
       "    margin-left: 4px;\n",
       "    line-height: 19px;\n",
       "  }\n",
       "</style>\n",
       "<div class=\"ansiout\"></div>"
      ]
     },
     "metadata": {
      "application/vnd.databricks.v1+output": {
       "addedWidgets": {},
       "arguments": {},
       "data": "<div class=\"ansiout\"></div>",
       "datasetInfos": [],
       "metadata": {},
       "removedWidgets": [],
       "type": "html"
      }
     },
     "output_type": "display_data"
    }
   ],
   "source": [
    "#######predictions\n",
    "#pred_results=regressor.evaluate(test_data)"
   ]
  },
  {
   "cell_type": "code",
   "execution_count": 0,
   "metadata": {
    "application/vnd.databricks.v1+cell": {
     "inputWidgets": {},
     "nuid": "52fe03c3-e757-4dfa-8da3-ad5dc630d510",
     "showTitle": false,
     "title": ""
    }
   },
   "outputs": [
    {
     "data": {
      "text/html": [
       "<style scoped>\n",
       "  .ansiout {\n",
       "    display: block;\n",
       "    unicode-bidi: embed;\n",
       "    white-space: pre-wrap;\n",
       "    word-wrap: break-word;\n",
       "    word-break: break-all;\n",
       "    font-family: \"Source Code Pro\", \"Menlo\", monospace;;\n",
       "    font-size: 13px;\n",
       "    color: #555;\n",
       "    margin-left: 4px;\n",
       "    line-height: 19px;\n",
       "  }\n",
       "</style>\n",
       "<div class=\"ansiout\"></div>"
      ]
     },
     "metadata": {
      "application/vnd.databricks.v1+output": {
       "addedWidgets": {},
       "arguments": {},
       "data": "<div class=\"ansiout\"></div>",
       "datasetInfos": [],
       "metadata": {},
       "removedWidgets": [],
       "type": "html"
      }
     },
     "output_type": "display_data"
    }
   ],
   "source": [
    "#pred_results.predictions.show()"
   ]
  },
  {
   "cell_type": "code",
   "execution_count": 0,
   "metadata": {
    "application/vnd.databricks.v1+cell": {
     "inputWidgets": {},
     "nuid": "44110db0-0958-49d7-8a14-b788a3c2c745",
     "showTitle": false,
     "title": ""
    }
   },
   "outputs": [
    {
     "data": {
      "text/html": [
       "<style scoped>\n",
       "  .ansiout {\n",
       "    display: block;\n",
       "    unicode-bidi: embed;\n",
       "    white-space: pre-wrap;\n",
       "    word-wrap: break-word;\n",
       "    word-break: break-all;\n",
       "    font-family: \"Source Code Pro\", \"Menlo\", monospace;;\n",
       "    font-size: 13px;\n",
       "    color: #555;\n",
       "    margin-left: 4px;\n",
       "    line-height: 19px;\n",
       "  }\n",
       "</style>\n",
       "<div class=\"ansiout\"></div>"
      ]
     },
     "metadata": {
      "application/vnd.databricks.v1+output": {
       "addedWidgets": {},
       "arguments": {},
       "data": "<div class=\"ansiout\"></div>",
       "datasetInfos": [
        {
         "name": "final_data",
         "schema": {
          "fields": [
           {
            "metadata": {
             "ml_attr": {
              "attrs": {
               "nominal": [
                {
                 "idx": 0,
                 "name": "NAME_CONTRACT_TYPE_NEW",
                 "vals": [
                  "Cash loans",
                  "Revolving loans"
                 ]
                },
                {
                 "idx": 1,
                 "name": "FLAG_OWN_CAR_NEW",
                 "vals": [
                  "N",
                  "Y"
                 ]
                },
                {
                 "idx": 2,
                 "name": "FLAG_OWN_REALTY_NEW",
                 "vals": [
                  "Y",
                  "N"
                 ]
                },
                {
                 "idx": 6,
                 "name": "NAME_CONTRACT_TYPE_NEW",
                 "vals": [
                  "Cash loans",
                  "Revolving loans"
                 ]
                },
                {
                 "idx": 7,
                 "name": "NAME_EDUCATION_TYPE_NEW",
                 "vals": [
                  "Secondary / secondary special",
                  "Higher education",
                  "Incomplete higher",
                  "Lower secondary",
                  "Academic degree"
                 ]
                },
                {
                 "idx": 8,
                 "name": "NAME_HOUSING_TYPE_NEW",
                 "vals": [
                  "House / apartment",
                  "With parents",
                  "Municipal apartment",
                  "Rented apartment",
                  "Office apartment",
                  "Co-op apartment"
                 ]
                },
                {
                 "idx": 15,
                 "name": "REG_REGION_NOT_LIVE_REGION_NEW",
                 "vals": [
                  "Business Entity Type 3",
                  "XNA",
                  "Self-employed",
                  "Other",
                  "Medicine",
                  "Business Entity Type 2",
                  "Government",
                  "School",
                  "Trade: type 7",
                  "Kindergarten",
                  "Construction",
                  "Business Entity Type 1",
                  "Transport: type 4",
                  "Trade: type 3",
                  "Industry: type 9",
                  "Industry: type 3",
                  "Security",
                  "Housing",
                  "Industry: type 11",
                  "Military",
                  "Bank",
                  "Agriculture",
                  "Police",
                  "Transport: type 2",
                  "Postal",
                  "Security Ministries",
                  "Trade: type 2",
                  "Restaurant",
                  "Services",
                  "University",
                  "Industry: type 7",
                  "Transport: type 3",
                  "Industry: type 1",
                  "Hotel",
                  "Electricity",
                  "Industry: type 4",
                  "Trade: type 6",
                  "Industry: type 5",
                  "Insurance",
                  "Telecom",
                  "Emergency",
                  "Industry: type 2",
                  "Advertising",
                  "Realtor",
                  "Culture",
                  "Industry: type 12",
                  "Trade: type 1",
                  "Mobile",
                  "Legal Services",
                  "Cleaning",
                  "Transport: type 1",
                  "Industry: type 6",
                  "Industry: type 10",
                  "Religion",
                  "Industry: type 13",
                  "Trade: type 4",
                  "Trade: type 5",
                  "Industry: type 8"
                 ]
                }
               ],
               "numeric": [
                {
                 "idx": 3,
                 "name": "AMT_INCOME_TOTAL"
                },
                {
                 "idx": 4,
                 "name": "AMT_CREDIT"
                },
                {
                 "idx": 5,
                 "name": "AMT_ANNUITY"
                },
                {
                 "idx": 9,
                 "name": "DAYS_EMPLOYED"
                },
                {
                 "idx": 10,
                 "name": "FLAG_WORK_PHONE"
                },
                {
                 "idx": 11,
                 "name": "FLAG_CONT_MOBILE"
                },
                {
                 "idx": 12,
                 "name": "OCCUPATION_TYPE"
                },
                {
                 "idx": 13,
                 "name": "REGION_RATING_CLIENT"
                },
                {
                 "idx": 14,
                 "name": "REGION_RATING_CLIENT_W_CITY"
                },
                {
                 "idx": 16,
                 "name": "REG_REGION_NOT_WORK_REGION"
                }
               ]
              },
              "num_attrs": 17
             }
            },
            "name": "Independent Features",
            "nullable": true,
            "type": {
             "class": "org.apache.spark.ml.linalg.VectorUDT",
             "pyClass": "pyspark.ml.linalg.VectorUDT",
             "sqlType": {
              "fields": [
               {
                "metadata": {},
                "name": "type",
                "nullable": false,
                "type": "byte"
               },
               {
                "metadata": {},
                "name": "size",
                "nullable": true,
                "type": "integer"
               },
               {
                "metadata": {},
                "name": "indices",
                "nullable": true,
                "type": {
                 "containsNull": false,
                 "elementType": "integer",
                 "type": "array"
                }
               },
               {
                "metadata": {},
                "name": "values",
                "nullable": true,
                "type": {
                 "containsNull": false,
                 "elementType": "double",
                 "type": "array"
                }
               }
              ],
              "type": "struct"
             },
             "type": "udt"
            }
           },
           {
            "metadata": {},
            "name": "TARGET",
            "nullable": true,
            "type": "integer"
           },
           {
            "metadata": {
             "ml_attr": {
              "num_attrs": 17
             }
            },
            "name": "Independent Features1",
            "nullable": true,
            "type": {
             "class": "org.apache.spark.ml.linalg.VectorUDT",
             "pyClass": "pyspark.ml.linalg.VectorUDT",
             "sqlType": {
              "fields": [
               {
                "metadata": {},
                "name": "type",
                "nullable": false,
                "type": "byte"
               },
               {
                "metadata": {},
                "name": "size",
                "nullable": true,
                "type": "integer"
               },
               {
                "metadata": {},
                "name": "indices",
                "nullable": true,
                "type": {
                 "containsNull": false,
                 "elementType": "integer",
                 "type": "array"
                }
               },
               {
                "metadata": {},
                "name": "values",
                "nullable": true,
                "type": {
                 "containsNull": false,
                 "elementType": "double",
                 "type": "array"
                }
               }
              ],
              "type": "struct"
             },
             "type": "udt"
            }
           }
          ],
          "type": "struct"
         },
         "tableIdentifier": null,
         "typeStr": "pyspark.sql.dataframe.DataFrame"
        }
       ],
       "metadata": {},
       "removedWidgets": [],
       "type": "html"
      }
     },
     "output_type": "display_data"
    }
   ],
   "source": [
    "from pyspark.ml.feature import VectorAssembler, StandardScaler\n",
    "standardScaler = StandardScaler(inputCol=\"Independent Features\", outputCol=\"Independent Features1\")\n",
    "final_data=standardScaler.fit(final_data).transform(final_data)"
   ]
  },
  {
   "cell_type": "code",
   "execution_count": 0,
   "metadata": {
    "application/vnd.databricks.v1+cell": {
     "inputWidgets": {},
     "nuid": "ca116049-5019-4b92-a57a-795a6c8e1786",
     "showTitle": false,
     "title": ""
    }
   },
   "outputs": [
    {
     "data": {
      "text/html": [
       "<style scoped>\n",
       "  .ansiout {\n",
       "    display: block;\n",
       "    unicode-bidi: embed;\n",
       "    white-space: pre-wrap;\n",
       "    word-wrap: break-word;\n",
       "    word-break: break-all;\n",
       "    font-family: \"Source Code Pro\", \"Menlo\", monospace;;\n",
       "    font-size: 13px;\n",
       "    color: #555;\n",
       "    margin-left: 4px;\n",
       "    line-height: 19px;\n",
       "  }\n",
       "</style>\n",
       "<div class=\"ansiout\">+--------------------+------+---------------------+\n",
       "Independent Features|TARGET|Independent Features1|\n",
       "+--------------------+------+---------------------+\n",
       "(17,[3,4,5,9,10,1...|     1| (17,[3,4,5,9,10,1...|\n",
       "(17,[2,3,4,5,7,9,...|     0| (17,[2,3,4,5,7,9,...|\n",
       "[1.0,1.0,0.0,6750...|     0| [3.40708303014137...|\n",
       "(17,[3,4,5,9,10,1...|     0| (17,[3,4,5,9,10,1...|\n",
       "(17,[3,4,5,9,10,1...|     0| (17,[3,4,5,9,10,1...|\n",
       "(17,[3,4,5,9,10,1...|     0| (17,[3,4,5,9,10,1...|\n",
       "(17,[1,3,4,5,7,9,...|     0| (17,[1,3,4,5,7,9,...|\n",
       "(17,[1,3,4,5,7,9,...|     0| (17,[1,3,4,5,7,9,...|\n",
       "(17,[3,4,5,9,10,1...|     0| (17,[3,4,5,9,10,1...|\n",
       "(17,[0,3,4,5,6,9,...|     0| (17,[0,3,4,5,6,9,...|\n",
       "(17,[3,4,5,7,9,10...|     0| (17,[3,4,5,7,9,10...|\n",
       "(17,[3,4,5,9,10,1...|     0| (17,[3,4,5,9,10,1...|\n",
       "(17,[3,4,5,9,10,1...|     0| (17,[3,4,5,9,10,1...|\n",
       "(17,[1,2,3,4,5,9,...|     0| (17,[1,2,3,4,5,9,...|\n",
       "(17,[3,4,5,9,10,1...|     0| (17,[3,4,5,9,10,1...|\n",
       "(17,[1,3,4,5,8,9,...|     0| (17,[1,3,4,5,8,9,...|\n",
       "(17,[2,3,4,5,9,10...|     0| (17,[2,3,4,5,9,10...|\n",
       "(17,[0,3,4,5,6,9,...|     0| (17,[0,3,4,5,6,9,...|\n",
       "(17,[0,3,4,5,6,9,...|     0| (17,[0,3,4,5,6,9,...|\n",
       "(17,[3,4,5,7,9,10...|     0| (17,[3,4,5,7,9,10...|\n",
       "+--------------------+------+---------------------+\n",
       "only showing top 20 rows\n",
       "\n",
       "</div>"
      ]
     },
     "metadata": {
      "application/vnd.databricks.v1+output": {
       "addedWidgets": {},
       "arguments": {},
       "data": "<div class=\"ansiout\">+--------------------+------+---------------------+\n|Independent Features|TARGET|Independent Features1|\n+--------------------+------+---------------------+\n|(17,[3,4,5,9,10,1...|     1| (17,[3,4,5,9,10,1...|\n|(17,[2,3,4,5,7,9,...|     0| (17,[2,3,4,5,7,9,...|\n|[1.0,1.0,0.0,6750...|     0| [3.40708303014137...|\n|(17,[3,4,5,9,10,1...|     0| (17,[3,4,5,9,10,1...|\n|(17,[3,4,5,9,10,1...|     0| (17,[3,4,5,9,10,1...|\n|(17,[3,4,5,9,10,1...|     0| (17,[3,4,5,9,10,1...|\n|(17,[1,3,4,5,7,9,...|     0| (17,[1,3,4,5,7,9,...|\n|(17,[1,3,4,5,7,9,...|     0| (17,[1,3,4,5,7,9,...|\n|(17,[3,4,5,9,10,1...|     0| (17,[3,4,5,9,10,1...|\n|(17,[0,3,4,5,6,9,...|     0| (17,[0,3,4,5,6,9,...|\n|(17,[3,4,5,7,9,10...|     0| (17,[3,4,5,7,9,10...|\n|(17,[3,4,5,9,10,1...|     0| (17,[3,4,5,9,10,1...|\n|(17,[3,4,5,9,10,1...|     0| (17,[3,4,5,9,10,1...|\n|(17,[1,2,3,4,5,9,...|     0| (17,[1,2,3,4,5,9,...|\n|(17,[3,4,5,9,10,1...|     0| (17,[3,4,5,9,10,1...|\n|(17,[1,3,4,5,8,9,...|     0| (17,[1,3,4,5,8,9,...|\n|(17,[2,3,4,5,9,10...|     0| (17,[2,3,4,5,9,10...|\n|(17,[0,3,4,5,6,9,...|     0| (17,[0,3,4,5,6,9,...|\n|(17,[0,3,4,5,6,9,...|     0| (17,[0,3,4,5,6,9,...|\n|(17,[3,4,5,7,9,10...|     0| (17,[3,4,5,7,9,10...|\n+--------------------+------+---------------------+\nonly showing top 20 rows\n\n</div>",
       "datasetInfos": [],
       "metadata": {},
       "removedWidgets": [],
       "type": "html"
      }
     },
     "output_type": "display_data"
    }
   ],
   "source": [
    "final_data.show()"
   ]
  },
  {
   "cell_type": "code",
   "execution_count": 0,
   "metadata": {
    "application/vnd.databricks.v1+cell": {
     "inputWidgets": {},
     "nuid": "455ffbfc-8306-439a-885e-b80cb3efed2d",
     "showTitle": false,
     "title": ""
    }
   },
   "outputs": [
    {
     "data": {
      "text/html": [
       "<style scoped>\n",
       "  .ansiout {\n",
       "    display: block;\n",
       "    unicode-bidi: embed;\n",
       "    white-space: pre-wrap;\n",
       "    word-wrap: break-word;\n",
       "    word-break: break-all;\n",
       "    font-family: \"Source Code Pro\", \"Menlo\", monospace;;\n",
       "    font-size: 13px;\n",
       "    color: #555;\n",
       "    margin-left: 4px;\n",
       "    line-height: 19px;\n",
       "  }\n",
       "</style>\n",
       "<div class=\"ansiout\"></div>"
      ]
     },
     "metadata": {
      "application/vnd.databricks.v1+output": {
       "addedWidgets": {},
       "arguments": {},
       "data": "<div class=\"ansiout\"></div>",
       "datasetInfos": [
        {
         "name": "train_data",
         "schema": {
          "fields": [
           {
            "metadata": {
             "ml_attr": {
              "attrs": {
               "nominal": [
                {
                 "idx": 0,
                 "name": "NAME_CONTRACT_TYPE_NEW",
                 "vals": [
                  "Cash loans",
                  "Revolving loans"
                 ]
                },
                {
                 "idx": 1,
                 "name": "FLAG_OWN_CAR_NEW",
                 "vals": [
                  "N",
                  "Y"
                 ]
                },
                {
                 "idx": 2,
                 "name": "FLAG_OWN_REALTY_NEW",
                 "vals": [
                  "Y",
                  "N"
                 ]
                },
                {
                 "idx": 6,
                 "name": "NAME_CONTRACT_TYPE_NEW",
                 "vals": [
                  "Cash loans",
                  "Revolving loans"
                 ]
                },
                {
                 "idx": 7,
                 "name": "NAME_EDUCATION_TYPE_NEW",
                 "vals": [
                  "Secondary / secondary special",
                  "Higher education",
                  "Incomplete higher",
                  "Lower secondary",
                  "Academic degree"
                 ]
                },
                {
                 "idx": 8,
                 "name": "NAME_HOUSING_TYPE_NEW",
                 "vals": [
                  "House / apartment",
                  "With parents",
                  "Municipal apartment",
                  "Rented apartment",
                  "Office apartment",
                  "Co-op apartment"
                 ]
                },
                {
                 "idx": 15,
                 "name": "REG_REGION_NOT_LIVE_REGION_NEW",
                 "vals": [
                  "Business Entity Type 3",
                  "XNA",
                  "Self-employed",
                  "Other",
                  "Medicine",
                  "Business Entity Type 2",
                  "Government",
                  "School",
                  "Trade: type 7",
                  "Kindergarten",
                  "Construction",
                  "Business Entity Type 1",
                  "Transport: type 4",
                  "Trade: type 3",
                  "Industry: type 9",
                  "Industry: type 3",
                  "Security",
                  "Housing",
                  "Industry: type 11",
                  "Military",
                  "Bank",
                  "Agriculture",
                  "Police",
                  "Transport: type 2",
                  "Postal",
                  "Security Ministries",
                  "Trade: type 2",
                  "Restaurant",
                  "Services",
                  "University",
                  "Industry: type 7",
                  "Transport: type 3",
                  "Industry: type 1",
                  "Hotel",
                  "Electricity",
                  "Industry: type 4",
                  "Trade: type 6",
                  "Industry: type 5",
                  "Insurance",
                  "Telecom",
                  "Emergency",
                  "Industry: type 2",
                  "Advertising",
                  "Realtor",
                  "Culture",
                  "Industry: type 12",
                  "Trade: type 1",
                  "Mobile",
                  "Legal Services",
                  "Cleaning",
                  "Transport: type 1",
                  "Industry: type 6",
                  "Industry: type 10",
                  "Religion",
                  "Industry: type 13",
                  "Trade: type 4",
                  "Trade: type 5",
                  "Industry: type 8"
                 ]
                }
               ],
               "numeric": [
                {
                 "idx": 3,
                 "name": "AMT_INCOME_TOTAL"
                },
                {
                 "idx": 4,
                 "name": "AMT_CREDIT"
                },
                {
                 "idx": 5,
                 "name": "AMT_ANNUITY"
                },
                {
                 "idx": 9,
                 "name": "DAYS_EMPLOYED"
                },
                {
                 "idx": 10,
                 "name": "FLAG_WORK_PHONE"
                },
                {
                 "idx": 11,
                 "name": "FLAG_CONT_MOBILE"
                },
                {
                 "idx": 12,
                 "name": "OCCUPATION_TYPE"
                },
                {
                 "idx": 13,
                 "name": "REGION_RATING_CLIENT"
                },
                {
                 "idx": 14,
                 "name": "REGION_RATING_CLIENT_W_CITY"
                },
                {
                 "idx": 16,
                 "name": "REG_REGION_NOT_WORK_REGION"
                }
               ]
              },
              "num_attrs": 17
             }
            },
            "name": "Independent Features",
            "nullable": true,
            "type": {
             "class": "org.apache.spark.ml.linalg.VectorUDT",
             "pyClass": "pyspark.ml.linalg.VectorUDT",
             "sqlType": {
              "fields": [
               {
                "metadata": {},
                "name": "type",
                "nullable": false,
                "type": "byte"
               },
               {
                "metadata": {},
                "name": "size",
                "nullable": true,
                "type": "integer"
               },
               {
                "metadata": {},
                "name": "indices",
                "nullable": true,
                "type": {
                 "containsNull": false,
                 "elementType": "integer",
                 "type": "array"
                }
               },
               {
                "metadata": {},
                "name": "values",
                "nullable": true,
                "type": {
                 "containsNull": false,
                 "elementType": "double",
                 "type": "array"
                }
               }
              ],
              "type": "struct"
             },
             "type": "udt"
            }
           },
           {
            "metadata": {},
            "name": "TARGET",
            "nullable": true,
            "type": "integer"
           },
           {
            "metadata": {
             "ml_attr": {
              "num_attrs": 17
             }
            },
            "name": "Independent Features1",
            "nullable": true,
            "type": {
             "class": "org.apache.spark.ml.linalg.VectorUDT",
             "pyClass": "pyspark.ml.linalg.VectorUDT",
             "sqlType": {
              "fields": [
               {
                "metadata": {},
                "name": "type",
                "nullable": false,
                "type": "byte"
               },
               {
                "metadata": {},
                "name": "size",
                "nullable": true,
                "type": "integer"
               },
               {
                "metadata": {},
                "name": "indices",
                "nullable": true,
                "type": {
                 "containsNull": false,
                 "elementType": "integer",
                 "type": "array"
                }
               },
               {
                "metadata": {},
                "name": "values",
                "nullable": true,
                "type": {
                 "containsNull": false,
                 "elementType": "double",
                 "type": "array"
                }
               }
              ],
              "type": "struct"
             },
             "type": "udt"
            }
           }
          ],
          "type": "struct"
         },
         "tableIdentifier": null,
         "typeStr": "pyspark.sql.dataframe.DataFrame"
        },
        {
         "name": "test_data",
         "schema": {
          "fields": [
           {
            "metadata": {
             "ml_attr": {
              "attrs": {
               "nominal": [
                {
                 "idx": 0,
                 "name": "NAME_CONTRACT_TYPE_NEW",
                 "vals": [
                  "Cash loans",
                  "Revolving loans"
                 ]
                },
                {
                 "idx": 1,
                 "name": "FLAG_OWN_CAR_NEW",
                 "vals": [
                  "N",
                  "Y"
                 ]
                },
                {
                 "idx": 2,
                 "name": "FLAG_OWN_REALTY_NEW",
                 "vals": [
                  "Y",
                  "N"
                 ]
                },
                {
                 "idx": 6,
                 "name": "NAME_CONTRACT_TYPE_NEW",
                 "vals": [
                  "Cash loans",
                  "Revolving loans"
                 ]
                },
                {
                 "idx": 7,
                 "name": "NAME_EDUCATION_TYPE_NEW",
                 "vals": [
                  "Secondary / secondary special",
                  "Higher education",
                  "Incomplete higher",
                  "Lower secondary",
                  "Academic degree"
                 ]
                },
                {
                 "idx": 8,
                 "name": "NAME_HOUSING_TYPE_NEW",
                 "vals": [
                  "House / apartment",
                  "With parents",
                  "Municipal apartment",
                  "Rented apartment",
                  "Office apartment",
                  "Co-op apartment"
                 ]
                },
                {
                 "idx": 15,
                 "name": "REG_REGION_NOT_LIVE_REGION_NEW",
                 "vals": [
                  "Business Entity Type 3",
                  "XNA",
                  "Self-employed",
                  "Other",
                  "Medicine",
                  "Business Entity Type 2",
                  "Government",
                  "School",
                  "Trade: type 7",
                  "Kindergarten",
                  "Construction",
                  "Business Entity Type 1",
                  "Transport: type 4",
                  "Trade: type 3",
                  "Industry: type 9",
                  "Industry: type 3",
                  "Security",
                  "Housing",
                  "Industry: type 11",
                  "Military",
                  "Bank",
                  "Agriculture",
                  "Police",
                  "Transport: type 2",
                  "Postal",
                  "Security Ministries",
                  "Trade: type 2",
                  "Restaurant",
                  "Services",
                  "University",
                  "Industry: type 7",
                  "Transport: type 3",
                  "Industry: type 1",
                  "Hotel",
                  "Electricity",
                  "Industry: type 4",
                  "Trade: type 6",
                  "Industry: type 5",
                  "Insurance",
                  "Telecom",
                  "Emergency",
                  "Industry: type 2",
                  "Advertising",
                  "Realtor",
                  "Culture",
                  "Industry: type 12",
                  "Trade: type 1",
                  "Mobile",
                  "Legal Services",
                  "Cleaning",
                  "Transport: type 1",
                  "Industry: type 6",
                  "Industry: type 10",
                  "Religion",
                  "Industry: type 13",
                  "Trade: type 4",
                  "Trade: type 5",
                  "Industry: type 8"
                 ]
                }
               ],
               "numeric": [
                {
                 "idx": 3,
                 "name": "AMT_INCOME_TOTAL"
                },
                {
                 "idx": 4,
                 "name": "AMT_CREDIT"
                },
                {
                 "idx": 5,
                 "name": "AMT_ANNUITY"
                },
                {
                 "idx": 9,
                 "name": "DAYS_EMPLOYED"
                },
                {
                 "idx": 10,
                 "name": "FLAG_WORK_PHONE"
                },
                {
                 "idx": 11,
                 "name": "FLAG_CONT_MOBILE"
                },
                {
                 "idx": 12,
                 "name": "OCCUPATION_TYPE"
                },
                {
                 "idx": 13,
                 "name": "REGION_RATING_CLIENT"
                },
                {
                 "idx": 14,
                 "name": "REGION_RATING_CLIENT_W_CITY"
                },
                {
                 "idx": 16,
                 "name": "REG_REGION_NOT_WORK_REGION"
                }
               ]
              },
              "num_attrs": 17
             }
            },
            "name": "Independent Features",
            "nullable": true,
            "type": {
             "class": "org.apache.spark.ml.linalg.VectorUDT",
             "pyClass": "pyspark.ml.linalg.VectorUDT",
             "sqlType": {
              "fields": [
               {
                "metadata": {},
                "name": "type",
                "nullable": false,
                "type": "byte"
               },
               {
                "metadata": {},
                "name": "size",
                "nullable": true,
                "type": "integer"
               },
               {
                "metadata": {},
                "name": "indices",
                "nullable": true,
                "type": {
                 "containsNull": false,
                 "elementType": "integer",
                 "type": "array"
                }
               },
               {
                "metadata": {},
                "name": "values",
                "nullable": true,
                "type": {
                 "containsNull": false,
                 "elementType": "double",
                 "type": "array"
                }
               }
              ],
              "type": "struct"
             },
             "type": "udt"
            }
           },
           {
            "metadata": {},
            "name": "TARGET",
            "nullable": true,
            "type": "integer"
           },
           {
            "metadata": {
             "ml_attr": {
              "num_attrs": 17
             }
            },
            "name": "Independent Features1",
            "nullable": true,
            "type": {
             "class": "org.apache.spark.ml.linalg.VectorUDT",
             "pyClass": "pyspark.ml.linalg.VectorUDT",
             "sqlType": {
              "fields": [
               {
                "metadata": {},
                "name": "type",
                "nullable": false,
                "type": "byte"
               },
               {
                "metadata": {},
                "name": "size",
                "nullable": true,
                "type": "integer"
               },
               {
                "metadata": {},
                "name": "indices",
                "nullable": true,
                "type": {
                 "containsNull": false,
                 "elementType": "integer",
                 "type": "array"
                }
               },
               {
                "metadata": {},
                "name": "values",
                "nullable": true,
                "type": {
                 "containsNull": false,
                 "elementType": "double",
                 "type": "array"
                }
               }
              ],
              "type": "struct"
             },
             "type": "udt"
            }
           }
          ],
          "type": "struct"
         },
         "tableIdentifier": null,
         "typeStr": "pyspark.sql.dataframe.DataFrame"
        }
       ],
       "metadata": {},
       "removedWidgets": [],
       "type": "html"
      }
     },
     "output_type": "display_data"
    }
   ],
   "source": [
    "train_data,test_data=final_data.randomSplit([0.90,0.10])\n"
   ]
  },
  {
   "cell_type": "code",
   "execution_count": 0,
   "metadata": {
    "application/vnd.databricks.v1+cell": {
     "inputWidgets": {},
     "nuid": "d5900eeb-2af5-45f7-984d-5e154a57bfe4",
     "showTitle": false,
     "title": ""
    }
   },
   "outputs": [
    {
     "data": {
      "text/html": [
       "<style scoped>\n",
       "  .ansiout {\n",
       "    display: block;\n",
       "    unicode-bidi: embed;\n",
       "    white-space: pre-wrap;\n",
       "    word-wrap: break-word;\n",
       "    word-break: break-all;\n",
       "    font-family: \"Source Code Pro\", \"Menlo\", monospace;;\n",
       "    font-size: 13px;\n",
       "    color: #555;\n",
       "    margin-left: 4px;\n",
       "    line-height: 19px;\n",
       "  }\n",
       "</style>\n",
       "<div class=\"ansiout\"></div>"
      ]
     },
     "metadata": {
      "application/vnd.databricks.v1+output": {
       "addedWidgets": {},
       "arguments": {},
       "data": "<div class=\"ansiout\"></div>",
       "datasetInfos": [],
       "metadata": {},
       "removedWidgets": [],
       "type": "html"
      }
     },
     "output_type": "display_data"
    }
   ],
   "source": [
    "lr = LogisticRegression(featuresCol='Independent Features1',labelCol=\"TARGET\", predictionCol='Prediction',maxIter=10)"
   ]
  },
  {
   "cell_type": "code",
   "execution_count": 0,
   "metadata": {
    "application/vnd.databricks.v1+cell": {
     "inputWidgets": {},
     "nuid": "bc4d4bb7-d71b-4e47-aac7-1f6c87c274da",
     "showTitle": false,
     "title": ""
    }
   },
   "outputs": [
    {
     "data": {
      "text/html": [
       "<style scoped>\n",
       "  .ansiout {\n",
       "    display: block;\n",
       "    unicode-bidi: embed;\n",
       "    white-space: pre-wrap;\n",
       "    word-wrap: break-word;\n",
       "    word-break: break-all;\n",
       "    font-family: \"Source Code Pro\", \"Menlo\", monospace;;\n",
       "    font-size: 13px;\n",
       "    color: #555;\n",
       "    margin-left: 4px;\n",
       "    line-height: 19px;\n",
       "  }\n",
       "</style>\n",
       "<div class=\"ansiout\"></div>"
      ]
     },
     "metadata": {
      "application/vnd.databricks.v1+output": {
       "addedWidgets": {},
       "arguments": {},
       "data": "<div class=\"ansiout\"></div>",
       "datasetInfos": [],
       "metadata": {},
       "removedWidgets": [],
       "type": "html"
      }
     },
     "output_type": "display_data"
    }
   ],
   "source": [
    "lr_model = lr.fit(train_data)"
   ]
  },
  {
   "cell_type": "code",
   "execution_count": 0,
   "metadata": {
    "application/vnd.databricks.v1+cell": {
     "inputWidgets": {},
     "nuid": "36b83143-6f05-4a8a-b04d-616c547d8f91",
     "showTitle": false,
     "title": ""
    }
   },
   "outputs": [
    {
     "data": {
      "text/html": [
       "<style scoped>\n",
       "  .ansiout {\n",
       "    display: block;\n",
       "    unicode-bidi: embed;\n",
       "    white-space: pre-wrap;\n",
       "    word-wrap: break-word;\n",
       "    word-break: break-all;\n",
       "    font-family: \"Source Code Pro\", \"Menlo\", monospace;;\n",
       "    font-size: 13px;\n",
       "    color: #555;\n",
       "    margin-left: 4px;\n",
       "    line-height: 19px;\n",
       "  }\n",
       "</style>\n",
       "<div class=\"ansiout\"></div>"
      ]
     },
     "metadata": {
      "application/vnd.databricks.v1+output": {
       "addedWidgets": {},
       "arguments": {},
       "data": "<div class=\"ansiout\"></div>",
       "datasetInfos": [
        {
         "name": "predictions",
         "schema": {
          "fields": [
           {
            "metadata": {
             "ml_attr": {
              "attrs": {
               "nominal": [
                {
                 "idx": 0,
                 "name": "NAME_CONTRACT_TYPE_NEW",
                 "vals": [
                  "Cash loans",
                  "Revolving loans"
                 ]
                },
                {
                 "idx": 1,
                 "name": "FLAG_OWN_CAR_NEW",
                 "vals": [
                  "N",
                  "Y"
                 ]
                },
                {
                 "idx": 2,
                 "name": "FLAG_OWN_REALTY_NEW",
                 "vals": [
                  "Y",
                  "N"
                 ]
                },
                {
                 "idx": 6,
                 "name": "NAME_CONTRACT_TYPE_NEW",
                 "vals": [
                  "Cash loans",
                  "Revolving loans"
                 ]
                },
                {
                 "idx": 7,
                 "name": "NAME_EDUCATION_TYPE_NEW",
                 "vals": [
                  "Secondary / secondary special",
                  "Higher education",
                  "Incomplete higher",
                  "Lower secondary",
                  "Academic degree"
                 ]
                },
                {
                 "idx": 8,
                 "name": "NAME_HOUSING_TYPE_NEW",
                 "vals": [
                  "House / apartment",
                  "With parents",
                  "Municipal apartment",
                  "Rented apartment",
                  "Office apartment",
                  "Co-op apartment"
                 ]
                },
                {
                 "idx": 15,
                 "name": "REG_REGION_NOT_LIVE_REGION_NEW",
                 "vals": [
                  "Business Entity Type 3",
                  "XNA",
                  "Self-employed",
                  "Other",
                  "Medicine",
                  "Business Entity Type 2",
                  "Government",
                  "School",
                  "Trade: type 7",
                  "Kindergarten",
                  "Construction",
                  "Business Entity Type 1",
                  "Transport: type 4",
                  "Trade: type 3",
                  "Industry: type 9",
                  "Industry: type 3",
                  "Security",
                  "Housing",
                  "Industry: type 11",
                  "Military",
                  "Bank",
                  "Agriculture",
                  "Police",
                  "Transport: type 2",
                  "Postal",
                  "Security Ministries",
                  "Trade: type 2",
                  "Restaurant",
                  "Services",
                  "University",
                  "Industry: type 7",
                  "Transport: type 3",
                  "Industry: type 1",
                  "Hotel",
                  "Electricity",
                  "Industry: type 4",
                  "Trade: type 6",
                  "Industry: type 5",
                  "Insurance",
                  "Telecom",
                  "Emergency",
                  "Industry: type 2",
                  "Advertising",
                  "Realtor",
                  "Culture",
                  "Industry: type 12",
                  "Trade: type 1",
                  "Mobile",
                  "Legal Services",
                  "Cleaning",
                  "Transport: type 1",
                  "Industry: type 6",
                  "Industry: type 10",
                  "Religion",
                  "Industry: type 13",
                  "Trade: type 4",
                  "Trade: type 5",
                  "Industry: type 8"
                 ]
                }
               ],
               "numeric": [
                {
                 "idx": 3,
                 "name": "AMT_INCOME_TOTAL"
                },
                {
                 "idx": 4,
                 "name": "AMT_CREDIT"
                },
                {
                 "idx": 5,
                 "name": "AMT_ANNUITY"
                },
                {
                 "idx": 9,
                 "name": "DAYS_EMPLOYED"
                },
                {
                 "idx": 10,
                 "name": "FLAG_WORK_PHONE"
                },
                {
                 "idx": 11,
                 "name": "FLAG_CONT_MOBILE"
                },
                {
                 "idx": 12,
                 "name": "OCCUPATION_TYPE"
                },
                {
                 "idx": 13,
                 "name": "REGION_RATING_CLIENT"
                },
                {
                 "idx": 14,
                 "name": "REGION_RATING_CLIENT_W_CITY"
                },
                {
                 "idx": 16,
                 "name": "REG_REGION_NOT_WORK_REGION"
                }
               ]
              },
              "num_attrs": 17
             }
            },
            "name": "Independent Features",
            "nullable": true,
            "type": {
             "class": "org.apache.spark.ml.linalg.VectorUDT",
             "pyClass": "pyspark.ml.linalg.VectorUDT",
             "sqlType": {
              "fields": [
               {
                "metadata": {},
                "name": "type",
                "nullable": false,
                "type": "byte"
               },
               {
                "metadata": {},
                "name": "size",
                "nullable": true,
                "type": "integer"
               },
               {
                "metadata": {},
                "name": "indices",
                "nullable": true,
                "type": {
                 "containsNull": false,
                 "elementType": "integer",
                 "type": "array"
                }
               },
               {
                "metadata": {},
                "name": "values",
                "nullable": true,
                "type": {
                 "containsNull": false,
                 "elementType": "double",
                 "type": "array"
                }
               }
              ],
              "type": "struct"
             },
             "type": "udt"
            }
           },
           {
            "metadata": {},
            "name": "TARGET",
            "nullable": true,
            "type": "integer"
           },
           {
            "metadata": {
             "ml_attr": {
              "num_attrs": 17
             }
            },
            "name": "Independent Features1",
            "nullable": true,
            "type": {
             "class": "org.apache.spark.ml.linalg.VectorUDT",
             "pyClass": "pyspark.ml.linalg.VectorUDT",
             "sqlType": {
              "fields": [
               {
                "metadata": {},
                "name": "type",
                "nullable": false,
                "type": "byte"
               },
               {
                "metadata": {},
                "name": "size",
                "nullable": true,
                "type": "integer"
               },
               {
                "metadata": {},
                "name": "indices",
                "nullable": true,
                "type": {
                 "containsNull": false,
                 "elementType": "integer",
                 "type": "array"
                }
               },
               {
                "metadata": {},
                "name": "values",
                "nullable": true,
                "type": {
                 "containsNull": false,
                 "elementType": "double",
                 "type": "array"
                }
               }
              ],
              "type": "struct"
             },
             "type": "udt"
            }
           },
           {
            "metadata": {
             "ml_attr": {
              "num_attrs": 2
             }
            },
            "name": "rawPrediction",
            "nullable": true,
            "type": {
             "class": "org.apache.spark.ml.linalg.VectorUDT",
             "pyClass": "pyspark.ml.linalg.VectorUDT",
             "sqlType": {
              "fields": [
               {
                "metadata": {},
                "name": "type",
                "nullable": false,
                "type": "byte"
               },
               {
                "metadata": {},
                "name": "size",
                "nullable": true,
                "type": "integer"
               },
               {
                "metadata": {},
                "name": "indices",
                "nullable": true,
                "type": {
                 "containsNull": false,
                 "elementType": "integer",
                 "type": "array"
                }
               },
               {
                "metadata": {},
                "name": "values",
                "nullable": true,
                "type": {
                 "containsNull": false,
                 "elementType": "double",
                 "type": "array"
                }
               }
              ],
              "type": "struct"
             },
             "type": "udt"
            }
           },
           {
            "metadata": {
             "ml_attr": {
              "num_attrs": 2
             }
            },
            "name": "probability",
            "nullable": true,
            "type": {
             "class": "org.apache.spark.ml.linalg.VectorUDT",
             "pyClass": "pyspark.ml.linalg.VectorUDT",
             "sqlType": {
              "fields": [
               {
                "metadata": {},
                "name": "type",
                "nullable": false,
                "type": "byte"
               },
               {
                "metadata": {},
                "name": "size",
                "nullable": true,
                "type": "integer"
               },
               {
                "metadata": {},
                "name": "indices",
                "nullable": true,
                "type": {
                 "containsNull": false,
                 "elementType": "integer",
                 "type": "array"
                }
               },
               {
                "metadata": {},
                "name": "values",
                "nullable": true,
                "type": {
                 "containsNull": false,
                 "elementType": "double",
                 "type": "array"
                }
               }
              ],
              "type": "struct"
             },
             "type": "udt"
            }
           },
           {
            "metadata": {
             "ml_attr": {
              "num_vals": 2,
              "type": "nominal"
             }
            },
            "name": "Prediction",
            "nullable": false,
            "type": "double"
           }
          ],
          "type": "struct"
         },
         "tableIdentifier": null,
         "typeStr": "pyspark.sql.dataframe.DataFrame"
        }
       ],
       "metadata": {},
       "removedWidgets": [],
       "type": "html"
      }
     },
     "output_type": "display_data"
    }
   ],
   "source": [
    "predictions = lr_model.transform(test_data)"
   ]
  },
  {
   "cell_type": "code",
   "execution_count": 0,
   "metadata": {
    "application/vnd.databricks.v1+cell": {
     "inputWidgets": {},
     "nuid": "730975b9-ae63-4b6c-93f9-f9b1eadca29c",
     "showTitle": false,
     "title": ""
    }
   },
   "outputs": [
    {
     "data": {
      "text/html": [
       "<style scoped>\n",
       "  .ansiout {\n",
       "    display: block;\n",
       "    unicode-bidi: embed;\n",
       "    white-space: pre-wrap;\n",
       "    word-wrap: break-word;\n",
       "    word-break: break-all;\n",
       "    font-family: \"Source Code Pro\", \"Menlo\", monospace;;\n",
       "    font-size: 13px;\n",
       "    color: #555;\n",
       "    margin-left: 4px;\n",
       "    line-height: 19px;\n",
       "  }\n",
       "</style>\n",
       "<div class=\"ansiout\"></div>"
      ]
     },
     "metadata": {
      "application/vnd.databricks.v1+output": {
       "addedWidgets": {},
       "arguments": {},
       "data": "<div class=\"ansiout\"></div>",
       "datasetInfos": [
        {
         "name": "result",
         "schema": {
          "fields": [
           {
            "metadata": {},
            "name": "TARGET",
            "nullable": true,
            "type": "integer"
           },
           {
            "metadata": {
             "ml_attr": {
              "num_vals": 2,
              "type": "nominal"
             }
            },
            "name": "Prediction",
            "nullable": false,
            "type": "double"
           }
          ],
          "type": "struct"
         },
         "tableIdentifier": null,
         "typeStr": "pyspark.sql.dataframe.DataFrame"
        }
       ],
       "metadata": {},
       "removedWidgets": [],
       "type": "html"
      }
     },
     "output_type": "display_data"
    }
   ],
   "source": [
    "result = predictions.select(\"TARGET\",\"Prediction\")"
   ]
  },
  {
   "cell_type": "code",
   "execution_count": 0,
   "metadata": {
    "application/vnd.databricks.v1+cell": {
     "inputWidgets": {},
     "nuid": "0c6d58aa-8caf-4801-8607-3956a55e8c10",
     "showTitle": false,
     "title": ""
    }
   },
   "outputs": [
    {
     "data": {
      "text/html": [
       "<style scoped>\n",
       "  .ansiout {\n",
       "    display: block;\n",
       "    unicode-bidi: embed;\n",
       "    white-space: pre-wrap;\n",
       "    word-wrap: break-word;\n",
       "    word-break: break-all;\n",
       "    font-family: \"Source Code Pro\", \"Menlo\", monospace;;\n",
       "    font-size: 13px;\n",
       "    color: #555;\n",
       "    margin-left: 4px;\n",
       "    line-height: 19px;\n",
       "  }\n",
       "</style>\n",
       "<div class=\"ansiout\">+------+----------+\n",
       "TARGET|Prediction|\n",
       "+------+----------+\n",
       "     0|       0.0|\n",
       "     0|       0.0|\n",
       "     0|       0.0|\n",
       "     0|       0.0|\n",
       "     1|       0.0|\n",
       "     0|       0.0|\n",
       "     0|       0.0|\n",
       "     0|       0.0|\n",
       "     0|       0.0|\n",
       "     0|       0.0|\n",
       "     0|       0.0|\n",
       "     0|       0.0|\n",
       "     0|       0.0|\n",
       "     0|       0.0|\n",
       "     0|       0.0|\n",
       "     0|       0.0|\n",
       "     0|       0.0|\n",
       "     0|       0.0|\n",
       "     0|       0.0|\n",
       "     0|       0.0|\n",
       "+------+----------+\n",
       "only showing top 20 rows\n",
       "\n",
       "</div>"
      ]
     },
     "metadata": {
      "application/vnd.databricks.v1+output": {
       "addedWidgets": {},
       "arguments": {},
       "data": "<div class=\"ansiout\">+------+----------+\n|TARGET|Prediction|\n+------+----------+\n|     0|       0.0|\n|     0|       0.0|\n|     0|       0.0|\n|     0|       0.0|\n|     1|       0.0|\n|     0|       0.0|\n|     0|       0.0|\n|     0|       0.0|\n|     0|       0.0|\n|     0|       0.0|\n|     0|       0.0|\n|     0|       0.0|\n|     0|       0.0|\n|     0|       0.0|\n|     0|       0.0|\n|     0|       0.0|\n|     0|       0.0|\n|     0|       0.0|\n|     0|       0.0|\n|     0|       0.0|\n+------+----------+\nonly showing top 20 rows\n\n</div>",
       "datasetInfos": [],
       "metadata": {},
       "removedWidgets": [],
       "type": "html"
      }
     },
     "output_type": "display_data"
    }
   ],
   "source": [
    "result.show()"
   ]
  },
  {
   "cell_type": "code",
   "execution_count": 0,
   "metadata": {
    "application/vnd.databricks.v1+cell": {
     "inputWidgets": {},
     "nuid": "f0b8d423-9f89-4afd-8f4f-9bfb032cc743",
     "showTitle": false,
     "title": ""
    }
   },
   "outputs": [
    {
     "data": {
      "text/html": [
       "<style scoped>\n",
       "  .ansiout {\n",
       "    display: block;\n",
       "    unicode-bidi: embed;\n",
       "    white-space: pre-wrap;\n",
       "    word-wrap: break-word;\n",
       "    word-break: break-all;\n",
       "    font-family: \"Source Code Pro\", \"Menlo\", monospace;;\n",
       "    font-size: 13px;\n",
       "    color: #555;\n",
       "    margin-left: 4px;\n",
       "    line-height: 19px;\n",
       "  }\n",
       "</style>\n",
       "<div class=\"ansiout\"></div>"
      ]
     },
     "metadata": {
      "application/vnd.databricks.v1+output": {
       "addedWidgets": {},
       "arguments": {},
       "data": "<div class=\"ansiout\"></div>",
       "datasetInfos": [],
       "metadata": {},
       "removedWidgets": [],
       "type": "html"
      }
     },
     "output_type": "display_data"
    }
   ],
   "source": [
    "TP = result.filter(result['Prediction'] == 1).filter(result['TARGET'] == 1).count()\n",
    "FN = result.filter(result['Prediction'] == 0).filter(result['TARGET'] == 1).count()\n",
    "TN = result.filter(result['Prediction'] == 0).filter(result['TARGET'] == 0).count()\n",
    "FP = result.filter(result['Prediction'] == 1).filter(result['TARGET'] == 0).count()"
   ]
  },
  {
   "cell_type": "code",
   "execution_count": 0,
   "metadata": {
    "application/vnd.databricks.v1+cell": {
     "inputWidgets": {},
     "nuid": "bc6e4ad8-44a4-44d1-92b4-df0cd013880b",
     "showTitle": false,
     "title": ""
    }
   },
   "outputs": [
    {
     "data": {
      "text/html": [
       "<style scoped>\n",
       "  .ansiout {\n",
       "    display: block;\n",
       "    unicode-bidi: embed;\n",
       "    white-space: pre-wrap;\n",
       "    word-wrap: break-word;\n",
       "    word-break: break-all;\n",
       "    font-family: \"Source Code Pro\", \"Menlo\", monospace;;\n",
       "    font-size: 13px;\n",
       "    color: #555;\n",
       "    margin-left: 4px;\n",
       "    line-height: 19px;\n",
       "  }\n",
       "</style>\n",
       "<div class=\"ansiout\">Out[174]: 0</div>"
      ]
     },
     "metadata": {
      "application/vnd.databricks.v1+output": {
       "addedWidgets": {},
       "arguments": {},
       "data": "<div class=\"ansiout\">Out[174]: 0</div>",
       "datasetInfos": [],
       "metadata": {},
       "removedWidgets": [],
       "type": "html"
      }
     },
     "output_type": "display_data"
    }
   ],
   "source": [
    "TP"
   ]
  },
  {
   "cell_type": "code",
   "execution_count": 0,
   "metadata": {
    "application/vnd.databricks.v1+cell": {
     "inputWidgets": {},
     "nuid": "2048a784-a9c3-452e-8d8a-757e149db8b4",
     "showTitle": false,
     "title": ""
    }
   },
   "outputs": [
    {
     "data": {
      "text/html": [
       "<style scoped>\n",
       "  .ansiout {\n",
       "    display: block;\n",
       "    unicode-bidi: embed;\n",
       "    white-space: pre-wrap;\n",
       "    word-wrap: break-word;\n",
       "    word-break: break-all;\n",
       "    font-family: \"Source Code Pro\", \"Menlo\", monospace;;\n",
       "    font-size: 13px;\n",
       "    color: #555;\n",
       "    margin-left: 4px;\n",
       "    line-height: 19px;\n",
       "  }\n",
       "</style>\n",
       "<div class=\"ansiout\">Accuracy =  0.9200509271350222\n",
       "</div>"
      ]
     },
     "metadata": {
      "application/vnd.databricks.v1+output": {
       "addedWidgets": {},
       "arguments": {},
       "data": "<div class=\"ansiout\">Accuracy =  0.9200509271350222\n</div>",
       "datasetInfos": [],
       "metadata": {},
       "removedWidgets": [],
       "type": "html"
      }
     },
     "output_type": "display_data"
    }
   ],
   "source": [
    "from pyspark.ml.evaluation import BinaryClassificationEvaluator\n",
    "evaluator = BinaryClassificationEvaluator()\n",
    " \n",
    "# Calculate the accracy and print its value\n",
    "accuracy = result.filter(result.TARGET == result.Prediction).count()/float(result.count())\n",
    "print(\"Accuracy = \", accuracy)"
   ]
  },
  {
   "cell_type": "code",
   "execution_count": 0,
   "metadata": {
    "application/vnd.databricks.v1+cell": {
     "inputWidgets": {},
     "nuid": "21c0e774-4aa8-43a7-bcc0-ec8fcac03273",
     "showTitle": false,
     "title": ""
    }
   },
   "outputs": [
    {
     "data": {
      "text/html": [
       "<style scoped>\n",
       "  .ansiout {\n",
       "    display: block;\n",
       "    unicode-bidi: embed;\n",
       "    white-space: pre-wrap;\n",
       "    word-wrap: break-word;\n",
       "    word-break: break-all;\n",
       "    font-family: \"Source Code Pro\", \"Menlo\", monospace;;\n",
       "    font-size: 13px;\n",
       "    color: #555;\n",
       "    margin-left: 4px;\n",
       "    line-height: 19px;\n",
       "  }\n",
       "</style>"
      ]
     },
     "metadata": {
      "application/vnd.databricks.v1+output": {
       "arguments": {},
       "data": "",
       "errorSummary": "Command skipped",
       "errorTraceType": "html",
       "metadata": {},
       "type": "ipynbError"
      }
     },
     "output_type": "display_data"
    }
   ],
   "source": [
    "import pandas as pd\n",
    "def categorical_features(df2):\n",
    "    categorical_cols = df2.select_dtypes(include=[\"object\"]).columns.tolist()\n",
    "    types=df2[categorical_cols].dtypes\n",
    "    uniques = df2[categorical_cols].nunique()\n",
    "    categorical_tbl = pd.concat([uniques,types],axis=1).sort_values(0,ascending=False).rename(columns = {0:'Unique Values',1:'Data Types'})\n",
    "    print(\"The dataset contains {} categorical values\".format(df2[categorical_cols].shape[1]))\n",
    "    \n",
    "    return categorical_tbl"
   ]
  },
  {
   "cell_type": "code",
   "execution_count": 0,
   "metadata": {
    "application/vnd.databricks.v1+cell": {
     "inputWidgets": {},
     "nuid": "86c427f3-8bc8-4253-bb79-7abbd5e7dea9",
     "showTitle": false,
     "title": ""
    }
   },
   "outputs": [
    {
     "data": {
      "text/html": [
       "<style scoped>\n",
       "  .ansiout {\n",
       "    display: block;\n",
       "    unicode-bidi: embed;\n",
       "    white-space: pre-wrap;\n",
       "    word-wrap: break-word;\n",
       "    word-break: break-all;\n",
       "    font-family: \"Source Code Pro\", \"Menlo\", monospace;;\n",
       "    font-size: 13px;\n",
       "    color: #555;\n",
       "    margin-left: 4px;\n",
       "    line-height: 19px;\n",
       "  }\n",
       "</style>"
      ]
     },
     "metadata": {
      "application/vnd.databricks.v1+output": {
       "arguments": {},
       "data": "",
       "errorSummary": "Command skipped",
       "errorTraceType": "html",
       "metadata": {},
       "type": "ipynbError"
      }
     },
     "output_type": "display_data"
    }
   ],
   "source": [
    "import numpy as np\n",
    "def numerical_features(df2):\n",
    "    numerical_cols = df2.select_dtypes(include=np.number).columns.tolist()\n",
    "    numerical_tbl = pd.DataFrame(df2[numerical_cols].dtypes).rename(columns = {0:'Data Types'})\n",
    "    print(\"The dataset contains {} numerical values.(included target value)\".format(df2[numerical_cols].shape[1]))\n",
    "    \n",
    "    return numerical_tbl"
   ]
  },
  {
   "cell_type": "code",
   "execution_count": 0,
   "metadata": {
    "application/vnd.databricks.v1+cell": {
     "inputWidgets": {},
     "nuid": "d93dd698-ca60-4dcd-b273-aae885643e93",
     "showTitle": false,
     "title": ""
    }
   },
   "outputs": [
    {
     "data": {
      "text/html": [
       "<style scoped>\n",
       "  .ansiout {\n",
       "    display: block;\n",
       "    unicode-bidi: embed;\n",
       "    white-space: pre-wrap;\n",
       "    word-wrap: break-word;\n",
       "    word-break: break-all;\n",
       "    font-family: \"Source Code Pro\", \"Menlo\", monospace;;\n",
       "    font-size: 13px;\n",
       "    color: #555;\n",
       "    margin-left: 4px;\n",
       "    line-height: 19px;\n",
       "  }\n",
       "</style>"
      ]
     },
     "metadata": {
      "application/vnd.databricks.v1+output": {
       "arguments": {},
       "data": "",
       "errorSummary": "Command skipped",
       "errorTraceType": "html",
       "metadata": {},
       "type": "ipynbError"
      }
     },
     "output_type": "display_data"
    }
   ],
   "source": [
    "from pyspark.ml import Pipeline\n",
    "from pyspark.ml.feature import OneHotEncoder\n",
    "CATE_FEATURES = [\"NAME_CONTRACT_TYPE\"]\n",
    "stages = [] # stages in our Pipeline\n",
    "for categoricalCol in CATE_FEATURES:\n",
    "    stringIndexer = StringIndexer(inputCol=categoricalCol, outputCol=categoricalCol + \"Index\")\n",
    "    encoder = OneHotEncoder(inputCols=[stringIndexer.getOutputCol()],\n",
    "                                     outputCols=[categoricalCol + \"classVec\"])\n",
    "    stages += [stringIndexer, encoder]"
   ]
  },
  {
   "cell_type": "code",
   "execution_count": 0,
   "metadata": {
    "application/vnd.databricks.v1+cell": {
     "inputWidgets": {},
     "nuid": "4befe550-84dc-4cad-be43-8c5bd1c2f91b",
     "showTitle": false,
     "title": ""
    }
   },
   "outputs": [
    {
     "data": {
      "text/html": [
       "<style scoped>\n",
       "  .ansiout {\n",
       "    display: block;\n",
       "    unicode-bidi: embed;\n",
       "    white-space: pre-wrap;\n",
       "    word-wrap: break-word;\n",
       "    word-break: break-all;\n",
       "    font-family: \"Source Code Pro\", \"Menlo\", monospace;;\n",
       "    font-size: 13px;\n",
       "    color: #555;\n",
       "    margin-left: 4px;\n",
       "    line-height: 19px;\n",
       "  }\n",
       "</style>"
      ]
     },
     "metadata": {
      "application/vnd.databricks.v1+output": {
       "arguments": {},
       "data": "",
       "errorSummary": "Command skipped",
       "errorTraceType": "html",
       "metadata": {},
       "type": "ipynbError"
      }
     },
     "output_type": "display_data"
    }
   ],
   "source": [
    "label_stringIdx =  StringIndexer(inputCol=\"label\", outputCol=\"newlabel\")\n",
    "stages += [label_stringIdx]"
   ]
  },
  {
   "cell_type": "code",
   "execution_count": 0,
   "metadata": {
    "application/vnd.databricks.v1+cell": {
     "inputWidgets": {},
     "nuid": "408f141c-7b89-4cd4-af60-b1ed1942c880",
     "showTitle": false,
     "title": ""
    }
   },
   "outputs": [
    {
     "data": {
      "text/html": [
       "<style scoped>\n",
       "  .ansiout {\n",
       "    display: block;\n",
       "    unicode-bidi: embed;\n",
       "    white-space: pre-wrap;\n",
       "    word-wrap: break-word;\n",
       "    word-break: break-all;\n",
       "    font-family: \"Source Code Pro\", \"Menlo\", monospace;;\n",
       "    font-size: 13px;\n",
       "    color: #555;\n",
       "    margin-left: 4px;\n",
       "    line-height: 19px;\n",
       "  }\n",
       "</style>"
      ]
     },
     "metadata": {
      "application/vnd.databricks.v1+output": {
       "arguments": {},
       "data": "",
       "errorSummary": "Command skipped",
       "errorTraceType": "html",
       "metadata": {},
       "type": "ipynbError"
      }
     },
     "output_type": "display_data"
    }
   ],
   "source": [
    "assemblerInputs = [c + \"classVec\" for c in CATE_FEATURES] + CONTI_FEATURES"
   ]
  },
  {
   "cell_type": "code",
   "execution_count": 0,
   "metadata": {
    "application/vnd.databricks.v1+cell": {
     "inputWidgets": {},
     "nuid": "d30b0d33-b398-478f-a01a-84f0cbbee54f",
     "showTitle": false,
     "title": ""
    }
   },
   "outputs": [
    {
     "data": {
      "text/html": [
       "<style scoped>\n",
       "  .ansiout {\n",
       "    display: block;\n",
       "    unicode-bidi: embed;\n",
       "    white-space: pre-wrap;\n",
       "    word-wrap: break-word;\n",
       "    word-break: break-all;\n",
       "    font-family: \"Source Code Pro\", \"Menlo\", monospace;;\n",
       "    font-size: 13px;\n",
       "    color: #555;\n",
       "    margin-left: 4px;\n",
       "    line-height: 19px;\n",
       "  }\n",
       "</style>"
      ]
     },
     "metadata": {
      "application/vnd.databricks.v1+output": {
       "arguments": {},
       "data": "",
       "errorSummary": "Command skipped",
       "errorTraceType": "html",
       "metadata": {},
       "type": "ipynbError"
      }
     },
     "output_type": "display_data"
    }
   ],
   "source": [
    "assembler = VectorAssembler(inputCols=assemblerInputs, outputCol=\"features\")\n",
    "stages += [assembler]"
   ]
  },
  {
   "cell_type": "code",
   "execution_count": 0,
   "metadata": {
    "application/vnd.databricks.v1+cell": {
     "inputWidgets": {},
     "nuid": "b4dcc169-b1c8-4c84-9c2d-f0ee3f2ef909",
     "showTitle": false,
     "title": ""
    }
   },
   "outputs": [
    {
     "data": {
      "text/html": [
       "<style scoped>\n",
       "  .ansiout {\n",
       "    display: block;\n",
       "    unicode-bidi: embed;\n",
       "    white-space: pre-wrap;\n",
       "    word-wrap: break-word;\n",
       "    word-break: break-all;\n",
       "    font-family: \"Source Code Pro\", \"Menlo\", monospace;;\n",
       "    font-size: 13px;\n",
       "    color: #555;\n",
       "    margin-left: 4px;\n",
       "    line-height: 19px;\n",
       "  }\n",
       "</style>"
      ]
     },
     "metadata": {
      "application/vnd.databricks.v1+output": {
       "arguments": {},
       "data": "",
       "errorSummary": "Command skipped",
       "errorTraceType": "html",
       "metadata": {},
       "type": "ipynbError"
      }
     },
     "output_type": "display_data"
    }
   ],
   "source": [
    "# Create a Pipeline.\n",
    "pipeline = Pipeline(stages=stages)\n",
    "pipelineModel = pipeline.fit(df2)\n",
    "model = pipelineModel.transform(df2)"
   ]
  },
  {
   "cell_type": "code",
   "execution_count": 0,
   "metadata": {
    "application/vnd.databricks.v1+cell": {
     "inputWidgets": {},
     "nuid": "09b27d5e-cd5c-4832-9dd0-e6037127b80a",
     "showTitle": false,
     "title": ""
    }
   },
   "outputs": [
    {
     "data": {
      "text/html": [
       "<style scoped>\n",
       "  .ansiout {\n",
       "    display: block;\n",
       "    unicode-bidi: embed;\n",
       "    white-space: pre-wrap;\n",
       "    word-wrap: break-word;\n",
       "    word-break: break-all;\n",
       "    font-family: \"Source Code Pro\", \"Menlo\", monospace;;\n",
       "    font-size: 13px;\n",
       "    color: #555;\n",
       "    margin-left: 4px;\n",
       "    line-height: 19px;\n",
       "  }\n",
       "</style>"
      ]
     },
     "metadata": {
      "application/vnd.databricks.v1+output": {
       "arguments": {},
       "data": "",
       "errorSummary": "Command skipped",
       "errorTraceType": "html",
       "metadata": {},
       "type": "ipynbError"
      }
     },
     "output_type": "display_data"
    }
   ],
   "source": [
    "from pyspark.ml.classification import LogisticRegression\n",
    "from pyspark.ml.feature import VectorAssembler\n",
    "from pyspark.ml import Pipeline\n",
    "\n",
    "# Create feature vectors. Ignore arr_delay and it's derivate, is_late\n",
    "feature_assembler = VectorAssembler(\n",
    "    inputCols=[x for x in training.columns if x not in [\"is_late\",\"arrdelay\"]],\n",
    "    outputCol=\"features\")\n",
    "\n",
    "reg = LogisticRegression().setParams(\n",
    "    maxIter = 100,\n",
    "    labelCol=\"is_late\",\n",
    "    predictionCol=\"prediction\")\n",
    "\n",
    "model = Pipeline(stages=[feature_assembler, reg]).fit(training)\n"
   ]
  },
  {
   "cell_type": "code",
   "execution_count": 0,
   "metadata": {
    "application/vnd.databricks.v1+cell": {
     "inputWidgets": {},
     "nuid": "7886eb41-7628-4ca4-bff5-819095082d26",
     "showTitle": false,
     "title": ""
    }
   },
   "outputs": [
    {
     "data": {
      "text/html": [
       "<style scoped>\n",
       "  .ansiout {\n",
       "    display: block;\n",
       "    unicode-bidi: embed;\n",
       "    white-space: pre-wrap;\n",
       "    word-wrap: break-word;\n",
       "    word-break: break-all;\n",
       "    font-family: \"Source Code Pro\", \"Menlo\", monospace;;\n",
       "    font-size: 13px;\n",
       "    color: #555;\n",
       "    margin-left: 4px;\n",
       "    line-height: 19px;\n",
       "  }\n",
       "</style>"
      ]
     },
     "metadata": {
      "application/vnd.databricks.v1+output": {
       "arguments": {},
       "data": "",
       "errorSummary": "Command skipped",
       "errorTraceType": "html",
       "metadata": {},
       "type": "ipynbError"
      }
     },
     "output_type": "display_data"
    }
   ],
   "source": [
    "predicted = model.transform(test)"
   ]
  },
  {
   "cell_type": "code",
   "execution_count": 0,
   "metadata": {
    "application/vnd.databricks.v1+cell": {
     "inputWidgets": {},
     "nuid": "8561200c-7a34-432e-8bf6-031d80386795",
     "showTitle": false,
     "title": ""
    }
   },
   "outputs": [
    {
     "data": {
      "text/html": [
       "<style scoped>\n",
       "  .ansiout {\n",
       "    display: block;\n",
       "    unicode-bidi: embed;\n",
       "    white-space: pre-wrap;\n",
       "    word-wrap: break-word;\n",
       "    word-break: break-all;\n",
       "    font-family: \"Source Code Pro\", \"Menlo\", monospace;;\n",
       "    font-size: 13px;\n",
       "    color: #555;\n",
       "    margin-left: 4px;\n",
       "    line-height: 19px;\n",
       "  }\n",
       "</style>"
      ]
     },
     "metadata": {
      "application/vnd.databricks.v1+output": {
       "arguments": {},
       "data": "",
       "errorSummary": "Command skipped",
       "errorTraceType": "html",
       "metadata": {},
       "type": "ipynbError"
      }
     },
     "output_type": "display_data"
    }
   ],
   "source": [
    "predicted.take(1)"
   ]
  },
  {
   "cell_type": "code",
   "execution_count": 0,
   "metadata": {
    "application/vnd.databricks.v1+cell": {
     "inputWidgets": {},
     "nuid": "2e1cca56-fcbd-4bb1-aa61-af2b4930d1f5",
     "showTitle": false,
     "title": ""
    }
   },
   "outputs": [
    {
     "data": {
      "text/html": [
       "<style scoped>\n",
       "  .ansiout {\n",
       "    display: block;\n",
       "    unicode-bidi: embed;\n",
       "    white-space: pre-wrap;\n",
       "    word-wrap: break-word;\n",
       "    word-break: break-all;\n",
       "    font-family: \"Source Code Pro\", \"Menlo\", monospace;;\n",
       "    font-size: 13px;\n",
       "    color: #555;\n",
       "    margin-left: 4px;\n",
       "    line-height: 19px;\n",
       "  }\n",
       "</style>"
      ]
     },
     "metadata": {
      "application/vnd.databricks.v1+output": {
       "arguments": {},
       "data": "",
       "errorSummary": "Command skipped",
       "errorTraceType": "html",
       "metadata": {},
       "type": "ipynbError"
      }
     },
     "output_type": "display_data"
    }
   ],
   "source": [
    "predicted = predicted.withColumn(\"is_late\",is_late(predicted.arrdelay))\n",
    "predicted.crosstab(\"is_late\",\"prediction\").show()"
   ]
  },
  {
   "cell_type": "code",
   "execution_count": 0,
   "metadata": {
    "application/vnd.databricks.v1+cell": {
     "inputWidgets": {},
     "nuid": "bfce1337-85a2-4418-8129-9da368fb1604",
     "showTitle": false,
     "title": ""
    }
   },
   "outputs": [],
   "source": []
  },
  {
   "cell_type": "code",
   "execution_count": 0,
   "metadata": {
    "application/vnd.databricks.v1+cell": {
     "inputWidgets": {},
     "nuid": "e38abfe4-b3a8-4b0c-a883-9ac30a93f175",
     "showTitle": false,
     "title": ""
    }
   },
   "outputs": [],
   "source": []
  },
  {
   "cell_type": "code",
   "execution_count": 0,
   "metadata": {
    "application/vnd.databricks.v1+cell": {
     "inputWidgets": {},
     "nuid": "43ae2740-028d-442f-97f3-58c4ea054c8a",
     "showTitle": false,
     "title": ""
    }
   },
   "outputs": [],
   "source": []
  }
 ],
 "metadata": {
  "application/vnd.databricks.v1+notebook": {
   "dashboards": [],
   "language": "python",
   "notebookMetadata": {
    "pythonIndentUnit": 4
   },
   "notebookName": "Mini_Project",
   "notebookOrigID": 2222776008044402,
   "widgets": {}
  },
  "kernelspec": {
   "display_name": "Python 3 (ipykernel)",
   "language": "python",
   "name": "python3"
  },
  "language_info": {
   "codemirror_mode": {
    "name": "ipython",
    "version": 3
   },
   "file_extension": ".py",
   "mimetype": "text/x-python",
   "name": "python",
   "nbconvert_exporter": "python",
   "pygments_lexer": "ipython3",
   "version": "3.9.7"
  }
 },
 "nbformat": 4,
 "nbformat_minor": 1
}
